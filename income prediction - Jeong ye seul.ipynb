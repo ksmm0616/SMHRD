{
 "cells": [
  {
   "cell_type": "code",
   "execution_count": 1,
   "metadata": {},
   "outputs": [],
   "source": [
    "import pandas as pd\n",
    "from matplotlib import pyplot as plt\n",
    "import numpy as np\n",
    "import seaborn as sns\n",
    "%matplotlib inline\n",
    "import warnings\n",
    "warnings.filterwarnings(\"ignore\")"
   ]
  },
  {
   "cell_type": "code",
   "execution_count": 2,
   "metadata": {},
   "outputs": [],
   "source": [
    "from sklearn.tree import DecisionTreeClassifier\n",
    "from sklearn.ensemble import RandomForestClassifier\n",
    "from sklearn.svm import SVC \n",
    "from sklearn.linear_model import LogisticRegression\n",
    "from sklearn.metrics import confusion_matrix, classification_report, roc_curve, auc, accuracy_score\n",
    "from sklearn.preprocessing import MinMaxScaler, LabelEncoder\n",
    "from sklearn.model_selection import train_test_split, GridSearchCV, cross_val_score \n",
    "from sklearn.ensemble import GradientBoostingClassifier\n",
    "from xgboost import XGBClassifier\n",
    "from catboost import CatBoostClassifier\n",
    "from sklearn.ensemble import AdaBoostClassifier\n",
    "from lightgbm import LGBMClassifier"
   ]
  },
  {
   "cell_type": "code",
   "execution_count": 3,
   "metadata": {},
   "outputs": [],
   "source": [
    "train = pd.read_csv(\"../data/train.csv\")\n",
    "test = pd.read_csv(\"../data/test.csv\")"
   ]
  },
  {
   "cell_type": "code",
   "execution_count": 4,
   "metadata": {},
   "outputs": [
    {
     "data": {
      "text/plain": [
       "(189697, 42)"
      ]
     },
     "execution_count": 4,
     "metadata": {},
     "output_type": "execute_result"
    }
   ],
   "source": [
    "train.shape"
   ]
  },
  {
   "cell_type": "code",
   "execution_count": 5,
   "metadata": {},
   "outputs": [
    {
     "data": {
      "text/plain": [
       "(59762, 41)"
      ]
     },
     "execution_count": 5,
     "metadata": {},
     "output_type": "execute_result"
    }
   ],
   "source": [
    "test.shape"
   ]
  },
  {
   "cell_type": "code",
   "execution_count": 6,
   "metadata": {},
   "outputs": [],
   "source": [
    "y = train['income']"
   ]
  },
  {
   "cell_type": "code",
   "execution_count": 7,
   "metadata": {},
   "outputs": [],
   "source": [
    "del train['income']"
   ]
  },
  {
   "cell_type": "code",
   "execution_count": 8,
   "metadata": {},
   "outputs": [],
   "source": [
    "data= pd.concat([train,test],axis=0)\n",
    "del data['ID']"
   ]
  },
  {
   "cell_type": "code",
   "execution_count": 9,
   "metadata": {},
   "outputs": [],
   "source": [
    "data.reset_index(drop=True,inplace=True)"
   ]
  },
  {
   "cell_type": "code",
   "execution_count": 10,
   "metadata": {},
   "outputs": [
    {
     "name": "stdout",
     "output_type": "stream",
     "text": [
      "<class 'pandas.core.frame.DataFrame'>\n",
      "RangeIndex: 249459 entries, 0 to 249458\n",
      "Data columns (total 40 columns):\n",
      "age                                           242985 non-null float64\n",
      "class of worker                               248584 non-null object\n",
      "detailed industry recode                      249350 non-null float64\n",
      "detailed occupation recode                    249459 non-null int64\n",
      "education                                     248803 non-null object\n",
      "wage per hour                                 249459 non-null int64\n",
      "enroll in edu inst last wk                    248897 non-null object\n",
      "marital stat                                  249459 non-null object\n",
      "major industry code                           248307 non-null object\n",
      "major occupation code                         249244 non-null object\n",
      "race                                          249283 non-null object\n",
      "hispanic origin                               249459 non-null object\n",
      "sex                                           244388 non-null object\n",
      "member of a labor union                       249459 non-null object\n",
      "reason for unemployment                       249038 non-null object\n",
      "full or part time employment stat             247911 non-null object\n",
      "capital gains                                 249035 non-null float64\n",
      "capital losses                                249459 non-null int64\n",
      "dividends from stocks                         248216 non-null float64\n",
      "tax filer stat                                233557 non-null object\n",
      "region of previous residence                  249459 non-null object\n",
      "state of previous residence                   249459 non-null object\n",
      "detailed household and family stat            248240 non-null object\n",
      "detailed household summary in household       249459 non-null object\n",
      "migration code-change in msa                  249459 non-null object\n",
      "migration code-change in reg                  249459 non-null object\n",
      "migration code-move within reg                249459 non-null object\n",
      "live in this house 1 year ago                 249459 non-null object\n",
      "migration prev res in sunbelt                 249459 non-null object\n",
      "num persons worked for employer               249459 non-null int64\n",
      "family members under 18                       249459 non-null object\n",
      "country of birth father                       249459 non-null object\n",
      "country of birth mother                       249459 non-null object\n",
      "country of birth self                         249459 non-null object\n",
      "citizenship                                   249459 non-null object\n",
      "own business or self employed                 249459 non-null int64\n",
      "fill inc questionnaire for veteran's admin    249459 non-null object\n",
      "veterans benefits                             249459 non-null int64\n",
      "weeks worked in year                          249308 non-null float64\n",
      "year                                          248037 non-null object\n",
      "dtypes: float64(5), int64(6), object(29)\n",
      "memory usage: 76.1+ MB\n"
     ]
    }
   ],
   "source": [
    "data.info()"
   ]
  },
  {
   "cell_type": "code",
   "execution_count": 11,
   "metadata": {},
   "outputs": [
    {
     "data": {
      "text/html": [
       "<div>\n",
       "<style scoped>\n",
       "    .dataframe tbody tr th:only-of-type {\n",
       "        vertical-align: middle;\n",
       "    }\n",
       "\n",
       "    .dataframe tbody tr th {\n",
       "        vertical-align: top;\n",
       "    }\n",
       "\n",
       "    .dataframe thead th {\n",
       "        text-align: right;\n",
       "    }\n",
       "</style>\n",
       "<table border=\"1\" class=\"dataframe\">\n",
       "  <thead>\n",
       "    <tr style=\"text-align: right;\">\n",
       "      <th></th>\n",
       "      <th>age</th>\n",
       "      <th>class of worker</th>\n",
       "      <th>detailed industry recode</th>\n",
       "      <th>detailed occupation recode</th>\n",
       "      <th>education</th>\n",
       "      <th>wage per hour</th>\n",
       "      <th>enroll in edu inst last wk</th>\n",
       "      <th>marital stat</th>\n",
       "      <th>major industry code</th>\n",
       "      <th>major occupation code</th>\n",
       "      <th>...</th>\n",
       "      <th>family members under 18</th>\n",
       "      <th>country of birth father</th>\n",
       "      <th>country of birth mother</th>\n",
       "      <th>country of birth self</th>\n",
       "      <th>citizenship</th>\n",
       "      <th>own business or self employed</th>\n",
       "      <th>fill inc questionnaire for veteran's admin</th>\n",
       "      <th>veterans benefits</th>\n",
       "      <th>weeks worked in year</th>\n",
       "      <th>year</th>\n",
       "    </tr>\n",
       "  </thead>\n",
       "  <tbody>\n",
       "    <tr>\n",
       "      <td>0</td>\n",
       "      <td>47.0</td>\n",
       "      <td>Federal government</td>\n",
       "      <td>31.0</td>\n",
       "      <td>4</td>\n",
       "      <td>Bachelors degree(BA AB BS)</td>\n",
       "      <td>0</td>\n",
       "      <td>Not in universe</td>\n",
       "      <td>Married-civilian spouse present</td>\n",
       "      <td>Utilities and sanitary services</td>\n",
       "      <td>Professional specialty</td>\n",
       "      <td>...</td>\n",
       "      <td>Not in universe</td>\n",
       "      <td>United-States</td>\n",
       "      <td>United-States</td>\n",
       "      <td>United-States</td>\n",
       "      <td>Native- Born in the United States</td>\n",
       "      <td>2</td>\n",
       "      <td>Not in universe</td>\n",
       "      <td>2</td>\n",
       "      <td>52.0</td>\n",
       "      <td>95</td>\n",
       "    </tr>\n",
       "    <tr>\n",
       "      <td>1</td>\n",
       "      <td>26.0</td>\n",
       "      <td>Private</td>\n",
       "      <td>36.0</td>\n",
       "      <td>27</td>\n",
       "      <td>High school graduate</td>\n",
       "      <td>425</td>\n",
       "      <td>Not in universe</td>\n",
       "      <td>Never married</td>\n",
       "      <td>Private household services</td>\n",
       "      <td>Private household services</td>\n",
       "      <td>...</td>\n",
       "      <td>Not in universe</td>\n",
       "      <td>United-States</td>\n",
       "      <td>United-States</td>\n",
       "      <td>United-States</td>\n",
       "      <td>Native- Born in the United States</td>\n",
       "      <td>0</td>\n",
       "      <td>Not in universe</td>\n",
       "      <td>2</td>\n",
       "      <td>16.0</td>\n",
       "      <td>95</td>\n",
       "    </tr>\n",
       "    <tr>\n",
       "      <td>2</td>\n",
       "      <td>48.0</td>\n",
       "      <td>Self-employed-not incorporated</td>\n",
       "      <td>33.0</td>\n",
       "      <td>16</td>\n",
       "      <td>High school graduate</td>\n",
       "      <td>0</td>\n",
       "      <td>Not in universe</td>\n",
       "      <td>Married-civilian spouse present</td>\n",
       "      <td>Retail trade</td>\n",
       "      <td>Sales</td>\n",
       "      <td>...</td>\n",
       "      <td>Not in universe</td>\n",
       "      <td>United-States</td>\n",
       "      <td>United-States</td>\n",
       "      <td>United-States</td>\n",
       "      <td>Native- Born in the United States</td>\n",
       "      <td>0</td>\n",
       "      <td>Not in universe</td>\n",
       "      <td>2</td>\n",
       "      <td>50.0</td>\n",
       "      <td>95</td>\n",
       "    </tr>\n",
       "    <tr>\n",
       "      <td>3</td>\n",
       "      <td>8.0</td>\n",
       "      <td>Not in universe</td>\n",
       "      <td>0.0</td>\n",
       "      <td>0</td>\n",
       "      <td>Children</td>\n",
       "      <td>0</td>\n",
       "      <td>Not in universe</td>\n",
       "      <td>Never married</td>\n",
       "      <td>Not in universe or children</td>\n",
       "      <td>Not in universe</td>\n",
       "      <td>...</td>\n",
       "      <td>Both parents present</td>\n",
       "      <td>United-States</td>\n",
       "      <td>United-States</td>\n",
       "      <td>United-States</td>\n",
       "      <td>Native- Born in the United States</td>\n",
       "      <td>0</td>\n",
       "      <td>Not in universe</td>\n",
       "      <td>0</td>\n",
       "      <td>0.0</td>\n",
       "      <td>95</td>\n",
       "    </tr>\n",
       "    <tr>\n",
       "      <td>4</td>\n",
       "      <td>51.0</td>\n",
       "      <td>Private</td>\n",
       "      <td>8.0</td>\n",
       "      <td>26</td>\n",
       "      <td>Some college but no degree</td>\n",
       "      <td>0</td>\n",
       "      <td>Not in universe</td>\n",
       "      <td>Married-civilian spouse present</td>\n",
       "      <td>Manufacturing-durable goods</td>\n",
       "      <td>Adm support including clerical</td>\n",
       "      <td>...</td>\n",
       "      <td>Not in universe</td>\n",
       "      <td>United-States</td>\n",
       "      <td>United-States</td>\n",
       "      <td>United-States</td>\n",
       "      <td>Native- Born in the United States</td>\n",
       "      <td>0</td>\n",
       "      <td>Not in universe</td>\n",
       "      <td>2</td>\n",
       "      <td>52.0</td>\n",
       "      <td>95</td>\n",
       "    </tr>\n",
       "  </tbody>\n",
       "</table>\n",
       "<p>5 rows × 40 columns</p>\n",
       "</div>"
      ],
      "text/plain": [
       "    age                  class of worker  detailed industry recode  \\\n",
       "0  47.0               Federal government                      31.0   \n",
       "1  26.0                          Private                      36.0   \n",
       "2  48.0   Self-employed-not incorporated                      33.0   \n",
       "3   8.0                  Not in universe                       0.0   \n",
       "4  51.0                          Private                       8.0   \n",
       "\n",
       "   detailed occupation recode                    education  wage per hour  \\\n",
       "0                           4   Bachelors degree(BA AB BS)              0   \n",
       "1                          27         High school graduate            425   \n",
       "2                          16         High school graduate              0   \n",
       "3                           0                     Children              0   \n",
       "4                          26   Some college but no degree              0   \n",
       "\n",
       "  enroll in edu inst last wk                      marital stat  \\\n",
       "0            Not in universe   Married-civilian spouse present   \n",
       "1            Not in universe                     Never married   \n",
       "2            Not in universe   Married-civilian spouse present   \n",
       "3            Not in universe                     Never married   \n",
       "4            Not in universe   Married-civilian spouse present   \n",
       "\n",
       "                major industry code            major occupation code  ...  \\\n",
       "0   Utilities and sanitary services           Professional specialty  ...   \n",
       "1        Private household services       Private household services  ...   \n",
       "2                      Retail trade                            Sales  ...   \n",
       "3       Not in universe or children                  Not in universe  ...   \n",
       "4       Manufacturing-durable goods   Adm support including clerical  ...   \n",
       "\n",
       "  family members under 18 country of birth father country of birth mother  \\\n",
       "0         Not in universe           United-States           United-States   \n",
       "1         Not in universe           United-States           United-States   \n",
       "2         Not in universe           United-States           United-States   \n",
       "3    Both parents present           United-States           United-States   \n",
       "4         Not in universe           United-States           United-States   \n",
       "\n",
       "  country of birth self                         citizenship  \\\n",
       "0         United-States   Native- Born in the United States   \n",
       "1         United-States   Native- Born in the United States   \n",
       "2         United-States   Native- Born in the United States   \n",
       "3         United-States   Native- Born in the United States   \n",
       "4         United-States   Native- Born in the United States   \n",
       "\n",
       "  own business or self employed  fill inc questionnaire for veteran's admin  \\\n",
       "0                             2                             Not in universe   \n",
       "1                             0                             Not in universe   \n",
       "2                             0                             Not in universe   \n",
       "3                             0                             Not in universe   \n",
       "4                             0                             Not in universe   \n",
       "\n",
       "   veterans benefits  weeks worked in year year  \n",
       "0                  2                  52.0   95  \n",
       "1                  2                  16.0   95  \n",
       "2                  2                  50.0   95  \n",
       "3                  0                   0.0   95  \n",
       "4                  2                  52.0   95  \n",
       "\n",
       "[5 rows x 40 columns]"
      ]
     },
     "execution_count": 11,
     "metadata": {},
     "output_type": "execute_result"
    }
   ],
   "source": [
    "data.head()"
   ]
  },
  {
   "cell_type": "code",
   "execution_count": 12,
   "metadata": {},
   "outputs": [
    {
     "data": {
      "text/plain": [
       "age                                            6474\n",
       "class of worker                                 875\n",
       "detailed industry recode                        109\n",
       "detailed occupation recode                        0\n",
       "education                                       656\n",
       "wage per hour                                     0\n",
       "enroll in edu inst last wk                      562\n",
       "marital stat                                      0\n",
       "major industry code                            1152\n",
       "major occupation code                           215\n",
       "race                                            176\n",
       "hispanic origin                                   0\n",
       "sex                                            5071\n",
       "member of a labor union                           0\n",
       "reason for unemployment                         421\n",
       "full or part time employment stat              1548\n",
       "capital gains                                   424\n",
       "capital losses                                    0\n",
       "dividends from stocks                          1243\n",
       "tax filer stat                                15902\n",
       "region of previous residence                      0\n",
       "state of previous residence                       0\n",
       "detailed household and family stat             1219\n",
       "detailed household summary in household           0\n",
       "migration code-change in msa                      0\n",
       "migration code-change in reg                      0\n",
       "migration code-move within reg                    0\n",
       "live in this house 1 year ago                     0\n",
       "migration prev res in sunbelt                     0\n",
       "num persons worked for employer                   0\n",
       "family members under 18                           0\n",
       "country of birth father                           0\n",
       "country of birth mother                           0\n",
       "country of birth self                             0\n",
       "citizenship                                       0\n",
       "own business or self employed                     0\n",
       "fill inc questionnaire for veteran's admin        0\n",
       "veterans benefits                                 0\n",
       "weeks worked in year                            151\n",
       "year                                           1422\n",
       "dtype: int64"
      ]
     },
     "execution_count": 12,
     "metadata": {},
     "output_type": "execute_result"
    }
   ],
   "source": [
    "## 결측치 확인\n",
    "data.isnull().sum()"
   ]
  },
  {
   "cell_type": "code",
   "execution_count": 13,
   "metadata": {},
   "outputs": [
    {
     "name": "stdout",
     "output_type": "stream",
     "text": [
      "<class 'pandas.core.frame.DataFrame'>\n",
      "RangeIndex: 249459 entries, 0 to 249458\n",
      "Data columns (total 40 columns):\n",
      "age                                           242985 non-null float64\n",
      "class of worker                               248584 non-null object\n",
      "detailed industry recode                      249350 non-null float64\n",
      "detailed occupation recode                    249459 non-null int64\n",
      "education                                     248803 non-null object\n",
      "wage per hour                                 249459 non-null int64\n",
      "enroll in edu inst last wk                    248897 non-null object\n",
      "marital stat                                  249459 non-null object\n",
      "major industry code                           248307 non-null object\n",
      "major occupation code                         249244 non-null object\n",
      "race                                          249283 non-null object\n",
      "hispanic origin                               249459 non-null object\n",
      "sex                                           244388 non-null object\n",
      "member of a labor union                       249459 non-null object\n",
      "reason for unemployment                       249038 non-null object\n",
      "full or part time employment stat             247911 non-null object\n",
      "capital gains                                 249035 non-null float64\n",
      "capital losses                                249459 non-null int64\n",
      "dividends from stocks                         248216 non-null float64\n",
      "tax filer stat                                233557 non-null object\n",
      "region of previous residence                  249459 non-null object\n",
      "state of previous residence                   249459 non-null object\n",
      "detailed household and family stat            248240 non-null object\n",
      "detailed household summary in household       249459 non-null object\n",
      "migration code-change in msa                  249459 non-null object\n",
      "migration code-change in reg                  249459 non-null object\n",
      "migration code-move within reg                249459 non-null object\n",
      "live in this house 1 year ago                 249459 non-null object\n",
      "migration prev res in sunbelt                 249459 non-null object\n",
      "num persons worked for employer               249459 non-null int64\n",
      "family members under 18                       249459 non-null object\n",
      "country of birth father                       249459 non-null object\n",
      "country of birth mother                       249459 non-null object\n",
      "country of birth self                         249459 non-null object\n",
      "citizenship                                   249459 non-null object\n",
      "own business or self employed                 249459 non-null int64\n",
      "fill inc questionnaire for veteran's admin    249459 non-null object\n",
      "veterans benefits                             249459 non-null int64\n",
      "weeks worked in year                          249308 non-null float64\n",
      "year                                          248037 non-null object\n",
      "dtypes: float64(5), int64(6), object(29)\n",
      "memory usage: 76.1+ MB\n"
     ]
    }
   ],
   "source": [
    "data.info()"
   ]
  },
  {
   "cell_type": "code",
   "execution_count": 14,
   "metadata": {},
   "outputs": [
    {
     "name": "stdout",
     "output_type": "stream",
     "text": [
      "detailed occupation recode\n",
      "wage per hour\n",
      "marital stat\n",
      "hispanic origin\n",
      "member of a labor union\n",
      "capital losses\n",
      "region of previous residence\n",
      "state of previous residence\n",
      "detailed household summary in household\n",
      "migration code-change in msa\n",
      "migration code-change in reg\n",
      "migration code-move within reg\n",
      "live in this house 1 year ago\n",
      "migration prev res in sunbelt\n",
      "num persons worked for employer\n",
      "family members under 18\n",
      "country of birth father\n",
      "country of birth mother\n",
      "country of birth self\n",
      "citizenship\n",
      "own business or self employed\n",
      "fill inc questionnaire for veteran's admin\n",
      "veterans benefits\n"
     ]
    }
   ],
   "source": [
    "for col in data.columns :\n",
    "    if data[col].isnull().sum() == 0 :\n",
    "        print(col)"
   ]
  },
  {
   "cell_type": "code",
   "execution_count": 15,
   "metadata": {},
   "outputs": [
    {
     "name": "stdout",
     "output_type": "stream",
     "text": [
      "age\n",
      "class of worker\n",
      "detailed industry recode\n",
      "education\n",
      "enroll in edu inst last wk\n",
      "major industry code\n",
      "major occupation code\n",
      "race\n",
      "sex\n",
      "reason for unemployment\n",
      "full or part time employment stat\n",
      "capital gains\n",
      "dividends from stocks\n",
      "tax filer stat\n",
      "detailed household and family stat\n",
      "weeks worked in year\n",
      "year\n"
     ]
    }
   ],
   "source": [
    "for col in data.columns :\n",
    "    if data[col].isnull().sum() != 0 :\n",
    "        print(col)"
   ]
  },
  {
   "cell_type": "code",
   "execution_count": 16,
   "metadata": {},
   "outputs": [],
   "source": [
    "from tqdm import tqdm_notebook"
   ]
  },
  {
   "cell_type": "markdown",
   "metadata": {},
   "source": [
    "def get_out(col):\n",
    "    for row in tqdm_notebook(range(len(data))):\n",
    "        if(pd.isnull(data.loc[row,col])):\n",
    "            pass\n",
    "        else:\n",
    "            data.loc[row,col] = data.loc[row,col].strip()"
   ]
  },
  {
   "cell_type": "markdown",
   "metadata": {},
   "source": [
    "for col in tqdm_notebook(data.columns):\n",
    "    if (data[col].dtype == \"object\"):\n",
    "        get_out(col)\n",
    "    else:\n",
    "        pass"
   ]
  },
  {
   "cell_type": "markdown",
   "metadata": {},
   "source": [
    "for row in tqdm_notebook(range(len(data))):\n",
    "    if(pd.isnull(data.loc[row,\"class of worker\"])):\n",
    "        pass\n",
    "    else:\n",
    "        data[\"class of worker\"][row] = data[\"class of worker\"][row].replace(\" \",\"\")"
   ]
  },
  {
   "cell_type": "markdown",
   "metadata": {},
   "source": [
    "data.to_csv(\"체크포인트.csv\")"
   ]
  },
  {
   "cell_type": "markdown",
   "metadata": {},
   "source": [
    "## 1. Age"
   ]
  },
  {
   "cell_type": "markdown",
   "metadata": {},
   "source": [
    "#### 1. 연령대별 분류"
   ]
  },
  {
   "cell_type": "code",
   "execution_count": 17,
   "metadata": {},
   "outputs": [
    {
     "data": {
      "text/plain": [
       "0.0     9890\n",
       "34.0    4229\n",
       "35.0    4196\n",
       "33.0    4117\n",
       "36.0    4070\n",
       "        ... \n",
       "85.0     521\n",
       "86.0     406\n",
       "87.0     367\n",
       "88.0     313\n",
       "89.0     246\n",
       "Name: age, Length: 91, dtype: int64"
      ]
     },
     "execution_count": 17,
     "metadata": {},
     "output_type": "execute_result"
    }
   ],
   "source": [
    "data['age'].fillna(0, inplace = True)\n",
    "data['age'].value_counts()"
   ]
  },
  {
   "cell_type": "code",
   "execution_count": 18,
   "metadata": {},
   "outputs": [],
   "source": [
    "### 0~18 미성년, 18~25 청년, 26~39 중년, 40~59 중장년, 60~79 장년, 80~ 노년\n",
    "age_bin = [0, 18, 25, 40, 60, 80, 100]\n",
    "age_label = ['child','young','middle','prime','old','elder']\n",
    "age_cats = pd.cut(data['age'], age_bin, labels = age_label)"
   ]
  },
  {
   "cell_type": "code",
   "execution_count": 19,
   "metadata": {
    "scrolled": true
   },
   "outputs": [
    {
     "data": {
      "text/plain": [
       "9890"
      ]
     },
     "execution_count": 19,
     "metadata": {},
     "output_type": "execute_result"
    }
   ],
   "source": [
    "age_cats.isnull().sum()"
   ]
  },
  {
   "cell_type": "markdown",
   "metadata": {},
   "source": [
    "#### 2. detailed household summary in household 칼럼 참조/ 결측치 채우기"
   ]
  },
  {
   "cell_type": "code",
   "execution_count": 20,
   "metadata": {},
   "outputs": [
    {
     "data": {
      "application/vnd.jupyter.widget-view+json": {
       "model_id": "4fe1aa34fb8c4b42a4a332795f0f99cb",
       "version_major": 2,
       "version_minor": 0
      },
      "text/plain": [
       "HBox(children=(IntProgress(value=0, max=249459), HTML(value='')))"
      ]
     },
     "metadata": {},
     "output_type": "display_data"
    },
    {
     "name": "stdout",
     "output_type": "stream",
     "text": [
      "\n"
     ]
    }
   ],
   "source": [
    "### Child under 18 never married 면 child로 분류 \n",
    "### Child under 18 ever married 또는 Child 18 or older 면 young로 분류\n",
    "### \n",
    "for i in tqdm_notebook(range(len(data))) :\n",
    "    if pd.isnull(age_cats[i]) :\n",
    "        if data['detailed household summary in household'][i] == ' Child under 18 never married' :\n",
    "            age_cats[i] = 'child'\n",
    "        if data['detailed household summary in household'][i] == ' Child under 18 ever married' :\n",
    "            age_cats[i] = 'child'\n",
    "        if data['detailed household summary in household'][i] == ' Child 18 or older' :\n",
    "            age_cats[i] = 'young'"
   ]
  },
  {
   "cell_type": "markdown",
   "metadata": {},
   "source": [
    "#### 3. family members under 18 칼럼 참조/ child 채우기"
   ]
  },
  {
   "cell_type": "code",
   "execution_count": 21,
   "metadata": {},
   "outputs": [
    {
     "data": {
      "text/plain": [
       "656"
      ]
     },
     "execution_count": 21,
     "metadata": {},
     "output_type": "execute_result"
    }
   ],
   "source": [
    "data['education'].isnull().sum()"
   ]
  },
  {
   "cell_type": "code",
   "execution_count": 22,
   "metadata": {},
   "outputs": [
    {
     "data": {
      "application/vnd.jupyter.widget-view+json": {
       "model_id": "dbb496c15659483aad9d90c50408072e",
       "version_major": 2,
       "version_minor": 0
      },
      "text/plain": [
       "HBox(children=(IntProgress(value=0, max=249459), HTML(value='')))"
      ]
     },
     "metadata": {},
     "output_type": "display_data"
    },
    {
     "name": "stdout",
     "output_type": "stream",
     "text": [
      "\n"
     ]
    }
   ],
   "source": [
    "for i in tqdm_notebook(range(len(data))) :\n",
    "    if pd.isnull(age_cats[i]) :\n",
    "        if data['family members under 18'][i] != ' Not in universe' and not pd.isnull(data['family members under 18'][i]) :\n",
    "            age_cats[i] = 'child'\n",
    "        if data['education'][i] == ' Children' :\n",
    "            age_cats[i] = 'child'\n",
    "        if data['detailed household and family stat'][i] == ' Child <18 never marr not in subfamily' :\n",
    "            age_cats[i] = 'child'\n",
    "            \n",
    "### 나이만 뽑고 나면 del 해서 칼럼 지워도 될듯??"
   ]
  },
  {
   "cell_type": "code",
   "execution_count": 23,
   "metadata": {},
   "outputs": [
    {
     "data": {
      "text/plain": [
       "0"
      ]
     },
     "execution_count": 23,
     "metadata": {},
     "output_type": "execute_result"
    }
   ],
   "source": [
    "data['marital stat'].isnull().sum()"
   ]
  },
  {
   "cell_type": "code",
   "execution_count": 24,
   "metadata": {},
   "outputs": [
    {
     "data": {
      "application/vnd.jupyter.widget-view+json": {
       "model_id": "c8afabbb66f7429794ade60b10afdcdc",
       "version_major": 2,
       "version_minor": 0
      },
      "text/plain": [
       "HBox(children=(IntProgress(value=0, max=249459), HTML(value='')))"
      ]
     },
     "metadata": {},
     "output_type": "display_data"
    },
    {
     "name": "stdout",
     "output_type": "stream",
     "text": [
      "\n"
     ]
    }
   ],
   "source": [
    "## 1. marital stat이 widowed면  old로 분류  \n",
    "## 2. Divorced면 middle\n",
    "for i in tqdm_notebook(range(len(data))) :\n",
    "    if pd.isnull(age_cats[i]) :\n",
    "        if data['marital stat'][i] == ' Widowed' :\n",
    "            age_cats[i] = 'old'\n",
    "        if data['marital stat'][i] == '  Divorced' :\n",
    "            age_cats[i] = 'prime'\n",
    "        if data['marital stat'][i] == ' Married-civilian spouse present' :\n",
    "            age_cats[i] = 'prime'\n",
    "        if data['marital stat'][i] == ' Separated' :\n",
    "            age_cats[i] = 'middle'\n",
    "        if data['marital stat'][i] == ' Married-A F spouse present' :\n",
    "            age_cats[i] = 'middle'"
   ]
  },
  {
   "cell_type": "code",
   "execution_count": 25,
   "metadata": {},
   "outputs": [
    {
     "data": {
      "text/plain": [
       "child     72118\n",
       "middle    58406\n",
       "prime     58198\n",
       "old       31646\n",
       "young     22419\n",
       "elder      5666\n",
       "Name: age, dtype: int64"
      ]
     },
     "execution_count": 25,
     "metadata": {},
     "output_type": "execute_result"
    }
   ],
   "source": [
    "age_cats.value_counts()"
   ]
  },
  {
   "cell_type": "code",
   "execution_count": 26,
   "metadata": {},
   "outputs": [
    {
     "data": {
      "text/plain": [
       "1006"
      ]
     },
     "execution_count": 26,
     "metadata": {},
     "output_type": "execute_result"
    }
   ],
   "source": [
    "age_cats.isnull().sum()"
   ]
  },
  {
   "cell_type": "code",
   "execution_count": 27,
   "metadata": {},
   "outputs": [
    {
     "data": {
      "text/plain": [
       "33.7629951214428"
      ]
     },
     "execution_count": 27,
     "metadata": {},
     "output_type": "execute_result"
    }
   ],
   "source": [
    "data['age'].mean()"
   ]
  },
  {
   "cell_type": "code",
   "execution_count": 28,
   "metadata": {},
   "outputs": [
    {
     "data": {
      "application/vnd.jupyter.widget-view+json": {
       "model_id": "aae8309170b84f2685fcec2c9f2cad13",
       "version_major": 2,
       "version_minor": 0
      },
      "text/plain": [
       "HBox(children=(IntProgress(value=0, max=249459), HTML(value='')))"
      ]
     },
     "metadata": {},
     "output_type": "display_data"
    },
    {
     "name": "stdout",
     "output_type": "stream",
     "text": [
      "\n"
     ]
    }
   ],
   "source": [
    "for i in tqdm_notebook(range(len(data))) :\n",
    "    if pd.isnull(age_cats[i]) :\n",
    "        age_cats[i] = 'middle'"
   ]
  },
  {
   "cell_type": "code",
   "execution_count": 29,
   "metadata": {
    "scrolled": true
   },
   "outputs": [
    {
     "data": {
      "text/plain": [
       "0     prime\n",
       "1    middle\n",
       "2     prime\n",
       "3     child\n",
       "4     prime\n",
       "Name: age_cats, dtype: category\n",
       "Categories (6, object): [child < young < middle < prime < old < elder]"
      ]
     },
     "execution_count": 29,
     "metadata": {},
     "output_type": "execute_result"
    }
   ],
   "source": [
    "data[\"age_cats\"] = age_cats\n",
    "data['age_cats'].head()"
   ]
  },
  {
   "cell_type": "code",
   "execution_count": 30,
   "metadata": {},
   "outputs": [
    {
     "data": {
      "application/vnd.jupyter.widget-view+json": {
       "model_id": "30ab5b925a634810bf1e91c60aa05164",
       "version_major": 2,
       "version_minor": 0
      },
      "text/plain": [
       "HBox(children=(IntProgress(value=0, max=249459), HTML(value='')))"
      ]
     },
     "metadata": {},
     "output_type": "display_data"
    },
    {
     "name": "stdout",
     "output_type": "stream",
     "text": [
      "\n"
     ]
    }
   ],
   "source": [
    "### 0~18 미성년, 18~25 청년, 26~39 중년, 40~59 중장년, 60~79 장년, 80~ 노년\n",
    "for i in tqdm_notebook(range(len(data))) :\n",
    "    if pd.isnull(data['age'][i]) :\n",
    "        if data[\"age_cats\"] == 'child' :\n",
    "            data['age'][i] = 10\n",
    "        elif data[\"age_cats\"] == 'young' :    \n",
    "            data['age'][i] = 22\n",
    "        elif data[\"age_cats\"] == 'middle' :\n",
    "            data['age'][i] = 40\n",
    "        elif data[\"age_cats\"] == 'prime' :\n",
    "            data['age'][i] = 55\n",
    "        elif data[\"age_cats\"] == 'old' :\n",
    "            data['age'][i] = 70\n",
    "        elif data[\"age_cats\"] == 'elder' :\n",
    "            data['age'][i] = 85"
   ]
  },
  {
   "cell_type": "code",
   "execution_count": 31,
   "metadata": {},
   "outputs": [
    {
     "data": {
      "text/plain": [
       "0"
      ]
     },
     "execution_count": 31,
     "metadata": {},
     "output_type": "execute_result"
    }
   ],
   "source": [
    "data['age'].isnull().sum()"
   ]
  },
  {
   "cell_type": "markdown",
   "metadata": {},
   "source": [
    "## 2. Sex"
   ]
  },
  {
   "cell_type": "code",
   "execution_count": 32,
   "metadata": {},
   "outputs": [
    {
     "data": {
      "text/plain": [
       "5071"
      ]
     },
     "execution_count": 32,
     "metadata": {},
     "output_type": "execute_result"
    }
   ],
   "source": [
    "data['sex'].isnull().sum()"
   ]
  },
  {
   "cell_type": "markdown",
   "metadata": {},
   "source": [
    "### 1. 남성(householder)\n",
    "detailed household summary in household 칼럼 참조"
   ]
  },
  {
   "cell_type": "code",
   "execution_count": 33,
   "metadata": {},
   "outputs": [
    {
     "data": {
      "text/plain": [
       " Householder                             95579\n",
       " Child under 18 never married            62216\n",
       " Spouse of householder                   51910\n",
       " Child 18 or older                       17962\n",
       " Other relative of householder           12062\n",
       " Nonrelative of householder               9513\n",
       " Group Quarters- Secondary individual      161\n",
       " Child under 18 ever married                56\n",
       "Name: detailed household summary in household, dtype: int64"
      ]
     },
     "execution_count": 33,
     "metadata": {},
     "output_type": "execute_result"
    }
   ],
   "source": [
    "data['detailed household summary in household'].value_counts()"
   ]
  },
  {
   "cell_type": "markdown",
   "metadata": {},
   "source": [
    "Householder 면서 동시에 Nonfamily householder가 아니면 남성\n",
    "Spouse of householder 면 여성"
   ]
  },
  {
   "cell_type": "code",
   "execution_count": 34,
   "metadata": {},
   "outputs": [
    {
     "data": {
      "application/vnd.jupyter.widget-view+json": {
       "model_id": "076d84a7ac824c3884536efebfdd3b94",
       "version_major": 2,
       "version_minor": 0
      },
      "text/plain": [
       "HBox(children=(IntProgress(value=0, max=249459), HTML(value='')))"
      ]
     },
     "metadata": {},
     "output_type": "display_data"
    },
    {
     "name": "stdout",
     "output_type": "stream",
     "text": [
      "\n"
     ]
    },
    {
     "data": {
      "text/plain": [
       " Female    127265\n",
       " Male      119025\n",
       "?             444\n",
       "Name: sex, dtype: int64"
      ]
     },
     "execution_count": 34,
     "metadata": {},
     "output_type": "execute_result"
    }
   ],
   "source": [
    "from tqdm import tqdm_notebook\n",
    "for i in tqdm_notebook(range(len(data))) :\n",
    "    if not pd.isnull(data['sex'][i]) and data['sex'][i] !='?' :\n",
    "        pass\n",
    "    elif data['detailed household summary in household'][i] == ' Householder' \\\n",
    "    and data['detailed household and family stat'][i] != ' Nonfamily householder' :\n",
    "        data['sex'][i] = ' Male'\n",
    "    elif data['detailed household summary in household'][i] == ' Spouse of householder' :\n",
    "        data['sex'][i] = ' Female'\n",
    "data['sex'].value_counts()"
   ]
  },
  {
   "cell_type": "markdown",
   "metadata": {},
   "source": [
    "full or part time employment stat가 children or armed forces 이고 age_cats가 child이거나 age가 18세 미만이 아니면 남성"
   ]
  },
  {
   "cell_type": "code",
   "execution_count": 35,
   "metadata": {},
   "outputs": [
    {
     "data": {
      "text/plain": [
       "1548"
      ]
     },
     "execution_count": 35,
     "metadata": {},
     "output_type": "execute_result"
    }
   ],
   "source": [
    "data['full or part time employment stat'].isnull().sum()"
   ]
  },
  {
   "cell_type": "code",
   "execution_count": 36,
   "metadata": {},
   "outputs": [
    {
     "data": {
      "application/vnd.jupyter.widget-view+json": {
       "model_id": "3c9f129952954d889fc1b87c1f2bef44",
       "version_major": 2,
       "version_minor": 0
      },
      "text/plain": [
       "HBox(children=(IntProgress(value=0, max=249459), HTML(value='')))"
      ]
     },
     "metadata": {},
     "output_type": "display_data"
    },
    {
     "name": "stdout",
     "output_type": "stream",
     "text": [
      "\n"
     ]
    }
   ],
   "source": [
    "for i in tqdm_notebook(range(len(data))) :\n",
    "    if not pd.isnull(data['sex'][i]) and data['sex'][i] !='?' :\n",
    "        pass\n",
    "    elif data['full or part time employment stat'][i] == 'children or armed forces' and age_cats[i] == 'child' :\n",
    "        data['sex'][i] = ' Male'\n",
    "    elif data['full or part time employment stat'][i] == 'children or armed forces' and data['age'][i]>=18 :    \n",
    "        data['sex'][i] = ' Male'"
   ]
  },
  {
   "cell_type": "code",
   "execution_count": 37,
   "metadata": {
    "scrolled": true
   },
   "outputs": [
    {
     "data": {
      "application/vnd.jupyter.widget-view+json": {
       "model_id": "74fc5ee6ae72442faee35a73afdc1055",
       "version_major": 2,
       "version_minor": 0
      },
      "text/plain": [
       "HBox(children=(IntProgress(value=0, max=249459), HTML(value='')))"
      ]
     },
     "metadata": {},
     "output_type": "display_data"
    },
    {
     "name": "stdout",
     "output_type": "stream",
     "text": [
      "\n"
     ]
    }
   ],
   "source": [
    "###  Not in labor force >> Female\n",
    "for i in tqdm_notebook(range(len(data))) :\n",
    "    if not pd.isnull(data['sex'][i]) and data['sex'][i] !='?' :\n",
    "        pass\n",
    "    elif data['full or part time employment stat'][i] == ' Not in labor force' :\n",
    "        data['sex'][i] = ' Female'"
   ]
  },
  {
   "cell_type": "code",
   "execution_count": 38,
   "metadata": {},
   "outputs": [
    {
     "data": {
      "text/plain": [
       "1152"
      ]
     },
     "execution_count": 38,
     "metadata": {},
     "output_type": "execute_result"
    }
   ],
   "source": [
    "data['major industry code'].isnull().sum()"
   ]
  },
  {
   "cell_type": "code",
   "execution_count": 39,
   "metadata": {},
   "outputs": [
    {
     "data": {
      "text/plain": [
       " Not in universe or children            124140\n",
       " Retail trade                            21305\n",
       " Manufacturing-durable goods             11347\n",
       " Education                               10504\n",
       " Manufacturing-nondurable goods           8634\n",
       " Finance insurance and real estate        7760\n",
       " Construction                             7516\n",
       " Business and repair services             7237\n",
       " Medical except hospital                  5899\n",
       " Public administration                    5772\n",
       " Other professional services              5704\n",
       " Transportation                           5304\n",
       " Hospital services                        4886\n",
       " Wholesale trade                          4563\n",
       " Agriculture                              3712\n",
       " Personal services except private HH      3642\n",
       " Social services                          3108\n",
       " Entertainment                            2058\n",
       " Communications                           1507\n",
       " Utilities and sanitary services          1488\n",
       " Private household services               1174\n",
       " Mining                                    751\n",
       " Forestry and fisheries                    249\n",
       " Armed Forces                               47\n",
       "Name: major industry code, dtype: int64"
      ]
     },
     "execution_count": 39,
     "metadata": {},
     "output_type": "execute_result"
    }
   ],
   "source": [
    "data['major industry code'].value_counts()"
   ]
  },
  {
   "cell_type": "code",
   "execution_count": 40,
   "metadata": {},
   "outputs": [
    {
     "data": {
      "application/vnd.jupyter.widget-view+json": {
       "model_id": "a9ccc7a2e5984da092a66d281ea6ea3c",
       "version_major": 2,
       "version_minor": 0
      },
      "text/plain": [
       "HBox(children=(IntProgress(value=0, max=249459), HTML(value='')))"
      ]
     },
     "metadata": {},
     "output_type": "display_data"
    },
    {
     "name": "stdout",
     "output_type": "stream",
     "text": [
      "\n"
     ]
    }
   ],
   "source": [
    "###  직업코드 분류 : 남성\n",
    "for i in tqdm_notebook(range(len(data))) :\n",
    "    if not pd.isnull(data['sex'][i]) and data['sex'][i] !='?' :\n",
    "        pass\n",
    "    elif data['major industry code'][i] == ' Armed Forces' :\n",
    "        data['sex'][i] = ' Male'\n",
    "    elif data['major industry code'][i] == ' Manufacturing-durable goods' :\n",
    "        data['sex'][i] = ' Male'\n",
    "    elif data['major industry code'][i] == ' Manufacturing-nondurable goods' :\n",
    "        data['sex'][i] = ' Male'\n",
    "    elif data['major industry code'][i] == ' Mining' :\n",
    "        data['sex'][i] = ' Male'\n",
    "    elif data['major industry code'][i] == ' Forestry and fisheries' :\n",
    "        data['sex'][i] = ' Male'    \n",
    "    elif data['major industry code'][i] == ' Construction' :\n",
    "        data['sex'][i] = ' Male'\n",
    "    elif data['major industry code'][i] == ' Business and repair services' :\n",
    "        data['sex'][i] = ' Male'   \n",
    "    elif data['major industry code'][i] == ' Utilities and sanitary services' :\n",
    "        data['sex'][i] = ' Male'   \n",
    "    elif data['major industry code'][i] == ' Transportation' :\n",
    "        data['sex'][i] = ' Male'        \n",
    "    elif data['major industry code'][i] == ' Finance insurance and real estate' :\n",
    "        data['sex'][i] = ' Male'\n",
    "    elif data['major industry code'][i] == ' Other professional services' :\n",
    "        data['sex'][i] = ' Male'       "
   ]
  },
  {
   "cell_type": "code",
   "execution_count": 41,
   "metadata": {},
   "outputs": [
    {
     "data": {
      "application/vnd.jupyter.widget-view+json": {
       "model_id": "550e48f8b5d84702b6eef3182455e377",
       "version_major": 2,
       "version_minor": 0
      },
      "text/plain": [
       "HBox(children=(IntProgress(value=0, max=249459), HTML(value='')))"
      ]
     },
     "metadata": {},
     "output_type": "display_data"
    },
    {
     "name": "stdout",
     "output_type": "stream",
     "text": [
      "\n"
     ]
    }
   ],
   "source": [
    "### 직업 코드 분류 : 여성\n",
    "for i in tqdm_notebook(range(len(data))) :\n",
    "    if not pd.isnull(data['sex'][i]) and data['sex'][i] !='?' :\n",
    "        pass\n",
    "    elif data['major industry code'][i] == ' Private household services' :\n",
    "        data['sex'][i] = ' Female'\n",
    "    elif data['major industry code'][i] == ' Social services' :\n",
    "        data['sex'][i] = ' Female'    \n",
    "    elif data['major industry code'][i] == ' Medical except hospital' :\n",
    "        data['sex'][i] = ' Female'    \n",
    "    elif data['major industry code'][i] == ' Education' :\n",
    "        data['sex'][i] = ' Female'\n",
    "    elif data['major industry code'][i] == ' Entertainment' :\n",
    "        data['sex'][i] = ' Female'   \n",
    "    elif data['major industry code'][i] == ' Personal services except private HH' :\n",
    "        data['sex'][i] = ' Female'   \n",
    "    elif data['major industry code'][i] == ' Medical except hospital' :\n",
    "        data['sex'][i] = ' Female'   "
   ]
  },
  {
   "cell_type": "code",
   "execution_count": 42,
   "metadata": {},
   "outputs": [
    {
     "data": {
      "text/plain": [
       " Female    127783\n",
       " Male      119440\n",
       "?             302\n",
       "Name: sex, dtype: int64"
      ]
     },
     "execution_count": 42,
     "metadata": {},
     "output_type": "execute_result"
    }
   ],
   "source": [
    "data['sex'].value_counts()"
   ]
  },
  {
   "cell_type": "code",
   "execution_count": 43,
   "metadata": {},
   "outputs": [
    {
     "data": {
      "text/plain": [
       "1934"
      ]
     },
     "execution_count": 43,
     "metadata": {},
     "output_type": "execute_result"
    }
   ],
   "source": [
    "data['sex'].isnull().sum()"
   ]
  },
  {
   "cell_type": "code",
   "execution_count": 44,
   "metadata": {},
   "outputs": [
    {
     "data": {
      "application/vnd.jupyter.widget-view+json": {
       "model_id": "7ba2ca9d7736416e8eec3cd6ecf055d9",
       "version_major": 2,
       "version_minor": 0
      },
      "text/plain": [
       "HBox(children=(IntProgress(value=0, max=249459), HTML(value='')))"
      ]
     },
     "metadata": {},
     "output_type": "display_data"
    },
    {
     "name": "stdout",
     "output_type": "stream",
     "text": [
      "\n"
     ]
    },
    {
     "data": {
      "text/plain": [
       "0"
      ]
     },
     "execution_count": 44,
     "metadata": {},
     "output_type": "execute_result"
    }
   ],
   "source": [
    "##남은거 남자로 채움\n",
    "for i in tqdm_notebook(range(len(data))) :\n",
    "    if pd.isnull(data['sex'][i]) or data['sex'][i] =='?' :\n",
    "        data['sex'][i] = ' Male'\n",
    "data['sex'].isnull().sum()"
   ]
  },
  {
   "cell_type": "markdown",
   "metadata": {},
   "source": [
    "## 3. race"
   ]
  },
  {
   "cell_type": "code",
   "execution_count": 45,
   "metadata": {},
   "outputs": [
    {
     "data": {
      "text/plain": [
       "176"
      ]
     },
     "execution_count": 45,
     "metadata": {},
     "output_type": "execute_result"
    }
   ],
   "source": [
    "data['race'].isnull().sum()"
   ]
  },
  {
   "cell_type": "code",
   "execution_count": 46,
   "metadata": {},
   "outputs": [
    {
     "data": {
      "text/plain": [
       " White                          209270\n",
       " Black                           25367\n",
       " Asian or Pacific Islander        7274\n",
       " Other                            4552\n",
       " Amer Indian Aleut or Eskimo      2820\n",
       "Name: race, dtype: int64"
      ]
     },
     "execution_count": 46,
     "metadata": {},
     "output_type": "execute_result"
    }
   ],
   "source": [
    "data['race'].value_counts()"
   ]
  },
  {
   "cell_type": "code",
   "execution_count": 47,
   "metadata": {},
   "outputs": [
    {
     "data": {
      "application/vnd.jupyter.widget-view+json": {
       "model_id": "9dd3d454bef04881af74d8d2979edec6",
       "version_major": 2,
       "version_minor": 0
      },
      "text/plain": [
       "HBox(children=(IntProgress(value=0, max=249459), HTML(value='')))"
      ]
     },
     "metadata": {},
     "output_type": "display_data"
    },
    {
     "name": "stdout",
     "output_type": "stream",
     "text": [
      "\n"
     ]
    }
   ],
   "source": [
    "### 엄마아빠 출신지 usa일경우 백인 아니면 흐긴\n",
    "for i in tqdm_notebook(range(len(data))) :\n",
    "    if not pd.isnull(data['race'][i]) :\n",
    "        pass\n",
    "    elif data['country of birth father'][i] == ' United-States' and data['country of birth mother'][i] == ' United-States' :\n",
    "        data['race'][i] = ' White'\n",
    "    else : \n",
    "        data['race'][i] = ' Black'"
   ]
  },
  {
   "cell_type": "code",
   "execution_count": 48,
   "metadata": {},
   "outputs": [
    {
     "data": {
      "text/plain": [
       "0"
      ]
     },
     "execution_count": 48,
     "metadata": {},
     "output_type": "execute_result"
    }
   ],
   "source": [
    "data['race'].isnull().sum()"
   ]
  },
  {
   "cell_type": "markdown",
   "metadata": {},
   "source": [
    "## 4. class of worker"
   ]
  },
  {
   "cell_type": "code",
   "execution_count": 49,
   "metadata": {},
   "outputs": [
    {
     "data": {
      "text/plain": [
       "875"
      ]
     },
     "execution_count": 49,
     "metadata": {},
     "output_type": "execute_result"
    }
   ],
   "source": [
    "data['class of worker'].isnull().sum()"
   ]
  },
  {
   "cell_type": "code",
   "execution_count": 50,
   "metadata": {},
   "outputs": [
    {
     "data": {
      "text/plain": [
       " Not in universe                   123730\n",
       " Private                            90359\n",
       " Self-employed-not incorporated     10655\n",
       " Local government                    9814\n",
       " State government                    5330\n",
       " Self-employed-incorporated          4304\n",
       " Federal government                  3668\n",
       " Never worked                         534\n",
       " Without pay                          190\n",
       "Name: class of worker, dtype: int64"
      ]
     },
     "execution_count": 50,
     "metadata": {},
     "output_type": "execute_result"
    }
   ],
   "source": [
    "data['class of worker'].value_counts()"
   ]
  },
  {
   "cell_type": "code",
   "execution_count": 51,
   "metadata": {},
   "outputs": [
    {
     "data": {
      "text/plain": [
       " High school graduate                      60059\n",
       " Children                                  58272\n",
       " Some college but no degree                34722\n",
       " Bachelors degree(BA AB BS)                25345\n",
       " 7th and 8th grade                         10008\n",
       " 10th grade                                 9371\n",
       " 11th grade                                 8588\n",
       " Masters degree(MA MS MEng MEd MSW MBA)     8533\n",
       " 9th grade                                  7687\n",
       " Associates degree-occup /vocational        6634\n",
       " Associates degree-academic program         5449\n",
       " 5th or 6th grade                           4100\n",
       " 12th grade no diploma                      2687\n",
       " Prof school degree (MD DDS DVM LLB JD)     2418\n",
       " 1st 2nd 3rd or 4th grade                   2223\n",
       " Doctorate degree(PhD EdD)                  1699\n",
       " Less than 1st grade                        1008\n",
       "Name: education, dtype: int64"
      ]
     },
     "execution_count": 51,
     "metadata": {},
     "output_type": "execute_result"
    }
   ],
   "source": [
    "data['education'].value_counts()"
   ]
  },
  {
   "cell_type": "markdown",
   "metadata": {},
   "source": [
    "#### education 결측치 채우기"
   ]
  },
  {
   "cell_type": "code",
   "execution_count": 52,
   "metadata": {},
   "outputs": [],
   "source": [
    "##일단 제일 많은걸루\n",
    "data['education'].fillna(' High school graduate', inplace=True)"
   ]
  },
  {
   "cell_type": "code",
   "execution_count": 53,
   "metadata": {},
   "outputs": [
    {
     "data": {
      "text/plain": [
       "0"
      ]
     },
     "execution_count": 53,
     "metadata": {},
     "output_type": "execute_result"
    }
   ],
   "source": [
    "data['education'].isnull().sum()"
   ]
  },
  {
   "cell_type": "code",
   "execution_count": 54,
   "metadata": {},
   "outputs": [
    {
     "data": {
      "application/vnd.jupyter.widget-view+json": {
       "model_id": "9ca44c58fc8140e7a477eeff45e0e652",
       "version_major": 2,
       "version_minor": 0
      },
      "text/plain": [
       "HBox(children=(IntProgress(value=0, max=249459), HTML(value='')))"
      ]
     },
     "metadata": {},
     "output_type": "display_data"
    },
    {
     "name": "stdout",
     "output_type": "stream",
     "text": [
      "\n"
     ]
    }
   ],
   "source": [
    "## child나 elder, old 는 Not in universe 그 외 private\n",
    "for i in tqdm_notebook(range(len(data))) :\n",
    "    if not pd.isnull(data['class of worker'][i]) :\n",
    "        pass\n",
    "    elif data['age_cats'][i] == 'child' or data['age_cats'][i] == 'elder' or data['age_cats'][i] == 'old' :\n",
    "        data['class of worker'][i] = ' Not in universe'\n",
    "    else :   \n",
    "        data['class of worker'][i] = ' Private'"
   ]
  },
  {
   "cell_type": "code",
   "execution_count": 55,
   "metadata": {},
   "outputs": [
    {
     "data": {
      "text/plain": [
       "0"
      ]
     },
     "execution_count": 55,
     "metadata": {},
     "output_type": "execute_result"
    }
   ],
   "source": [
    "data['class of worker'].isnull().sum()"
   ]
  },
  {
   "cell_type": "markdown",
   "metadata": {},
   "source": [
    "detailed industry recode \\\n",
    "enroll in edu inst last wk  \\\n",
    "major industry code  \\\n",
    "major occupation code  \\\n",
    "reason for unemployment  \\\n",
    "full or part time employment stat  \\\n",
    "capital gains  \\\n",
    "dividends from stocks  \\\n",
    "tax filer stat  \\\n",
    "detailed household and family stat  \\\n",
    "weeks worked in year  \\\n",
    "year"
   ]
  },
  {
   "cell_type": "markdown",
   "metadata": {},
   "source": [
    "### 5. detailed industry recode"
   ]
  },
  {
   "cell_type": "code",
   "execution_count": 56,
   "metadata": {},
   "outputs": [
    {
     "data": {
      "text/plain": [
       "0.0     124624\n",
       "33.0     21401\n",
       "43.0     10557\n",
       "4.0       7545\n",
       "42.0      5927\n",
       "45.0      5731\n",
       "29.0      5334\n",
       "37.0      5198\n",
       "41.0      4905\n",
       "32.0      4582\n",
       "35.0      4252\n",
       "39.0      3659\n",
       "34.0      3534\n",
       "44.0      3122\n",
       "2.0       2716\n",
       "11.0      2274\n",
       "50.0      2152\n",
       "47.0      2081\n",
       "38.0      2078\n",
       "40.0      2066\n",
       "24.0      1878\n",
       "12.0      1728\n",
       "19.0      1705\n",
       "30.0      1511\n",
       "31.0      1494\n",
       "25.0      1370\n",
       "9.0       1232\n",
       "36.0      1182\n",
       "22.0      1180\n",
       "13.0      1155\n",
       "1.0       1015\n",
       "48.0       805\n",
       "27.0       776\n",
       "3.0        753\n",
       "49.0       753\n",
       "21.0       714\n",
       "8.0        698\n",
       "5.0        686\n",
       "6.0        677\n",
       "23.0       671\n",
       "16.0       663\n",
       "15.0       583\n",
       "18.0       581\n",
       "7.0        551\n",
       "14.0       368\n",
       "46.0       249\n",
       "17.0       193\n",
       "28.0       174\n",
       "26.0       172\n",
       "51.0        47\n",
       "20.0        45\n",
       "10.0         3\n",
       "Name: detailed industry recode, dtype: int64"
      ]
     },
     "execution_count": 56,
     "metadata": {},
     "output_type": "execute_result"
    }
   ],
   "source": [
    "data['detailed industry recode'].value_counts()"
   ]
  },
  {
   "cell_type": "code",
   "execution_count": 57,
   "metadata": {},
   "outputs": [
    {
     "data": {
      "text/plain": [
       "109"
      ]
     },
     "execution_count": 57,
     "metadata": {},
     "output_type": "execute_result"
    }
   ],
   "source": [
    "data['detailed industry recode'].isnull().sum()"
   ]
  },
  {
   "cell_type": "code",
   "execution_count": 58,
   "metadata": {},
   "outputs": [
    {
     "data": {
      "application/vnd.jupyter.widget-view+json": {
       "model_id": "c7f37d9930794ad58c78ec6d2e5d6058",
       "version_major": 2,
       "version_minor": 0
      },
      "text/plain": [
       "HBox(children=(IntProgress(value=0, max=249459), HTML(value='')))"
      ]
     },
     "metadata": {},
     "output_type": "display_data"
    },
    {
     "name": "stdout",
     "output_type": "stream",
     "text": [
      "\n"
     ]
    },
    {
     "data": {
      "text/plain": [
       "0"
      ]
     },
     "execution_count": 58,
     "metadata": {},
     "output_type": "execute_result"
    }
   ],
   "source": [
    "### 걍 0으로 채움\n",
    "for i in tqdm_notebook(range(len(data))) :\n",
    "    if pd.isnull(data['detailed industry recode'][i]) :\n",
    "        data['detailed industry recode'][i] = 0\n",
    "data['detailed industry recode'].isnull().sum()"
   ]
  },
  {
   "cell_type": "markdown",
   "metadata": {},
   "source": [
    "### 6. enroll in edu inst last wk"
   ]
  },
  {
   "cell_type": "code",
   "execution_count": 59,
   "metadata": {},
   "outputs": [
    {
     "data": {
      "text/plain": [
       " Not in universe          233315\n",
       " High school                8561\n",
       " College or university      7021\n",
       "Name: enroll in edu inst last wk, dtype: int64"
      ]
     },
     "execution_count": 59,
     "metadata": {},
     "output_type": "execute_result"
    }
   ],
   "source": [
    "data['enroll in edu inst last wk'].value_counts()"
   ]
  },
  {
   "cell_type": "code",
   "execution_count": 60,
   "metadata": {},
   "outputs": [
    {
     "data": {
      "application/vnd.jupyter.widget-view+json": {
       "model_id": "bc36cfbef4f04147b406b66b32fced3e",
       "version_major": 2,
       "version_minor": 0
      },
      "text/plain": [
       "HBox(children=(IntProgress(value=0, max=249459), HTML(value='')))"
      ]
     },
     "metadata": {},
     "output_type": "display_data"
    },
    {
     "name": "stdout",
     "output_type": "stream",
     "text": [
      "\n"
     ]
    },
    {
     "data": {
      "text/plain": [
       "0"
      ]
     },
     "execution_count": 60,
     "metadata": {},
     "output_type": "execute_result"
    }
   ],
   "source": [
    "### 걍 universe으로 채움\n",
    "for i in tqdm_notebook(range(len(data))) :\n",
    "    if pd.isnull(data['enroll in edu inst last wk'][i]) :\n",
    "        data['enroll in edu inst last wk'][i] = ' Not in universe'\n",
    "data['detailed industry recode'].isnull().sum()"
   ]
  },
  {
   "cell_type": "markdown",
   "metadata": {},
   "source": [
    "### 7. major industry code"
   ]
  },
  {
   "cell_type": "code",
   "execution_count": 61,
   "metadata": {},
   "outputs": [
    {
     "data": {
      "text/plain": [
       " Not in universe or children            124140\n",
       " Retail trade                            21305\n",
       " Manufacturing-durable goods             11347\n",
       " Education                               10504\n",
       " Manufacturing-nondurable goods           8634\n",
       " Finance insurance and real estate        7760\n",
       " Construction                             7516\n",
       " Business and repair services             7237\n",
       " Medical except hospital                  5899\n",
       " Public administration                    5772\n",
       " Other professional services              5704\n",
       " Transportation                           5304\n",
       " Hospital services                        4886\n",
       " Wholesale trade                          4563\n",
       " Agriculture                              3712\n",
       " Personal services except private HH      3642\n",
       " Social services                          3108\n",
       " Entertainment                            2058\n",
       " Communications                           1507\n",
       " Utilities and sanitary services          1488\n",
       " Private household services               1174\n",
       " Mining                                    751\n",
       " Forestry and fisheries                    249\n",
       " Armed Forces                               47\n",
       "Name: major industry code, dtype: int64"
      ]
     },
     "execution_count": 61,
     "metadata": {},
     "output_type": "execute_result"
    }
   ],
   "source": [
    "data['major industry code'].value_counts()"
   ]
  },
  {
   "cell_type": "code",
   "execution_count": 62,
   "metadata": {},
   "outputs": [
    {
     "data": {
      "text/plain": [
       "1152"
      ]
     },
     "execution_count": 62,
     "metadata": {},
     "output_type": "execute_result"
    }
   ],
   "source": [
    "data['major industry code'].isnull().sum()"
   ]
  },
  {
   "cell_type": "code",
   "execution_count": 63,
   "metadata": {},
   "outputs": [
    {
     "data": {
      "application/vnd.jupyter.widget-view+json": {
       "model_id": "6cadf93f50f949aa9ff31e31c4d71685",
       "version_major": 2,
       "version_minor": 0
      },
      "text/plain": [
       "HBox(children=(IntProgress(value=0, max=249459), HTML(value='')))"
      ]
     },
     "metadata": {},
     "output_type": "display_data"
    },
    {
     "name": "stdout",
     "output_type": "stream",
     "text": [
      "\n"
     ]
    },
    {
     "data": {
      "text/plain": [
       "0"
      ]
     },
     "execution_count": 63,
     "metadata": {},
     "output_type": "execute_result"
    }
   ],
   "source": [
    "### 걍 universe으로 채움\n",
    "for i in tqdm_notebook(range(len(data))) :\n",
    "    if pd.isnull(data['major industry code'][i]) :\n",
    "        data['major industry code'][i] = ' Not in universe or children'\n",
    "data['detailed industry recode'].isnull().sum()"
   ]
  },
  {
   "cell_type": "markdown",
   "metadata": {},
   "source": [
    "### 8. reason for unemployment"
   ]
  },
  {
   "cell_type": "code",
   "execution_count": 64,
   "metadata": {},
   "outputs": [
    {
     "data": {
      "text/plain": [
       " Not in universe          241400\n",
       " Other job loser            2633\n",
       " Re-entrant                 2535\n",
       " Job loser - on layoff      1195\n",
       " Job leaver                  741\n",
       " New entrant                 534\n",
       "Name: reason for unemployment, dtype: int64"
      ]
     },
     "execution_count": 64,
     "metadata": {},
     "output_type": "execute_result"
    }
   ],
   "source": [
    "data['reason for unemployment'].value_counts()"
   ]
  },
  {
   "cell_type": "code",
   "execution_count": 65,
   "metadata": {},
   "outputs": [
    {
     "data": {
      "text/plain": [
       "421"
      ]
     },
     "execution_count": 65,
     "metadata": {},
     "output_type": "execute_result"
    }
   ],
   "source": [
    "data['reason for unemployment'].isnull().sum()"
   ]
  },
  {
   "cell_type": "code",
   "execution_count": 66,
   "metadata": {},
   "outputs": [
    {
     "data": {
      "application/vnd.jupyter.widget-view+json": {
       "model_id": "5bdf5d22888744989cf0a5426ea7bc18",
       "version_major": 2,
       "version_minor": 0
      },
      "text/plain": [
       "HBox(children=(IntProgress(value=0, max=249459), HTML(value='')))"
      ]
     },
     "metadata": {},
     "output_type": "display_data"
    },
    {
     "name": "stdout",
     "output_type": "stream",
     "text": [
      "\n"
     ]
    },
    {
     "data": {
      "text/plain": [
       "0"
      ]
     },
     "execution_count": 66,
     "metadata": {},
     "output_type": "execute_result"
    }
   ],
   "source": [
    "### 걍 universe으로 채움 222\n",
    "for i in tqdm_notebook(range(len(data))) :\n",
    "    if pd.isnull(data['reason for unemployment'][i]) :\n",
    "        data['reason for unemployment'][i] = ' Not in universe'\n",
    "data['reason for unemployment'].isnull().sum()"
   ]
  },
  {
   "cell_type": "markdown",
   "metadata": {},
   "source": [
    "### 9.  full or part time employment stat"
   ]
  },
  {
   "cell_type": "code",
   "execution_count": 67,
   "metadata": {},
   "outputs": [
    {
     "data": {
      "text/plain": [
       " Children or Armed Forces              153401\n",
       " Full-time schedules                    51224\n",
       " Not in labor force                     32980\n",
       " PT for non-econ reasons usually FT      4204\n",
       " Unemployed full-time                    2891\n",
       " PT for econ reasons usually PT          1526\n",
       " Unemployed part- time                   1030\n",
       " PT for econ reasons usually FT           654\n",
       "0                                           1\n",
       "Name: full or part time employment stat, dtype: int64"
      ]
     },
     "execution_count": 67,
     "metadata": {},
     "output_type": "execute_result"
    }
   ],
   "source": [
    "data['full or part time employment stat'].value_counts()"
   ]
  },
  {
   "cell_type": "code",
   "execution_count": 68,
   "metadata": {},
   "outputs": [
    {
     "data": {
      "text/plain": [
       "1548"
      ]
     },
     "execution_count": 68,
     "metadata": {},
     "output_type": "execute_result"
    }
   ],
   "source": [
    "data['full or part time employment stat'].isnull().sum()"
   ]
  },
  {
   "cell_type": "code",
   "execution_count": 69,
   "metadata": {},
   "outputs": [
    {
     "data": {
      "application/vnd.jupyter.widget-view+json": {
       "model_id": "d836d08213d14bc59e0105f92ac20098",
       "version_major": 2,
       "version_minor": 0
      },
      "text/plain": [
       "HBox(children=(IntProgress(value=0, max=249459), HTML(value='')))"
      ]
     },
     "metadata": {},
     "output_type": "display_data"
    },
    {
     "name": "stdout",
     "output_type": "stream",
     "text": [
      "\n"
     ]
    }
   ],
   "source": [
    "### 걍 최대치로 채움\n",
    "for i in tqdm_notebook(range(len(data))) :\n",
    "    if pd.isnull(data['full or part time employment stat'][i]) :\n",
    "        data['full or part time employment stat'][i] = ' Children or Armed Forces'\n",
    "    if data['full or part time employment stat'][i] == 0 :\n",
    "        data['full or part time employment stat'][i] = ' Children or Armed Forces'"
   ]
  },
  {
   "cell_type": "code",
   "execution_count": 70,
   "metadata": {},
   "outputs": [
    {
     "data": {
      "text/plain": [
       "0"
      ]
     },
     "execution_count": 70,
     "metadata": {},
     "output_type": "execute_result"
    }
   ],
   "source": [
    "data['full or part time employment stat'].isnull().sum()"
   ]
  },
  {
   "cell_type": "markdown",
   "metadata": {},
   "source": [
    "### 10. capital gains"
   ]
  },
  {
   "cell_type": "code",
   "execution_count": 71,
   "metadata": {},
   "outputs": [
    {
     "data": {
      "text/plain": [
       "424"
      ]
     },
     "execution_count": 71,
     "metadata": {},
     "output_type": "execute_result"
    }
   ],
   "source": [
    "data['capital gains'].isnull().sum()"
   ]
  },
  {
   "cell_type": "code",
   "execution_count": 72,
   "metadata": {
    "scrolled": false
   },
   "outputs": [
    {
     "data": {
      "text/plain": [
       "0.0        239439\n",
       "15024.0      1097\n",
       "7688.0        805\n",
       "7298.0        761\n",
       "99999.0       549\n",
       "            ...  \n",
       "4594.0          1\n",
       "2601.0          1\n",
       "8530.0          1\n",
       "2227.0          1\n",
       "2387.0          1\n",
       "Name: capital gains, Length: 132, dtype: int64"
      ]
     },
     "execution_count": 72,
     "metadata": {},
     "output_type": "execute_result"
    }
   ],
   "source": [
    "data['capital gains'].value_counts()"
   ]
  },
  {
   "cell_type": "code",
   "execution_count": 73,
   "metadata": {},
   "outputs": [
    {
     "data": {
      "text/plain": [
       "count    249035.000000\n",
       "mean        477.461791\n",
       "std        4979.973683\n",
       "min           0.000000\n",
       "25%           0.000000\n",
       "50%           0.000000\n",
       "75%           0.000000\n",
       "max       99999.000000\n",
       "Name: capital gains, dtype: float64"
      ]
     },
     "execution_count": 73,
     "metadata": {},
     "output_type": "execute_result"
    }
   ],
   "source": [
    "data['capital gains'].describe()"
   ]
  },
  {
   "cell_type": "code",
   "execution_count": 74,
   "metadata": {},
   "outputs": [
    {
     "data": {
      "application/vnd.jupyter.widget-view+json": {
       "model_id": "fcc4e35f1d144738bf78811260f3d6e8",
       "version_major": 2,
       "version_minor": 0
      },
      "text/plain": [
       "HBox(children=(IntProgress(value=0, max=249459), HTML(value='')))"
      ]
     },
     "metadata": {},
     "output_type": "display_data"
    },
    {
     "name": "stdout",
     "output_type": "stream",
     "text": [
      "\n"
     ]
    },
    {
     "data": {
      "text/plain": [
       "0"
      ]
     },
     "execution_count": 74,
     "metadata": {},
     "output_type": "execute_result"
    }
   ],
   "source": [
    "### 걍 0으로 채움\n",
    "for i in tqdm_notebook(range(len(data))) :\n",
    "    if pd.isnull(data['capital gains'][i]) :\n",
    "        data['capital gains'][i] = 0\n",
    "data['capital gains'].isnull().sum()"
   ]
  },
  {
   "cell_type": "markdown",
   "metadata": {},
   "source": [
    "### 11. dividends from stocks"
   ]
  },
  {
   "cell_type": "code",
   "execution_count": 75,
   "metadata": {},
   "outputs": [
    {
     "data": {
      "text/plain": [
       "1243"
      ]
     },
     "execution_count": 75,
     "metadata": {},
     "output_type": "execute_result"
    }
   ],
   "source": [
    "data['dividends from stocks'].isnull().sum()"
   ]
  },
  {
   "cell_type": "code",
   "execution_count": 76,
   "metadata": {},
   "outputs": [
    {
     "data": {
      "text/plain": [
       "0.0        221039\n",
       "100.0        1465\n",
       "500.0        1326\n",
       "1000.0       1184\n",
       "200.0        1161\n",
       "            ...  \n",
       "15939.0         1\n",
       "3169.0          1\n",
       "81000.0         1\n",
       "3555.0          1\n",
       "1160.0          1\n",
       "Name: dividends from stocks, Length: 1595, dtype: int64"
      ]
     },
     "execution_count": 76,
     "metadata": {},
     "output_type": "execute_result"
    }
   ],
   "source": [
    "data['dividends from stocks'].value_counts()"
   ]
  },
  {
   "cell_type": "code",
   "execution_count": 77,
   "metadata": {},
   "outputs": [
    {
     "data": {
      "application/vnd.jupyter.widget-view+json": {
       "model_id": "3222e3b57f1b4ddba18e4fd994603baa",
       "version_major": 2,
       "version_minor": 0
      },
      "text/plain": [
       "HBox(children=(IntProgress(value=0, max=249459), HTML(value='')))"
      ]
     },
     "metadata": {},
     "output_type": "display_data"
    },
    {
     "name": "stdout",
     "output_type": "stream",
     "text": [
      "\n"
     ]
    },
    {
     "data": {
      "text/plain": [
       "0"
      ]
     },
     "execution_count": 77,
     "metadata": {},
     "output_type": "execute_result"
    }
   ],
   "source": [
    "### 걍 0으로 채움\n",
    "for i in tqdm_notebook(range(len(data))) :\n",
    "    if pd.isnull(data['dividends from stocks'][i]) :\n",
    "        data['dividends from stocks'][i] = 0\n",
    "data['dividends from stocks'].isnull().sum()"
   ]
  },
  {
   "cell_type": "markdown",
   "metadata": {},
   "source": [
    "### 12. tax filer stat"
   ]
  },
  {
   "cell_type": "code",
   "execution_count": 78,
   "metadata": {},
   "outputs": [
    {
     "data": {
      "text/plain": [
       "15902"
      ]
     },
     "execution_count": 78,
     "metadata": {},
     "output_type": "execute_result"
    }
   ],
   "source": [
    "data['tax filer stat'].isnull().sum()"
   ]
  },
  {
   "cell_type": "code",
   "execution_count": 79,
   "metadata": {
    "scrolled": true
   },
   "outputs": [
    {
     "data": {
      "text/plain": [
       " Nonfiler                        86840\n",
       " Joint both under 65             79805\n",
       " Single                          43869\n",
       " Joint both 65+                   9694\n",
       " Head of household                8759\n",
       " Joint one under 65 & one 65+     4590\n",
       "Name: tax filer stat, dtype: int64"
      ]
     },
     "execution_count": 79,
     "metadata": {},
     "output_type": "execute_result"
    }
   ],
   "source": [
    "data['tax filer stat'].value_counts()"
   ]
  },
  {
   "cell_type": "code",
   "execution_count": 80,
   "metadata": {
    "scrolled": false
   },
   "outputs": [
    {
     "data": {
      "application/vnd.jupyter.widget-view+json": {
       "model_id": "0464aa4b04ba40cb85d860aeb095b3f6",
       "version_major": 2,
       "version_minor": 0
      },
      "text/plain": [
       "HBox(children=(IntProgress(value=0, max=249459), HTML(value='')))"
      ]
     },
     "metadata": {},
     "output_type": "display_data"
    },
    {
     "name": "stdout",
     "output_type": "stream",
     "text": [
      "\n"
     ]
    },
    {
     "data": {
      "text/plain": [
       "0"
      ]
     },
     "execution_count": 80,
     "metadata": {},
     "output_type": "execute_result"
    }
   ],
   "source": [
    "#### marital stat랑 연동해서 채우기\n",
    "for i in tqdm_notebook(range(len(data))) :\n",
    "    if not pd.isnull(data['tax filer stat'][i]) : pass\n",
    "    elif data['marital stat'][i] == ' Married-civilian spouse present' and data['age'][i]<65 :\n",
    "         data['tax filer stat'][i] = ' Joint both under 65'\n",
    "    elif data['marital stat'][i] == ' Married-A F spouse present' and data['age'][i]<65 :\n",
    "         data['tax filer stat'][i] = ' Joint both under 65'\n",
    "    elif data['marital stat'][i] == ' Married-civilian spouse present' and data['age'][i]>=65 :\n",
    "         data['tax filer stat'][i] = ' Joint both 65+'\n",
    "    elif data['marital stat'][i] == ' Married-A F spouse present' and data['age'][i]<65 :\n",
    "         data['tax filer stat'][i] = ' Joint both 65+'\n",
    "    elif data['marital stat'][i] == ' Divorced' :\n",
    "         data['tax filer stat'][i] = ' Single' \n",
    "    elif data['marital stat'][i] == ' Separated' :\n",
    "         data['tax filer stat'][i] = ' Head of household'\n",
    "    elif data['marital stat'][i] == ' Never married' :\n",
    "         data['tax filer stat'][i] = ' Nonfiler' \n",
    "    elif data['marital stat'][i] == ' Widowed' :\n",
    "         data['tax filer stat'][i] = ' Nonfiler' \n",
    "    elif data['marital stat'][i] == ' Married-spouse absent' :\n",
    "         data['tax filer stat'][i] = ' Nonfiler' \n",
    "            \n",
    "data['tax filer stat'].isnull().sum()"
   ]
  },
  {
   "cell_type": "code",
   "execution_count": 81,
   "metadata": {},
   "outputs": [
    {
     "data": {
      "text/plain": [
       " Nonfiler                        94760\n",
       " Joint both under 65             85420\n",
       " Single                          44869\n",
       " Joint both 65+                  10803\n",
       " Head of household                9017\n",
       " Joint one under 65 & one 65+     4590\n",
       "Name: tax filer stat, dtype: int64"
      ]
     },
     "execution_count": 81,
     "metadata": {},
     "output_type": "execute_result"
    }
   ],
   "source": [
    "data['tax filer stat'].value_counts()"
   ]
  },
  {
   "cell_type": "markdown",
   "metadata": {},
   "source": [
    "### 13. detailed household and family stat"
   ]
  },
  {
   "cell_type": "code",
   "execution_count": 82,
   "metadata": {},
   "outputs": [
    {
     "data": {
      "text/plain": [
       " Householder                                        67269\n",
       " Child <18 never marr not in subfamily              61769\n",
       " Spouse of householder                              51643\n",
       " Nonfamily householder                              27835\n",
       " Child 18+ never marr Not in a subfamily            14917\n",
       " Secondary individual                                7647\n",
       " Other Rel 18+ ever marr not in subfamily            2485\n",
       " Grandchild <18 never marr child of subfamily RP     2292\n",
       " Other Rel 18+ never marr not in subfamily           2110\n",
       " Grandchild <18 never marr not in subfamily          1300\n",
       " Child 18+ ever marr Not in a subfamily              1224\n",
       " Child under 18 of RP of unrel subfamily              907\n",
       " Child 18+ ever marr RP of subfamily                  840\n",
       " RP of unrelated subfamily                            839\n",
       " Other Rel 18+ spouse of subfamily RP                 801\n",
       " Other Rel <18 never marr child of subfamily RP       797\n",
       " Other Rel 18+ ever marr RP of subfamily              791\n",
       " Other Rel <18 never marr not in subfamily            733\n",
       " Child 18+ never marr RP of subfamily                 731\n",
       " Grandchild 18+ never marr not in subfamily           483\n",
       " In group quarters                                    235\n",
       " Child 18+ spouse of subfamily RP                     160\n",
       " Other Rel 18+ never marr RP of subfamily             126\n",
       " Child <18 never marr RP of subfamily                 102\n",
       " Spouse of RP of unrelated subfamily                   62\n",
       " Child <18 ever marr not in subfamily                  41\n",
       " Grandchild 18+ ever marr not in subfamily             38\n",
       " Child <18 ever marr RP of subfamily                   11\n",
       " Grandchild 18+ spouse of subfamily RP                 11\n",
       " Grandchild 18+ ever marr RP of subfamily              11\n",
       " Grandchild 18+ never marr RP of subfamily              6\n",
       " Other Rel <18 never married RP of subfamily            6\n",
       " Other Rel <18 ever marr RP of subfamily                6\n",
       " Child <18 spouse of subfamily RP                       3\n",
       " Grandchild <18 never marr RP of subfamily              3\n",
       " Other Rel <18 ever marr not in subfamily               3\n",
       " Grandchild <18 ever marr not in subfamily              2\n",
       " Other Rel <18 spouse of subfamily RP                   1\n",
       "Name: detailed household and family stat, dtype: int64"
      ]
     },
     "execution_count": 82,
     "metadata": {},
     "output_type": "execute_result"
    }
   ],
   "source": [
    "data['detailed household and family stat'].value_counts()"
   ]
  },
  {
   "cell_type": "code",
   "execution_count": 83,
   "metadata": {
    "scrolled": true
   },
   "outputs": [
    {
     "data": {
      "text/plain": [
       "1219"
      ]
     },
     "execution_count": 83,
     "metadata": {},
     "output_type": "execute_result"
    }
   ],
   "source": [
    "data['detailed household and family stat'].isnull().sum()"
   ]
  },
  {
   "cell_type": "code",
   "execution_count": 84,
   "metadata": {},
   "outputs": [],
   "source": [
    "### 분류 간편하게 해보자\n",
    "### 1. householder / Nonfamily householder 가장일 경우에만 1\n",
    "data['householder'] = 0"
   ]
  },
  {
   "cell_type": "code",
   "execution_count": 85,
   "metadata": {},
   "outputs": [
    {
     "data": {
      "application/vnd.jupyter.widget-view+json": {
       "model_id": "2cb7db3f11e94da98eeea5ef23b74ece",
       "version_major": 2,
       "version_minor": 0
      },
      "text/plain": [
       "HBox(children=(IntProgress(value=0, max=249459), HTML(value='')))"
      ]
     },
     "metadata": {},
     "output_type": "display_data"
    },
    {
     "name": "stdout",
     "output_type": "stream",
     "text": [
      "\n"
     ]
    },
    {
     "data": {
      "text/plain": [
       "1    249459\n",
       "Name: householder, dtype: int64"
      ]
     },
     "execution_count": 85,
     "metadata": {},
     "output_type": "execute_result"
    }
   ],
   "source": [
    "for i in tqdm_notebook(range(len(data))) :\n",
    "    if data['detailed household and family stat'][i] == ' Householder' :\n",
    "        data['householder'] = 1\n",
    "    elif data['detailed household and family stat'][i] == ' Nonfamily householder' :\n",
    "        data['householder'] = 1\n",
    "    else :\n",
    "        pass\n",
    "data['householder'].value_counts()"
   ]
  },
  {
   "cell_type": "code",
   "execution_count": 86,
   "metadata": {},
   "outputs": [
    {
     "data": {
      "text/plain": [
       "0"
      ]
     },
     "execution_count": 86,
     "metadata": {},
     "output_type": "execute_result"
    }
   ],
   "source": [
    "data['householder'].isnull().sum()"
   ]
  },
  {
   "cell_type": "markdown",
   "metadata": {},
   "source": [
    "### 14. weeks worked in year"
   ]
  },
  {
   "cell_type": "code",
   "execution_count": 87,
   "metadata": {
    "scrolled": true
   },
   "outputs": [
    {
     "data": {
      "text/plain": [
       "0.0     118719\n",
       "52.0     89097\n",
       "40.0      3474\n",
       "50.0      2891\n",
       "26.0      2792\n",
       "48.0      2313\n",
       "12.0      2242\n",
       "30.0      1717\n",
       "20.0      1692\n",
       "8.0       1402\n",
       "36.0      1374\n",
       "16.0      1162\n",
       "44.0      1090\n",
       "32.0      1089\n",
       "51.0      1025\n",
       "24.0       976\n",
       "4.0        931\n",
       "10.0       890\n",
       "35.0       888\n",
       "46.0       866\n",
       "45.0       844\n",
       "6.0        784\n",
       "39.0       734\n",
       "42.0       713\n",
       "28.0       687\n",
       "49.0       662\n",
       "13.0       620\n",
       "25.0       587\n",
       "1.0        576\n",
       "2.0        559\n",
       "3.0        525\n",
       "38.0       471\n",
       "43.0       465\n",
       "15.0       458\n",
       "22.0       451\n",
       "17.0       398\n",
       "5.0        367\n",
       "47.0       328\n",
       "18.0       324\n",
       "14.0       319\n",
       "9.0        301\n",
       "34.0       286\n",
       "7.0        183\n",
       "21.0       162\n",
       "37.0       155\n",
       "41.0       111\n",
       "33.0       108\n",
       "11.0       103\n",
       "27.0        96\n",
       "23.0        87\n",
       "29.0        79\n",
       "31.0        71\n",
       "19.0        64\n",
       "Name: weeks worked in year, dtype: int64"
      ]
     },
     "execution_count": 87,
     "metadata": {},
     "output_type": "execute_result"
    }
   ],
   "source": [
    "data['weeks worked in year'].value_counts()"
   ]
  },
  {
   "cell_type": "code",
   "execution_count": 88,
   "metadata": {},
   "outputs": [
    {
     "data": {
      "text/plain": [
       "151"
      ]
     },
     "execution_count": 88,
     "metadata": {},
     "output_type": "execute_result"
    }
   ],
   "source": [
    "data['weeks worked in year'].isnull().sum()"
   ]
  },
  {
   "cell_type": "code",
   "execution_count": 89,
   "metadata": {},
   "outputs": [
    {
     "data": {
      "text/plain": [
       "count    249308.000000\n",
       "mean         23.441193\n",
       "std          24.443199\n",
       "min           0.000000\n",
       "25%           0.000000\n",
       "50%          10.000000\n",
       "75%          52.000000\n",
       "max          52.000000\n",
       "Name: weeks worked in year, dtype: float64"
      ]
     },
     "execution_count": 89,
     "metadata": {},
     "output_type": "execute_result"
    }
   ],
   "source": [
    "data['weeks worked in year'].describe()"
   ]
  },
  {
   "cell_type": "code",
   "execution_count": 90,
   "metadata": {
    "scrolled": true
   },
   "outputs": [
    {
     "data": {
      "application/vnd.jupyter.widget-view+json": {
       "model_id": "b89426cb682c4df5b8d8fe2f2a59efaa",
       "version_major": 2,
       "version_minor": 0
      },
      "text/plain": [
       "HBox(children=(IntProgress(value=0, max=249459), HTML(value='')))"
      ]
     },
     "metadata": {},
     "output_type": "display_data"
    },
    {
     "name": "stdout",
     "output_type": "stream",
     "text": [
      "\n"
     ]
    },
    {
     "data": {
      "text/plain": [
       "0"
      ]
     },
     "execution_count": 90,
     "metadata": {},
     "output_type": "execute_result"
    }
   ],
   "source": [
    "## 직업 참고해서 채우기 else는 mean값으로\n",
    "for i in tqdm_notebook(range(len(data))) :\n",
    "    if not pd.isnull(data['weeks worked in year'][i]) : pass  \n",
    "    elif data['class of worker'][i] == ' Not in universe' :\n",
    "        data['weeks worked in year'][i] = 0\n",
    "    else :\n",
    "        data['weeks worked in year'][i] = 23\n",
    "data['weeks worked in year'].isnull().sum()"
   ]
  },
  {
   "cell_type": "markdown",
   "metadata": {},
   "source": [
    "### 15.  major occupation code"
   ]
  },
  {
   "cell_type": "code",
   "execution_count": 91,
   "metadata": {},
   "outputs": [
    {
     "data": {
      "text/plain": [
       " Not in universe                          124573\n",
       " Adm support including clerical            18374\n",
       " Professional specialty                    17926\n",
       " Executive admin and managerial            16199\n",
       " Other service                             15151\n",
       " Sales                                     14881\n",
       " Precision production craft & repair       13254\n",
       " Machine operators assmblrs & inspctrs      7989\n",
       " Handlers equip cleaners etc                5125\n",
       " Transportation and material moving         5025\n",
       " Farming forestry and fishing               3881\n",
       " Technicians and related support            3761\n",
       " Protective services                        2072\n",
       " Private household services                  986\n",
       " Armed Forces                                 47\n",
       "Name: major occupation code, dtype: int64"
      ]
     },
     "execution_count": 91,
     "metadata": {},
     "output_type": "execute_result"
    }
   ],
   "source": [
    "data['major occupation code'].value_counts()"
   ]
  },
  {
   "cell_type": "code",
   "execution_count": 92,
   "metadata": {
    "scrolled": true
   },
   "outputs": [
    {
     "data": {
      "text/plain": [
       "215"
      ]
     },
     "execution_count": 92,
     "metadata": {},
     "output_type": "execute_result"
    }
   ],
   "source": [
    "data['major occupation code'].isnull().sum()"
   ]
  },
  {
   "cell_type": "code",
   "execution_count": 93,
   "metadata": {},
   "outputs": [
    {
     "data": {
      "text/plain": [
       " Not in universe                   124088\n",
       " Private                            90876\n",
       " Self-employed-not incorporated     10655\n",
       " Local government                    9814\n",
       " State government                    5330\n",
       " Self-employed-incorporated          4304\n",
       " Federal government                  3668\n",
       " Never worked                         534\n",
       " Without pay                          190\n",
       "Name: class of worker, dtype: int64"
      ]
     },
     "execution_count": 93,
     "metadata": {},
     "output_type": "execute_result"
    }
   ],
   "source": [
    "data['class of worker'].value_counts()"
   ]
  },
  {
   "cell_type": "code",
   "execution_count": 94,
   "metadata": {},
   "outputs": [
    {
     "data": {
      "application/vnd.jupyter.widget-view+json": {
       "model_id": "f86af126134845a0801090e252f8550d",
       "version_major": 2,
       "version_minor": 0
      },
      "text/plain": [
       "HBox(children=(IntProgress(value=0, max=249459), HTML(value='')))"
      ]
     },
     "metadata": {},
     "output_type": "display_data"
    },
    {
     "name": "stdout",
     "output_type": "stream",
     "text": [
      "\n"
     ]
    }
   ],
   "source": [
    "for i in tqdm_notebook(range(len(data))) :\n",
    "    if not pd.isnull(data['major occupation code'][i]) : pass  \n",
    "    elif data['class of worker'][i] == ' Not in universe' :\n",
    "        data['major occupation code'][i] = ' Not in universe'\n",
    "    else : data['major occupation code'][i] = ' Adm support including clerical'\n",
    "###걍 일단 많은애로 채우자"
   ]
  },
  {
   "cell_type": "markdown",
   "metadata": {},
   "source": [
    "### 16. year"
   ]
  },
  {
   "cell_type": "code",
   "execution_count": 95,
   "metadata": {},
   "outputs": [
    {
     "data": {
      "text/plain": [
       "1422"
      ]
     },
     "execution_count": 95,
     "metadata": {},
     "output_type": "execute_result"
    }
   ],
   "source": [
    "data['year'].isnull().sum()"
   ]
  },
  {
   "cell_type": "code",
   "execution_count": 96,
   "metadata": {
    "scrolled": true
   },
   "outputs": [
    {
     "data": {
      "text/plain": [
       "94      94586\n",
       "95      94229\n",
       "95.0    29242\n",
       "94.0    29098\n",
       "?         882\n",
       "Name: year, dtype: int64"
      ]
     },
     "execution_count": 96,
     "metadata": {},
     "output_type": "execute_result"
    }
   ],
   "source": [
    "data['year'].value_counts()"
   ]
  },
  {
   "cell_type": "markdown",
   "metadata": {},
   "source": [
    "## 17. member of a labor union"
   ]
  },
  {
   "cell_type": "code",
   "execution_count": 97,
   "metadata": {},
   "outputs": [
    {
     "data": {
      "text/plain": [
       " Not in universe    225458\n",
       " No                  20228\n",
       " Yes                  3773\n",
       "Name: member of a labor union, dtype: int64"
      ]
     },
     "execution_count": 97,
     "metadata": {},
     "output_type": "execute_result"
    }
   ],
   "source": [
    "data['member of a labor union'].value_counts()"
   ]
  },
  {
   "cell_type": "code",
   "execution_count": 98,
   "metadata": {},
   "outputs": [
    {
     "data": {
      "application/vnd.jupyter.widget-view+json": {
       "model_id": "6238c252805d4c0f975e69b2c776b028",
       "version_major": 2,
       "version_minor": 0
      },
      "text/plain": [
       "HBox(children=(IntProgress(value=0, max=249459), HTML(value='')))"
      ]
     },
     "metadata": {},
     "output_type": "display_data"
    },
    {
     "name": "stdout",
     "output_type": "stream",
     "text": [
      "\n"
     ]
    },
    {
     "data": {
      "text/plain": [
       " Not in universe    245686\n",
       " Yes                  3773\n",
       "Name: member of a labor union, dtype: int64"
      ]
     },
     "execution_count": 98,
     "metadata": {},
     "output_type": "execute_result"
    }
   ],
   "source": [
    "for i in tqdm_notebook(range(len(data))) :\n",
    "    if data['member of a labor union'][i] == ' No' :\n",
    "        data['member of a labor union'][i] = ' Not in universe'\n",
    "data['member of a labor union'].value_counts()"
   ]
  },
  {
   "cell_type": "markdown",
   "metadata": {},
   "source": [
    "# 따로 카테고리 분류 해줄 애들"
   ]
  },
  {
   "cell_type": "markdown",
   "metadata": {},
   "source": [
    "## 18. Capital gains"
   ]
  },
  {
   "cell_type": "code",
   "execution_count": 99,
   "metadata": {},
   "outputs": [
    {
     "data": {
      "text/html": [
       "<div>\n",
       "<style scoped>\n",
       "    .dataframe tbody tr th:only-of-type {\n",
       "        vertical-align: middle;\n",
       "    }\n",
       "\n",
       "    .dataframe tbody tr th {\n",
       "        vertical-align: top;\n",
       "    }\n",
       "\n",
       "    .dataframe thead th {\n",
       "        text-align: right;\n",
       "    }\n",
       "</style>\n",
       "<table border=\"1\" class=\"dataframe\">\n",
       "  <thead>\n",
       "    <tr style=\"text-align: right;\">\n",
       "      <th></th>\n",
       "      <th>ID</th>\n",
       "      <th>age</th>\n",
       "      <th>detailed industry recode</th>\n",
       "      <th>detailed occupation recode</th>\n",
       "      <th>wage per hour</th>\n",
       "      <th>capital losses</th>\n",
       "      <th>dividends from stocks</th>\n",
       "      <th>num persons worked for employer</th>\n",
       "      <th>own business or self employed</th>\n",
       "      <th>veterans benefits</th>\n",
       "      <th>weeks worked in year</th>\n",
       "    </tr>\n",
       "    <tr>\n",
       "      <th>capital gains</th>\n",
       "      <th></th>\n",
       "      <th></th>\n",
       "      <th></th>\n",
       "      <th></th>\n",
       "      <th></th>\n",
       "      <th></th>\n",
       "      <th></th>\n",
       "      <th></th>\n",
       "      <th></th>\n",
       "      <th></th>\n",
       "      <th></th>\n",
       "    </tr>\n",
       "  </thead>\n",
       "  <tbody>\n",
       "    <tr>\n",
       "      <td>0.0</td>\n",
       "      <td>94831.942307</td>\n",
       "      <td>33.951743</td>\n",
       "      <td>15.040503</td>\n",
       "      <td>11.179920</td>\n",
       "      <td>54.532124</td>\n",
       "      <td>38.812301</td>\n",
       "      <td>165.876555</td>\n",
       "      <td>1.908740</td>\n",
       "      <td>0.172257</td>\n",
       "      <td>1.496977</td>\n",
       "      <td>22.542241</td>\n",
       "    </tr>\n",
       "    <tr>\n",
       "      <td>114.0</td>\n",
       "      <td>71757.181818</td>\n",
       "      <td>30.800000</td>\n",
       "      <td>24.909091</td>\n",
       "      <td>29.090909</td>\n",
       "      <td>209.545455</td>\n",
       "      <td>0.000000</td>\n",
       "      <td>0.000000</td>\n",
       "      <td>4.000000</td>\n",
       "      <td>0.363636</td>\n",
       "      <td>2.000000</td>\n",
       "      <td>45.545455</td>\n",
       "    </tr>\n",
       "    <tr>\n",
       "      <td>401.0</td>\n",
       "      <td>100034.774194</td>\n",
       "      <td>75.419355</td>\n",
       "      <td>5.354839</td>\n",
       "      <td>3.967742</td>\n",
       "      <td>0.000000</td>\n",
       "      <td>0.000000</td>\n",
       "      <td>223.161290</td>\n",
       "      <td>0.354839</td>\n",
       "      <td>0.000000</td>\n",
       "      <td>1.967742</td>\n",
       "      <td>12.258065</td>\n",
       "    </tr>\n",
       "    <tr>\n",
       "      <td>594.0</td>\n",
       "      <td>89182.523810</td>\n",
       "      <td>22.317073</td>\n",
       "      <td>22.869048</td>\n",
       "      <td>20.333333</td>\n",
       "      <td>45.773810</td>\n",
       "      <td>0.000000</td>\n",
       "      <td>11.345238</td>\n",
       "      <td>3.714286</td>\n",
       "      <td>0.428571</td>\n",
       "      <td>2.000000</td>\n",
       "      <td>24.464286</td>\n",
       "    </tr>\n",
       "    <tr>\n",
       "      <td>914.0</td>\n",
       "      <td>95852.823529</td>\n",
       "      <td>41.400000</td>\n",
       "      <td>24.562500</td>\n",
       "      <td>15.411765</td>\n",
       "      <td>88.235294</td>\n",
       "      <td>0.000000</td>\n",
       "      <td>477.000000</td>\n",
       "      <td>4.647059</td>\n",
       "      <td>0.588235</td>\n",
       "      <td>2.000000</td>\n",
       "      <td>48.235294</td>\n",
       "    </tr>\n",
       "    <tr>\n",
       "      <td>...</td>\n",
       "      <td>...</td>\n",
       "      <td>...</td>\n",
       "      <td>...</td>\n",
       "      <td>...</td>\n",
       "      <td>...</td>\n",
       "      <td>...</td>\n",
       "      <td>...</td>\n",
       "      <td>...</td>\n",
       "      <td>...</td>\n",
       "      <td>...</td>\n",
       "      <td>...</td>\n",
       "    </tr>\n",
       "    <tr>\n",
       "      <td>25236.0</td>\n",
       "      <td>93931.350000</td>\n",
       "      <td>44.833333</td>\n",
       "      <td>33.300000</td>\n",
       "      <td>10.200000</td>\n",
       "      <td>30.000000</td>\n",
       "      <td>0.000000</td>\n",
       "      <td>958.950000</td>\n",
       "      <td>3.300000</td>\n",
       "      <td>0.550000</td>\n",
       "      <td>2.000000</td>\n",
       "      <td>49.000000</td>\n",
       "    </tr>\n",
       "    <tr>\n",
       "      <td>27828.0</td>\n",
       "      <td>93235.868132</td>\n",
       "      <td>42.476744</td>\n",
       "      <td>30.725275</td>\n",
       "      <td>13.373626</td>\n",
       "      <td>0.000000</td>\n",
       "      <td>0.000000</td>\n",
       "      <td>4115.197802</td>\n",
       "      <td>3.934066</td>\n",
       "      <td>0.274725</td>\n",
       "      <td>1.989011</td>\n",
       "      <td>49.087912</td>\n",
       "    </tr>\n",
       "    <tr>\n",
       "      <td>34095.0</td>\n",
       "      <td>88729.200000</td>\n",
       "      <td>22.333333</td>\n",
       "      <td>18.600000</td>\n",
       "      <td>12.100000</td>\n",
       "      <td>0.000000</td>\n",
       "      <td>0.000000</td>\n",
       "      <td>60.000000</td>\n",
       "      <td>3.600000</td>\n",
       "      <td>0.200000</td>\n",
       "      <td>2.000000</td>\n",
       "      <td>19.800000</td>\n",
       "    </tr>\n",
       "    <tr>\n",
       "      <td>41310.0</td>\n",
       "      <td>58529.000000</td>\n",
       "      <td>45.000000</td>\n",
       "      <td>4.000000</td>\n",
       "      <td>43.500000</td>\n",
       "      <td>0.000000</td>\n",
       "      <td>0.000000</td>\n",
       "      <td>0.000000</td>\n",
       "      <td>1.000000</td>\n",
       "      <td>0.000000</td>\n",
       "      <td>2.000000</td>\n",
       "      <td>36.000000</td>\n",
       "    </tr>\n",
       "    <tr>\n",
       "      <td>99999.0</td>\n",
       "      <td>96044.805405</td>\n",
       "      <td>46.641834</td>\n",
       "      <td>30.878049</td>\n",
       "      <td>9.627027</td>\n",
       "      <td>26.175676</td>\n",
       "      <td>0.000000</td>\n",
       "      <td>4721.008108</td>\n",
       "      <td>3.308108</td>\n",
       "      <td>0.270270</td>\n",
       "      <td>1.991892</td>\n",
       "      <td>47.440541</td>\n",
       "    </tr>\n",
       "  </tbody>\n",
       "</table>\n",
       "<p>132 rows × 11 columns</p>\n",
       "</div>"
      ],
      "text/plain": [
       "                          ID        age  detailed industry recode  \\\n",
       "capital gains                                                       \n",
       "0.0             94831.942307  33.951743                 15.040503   \n",
       "114.0           71757.181818  30.800000                 24.909091   \n",
       "401.0          100034.774194  75.419355                  5.354839   \n",
       "594.0           89182.523810  22.317073                 22.869048   \n",
       "914.0           95852.823529  41.400000                 24.562500   \n",
       "...                      ...        ...                       ...   \n",
       "25236.0         93931.350000  44.833333                 33.300000   \n",
       "27828.0         93235.868132  42.476744                 30.725275   \n",
       "34095.0         88729.200000  22.333333                 18.600000   \n",
       "41310.0         58529.000000  45.000000                  4.000000   \n",
       "99999.0         96044.805405  46.641834                 30.878049   \n",
       "\n",
       "               detailed occupation recode  wage per hour  capital losses  \\\n",
       "capital gains                                                              \n",
       "0.0                             11.179920      54.532124       38.812301   \n",
       "114.0                           29.090909     209.545455        0.000000   \n",
       "401.0                            3.967742       0.000000        0.000000   \n",
       "594.0                           20.333333      45.773810        0.000000   \n",
       "914.0                           15.411765      88.235294        0.000000   \n",
       "...                                   ...            ...             ...   \n",
       "25236.0                         10.200000      30.000000        0.000000   \n",
       "27828.0                         13.373626       0.000000        0.000000   \n",
       "34095.0                         12.100000       0.000000        0.000000   \n",
       "41310.0                         43.500000       0.000000        0.000000   \n",
       "99999.0                          9.627027      26.175676        0.000000   \n",
       "\n",
       "               dividends from stocks  num persons worked for employer  \\\n",
       "capital gains                                                           \n",
       "0.0                       165.876555                         1.908740   \n",
       "114.0                       0.000000                         4.000000   \n",
       "401.0                     223.161290                         0.354839   \n",
       "594.0                      11.345238                         3.714286   \n",
       "914.0                     477.000000                         4.647059   \n",
       "...                              ...                              ...   \n",
       "25236.0                   958.950000                         3.300000   \n",
       "27828.0                  4115.197802                         3.934066   \n",
       "34095.0                    60.000000                         3.600000   \n",
       "41310.0                     0.000000                         1.000000   \n",
       "99999.0                  4721.008108                         3.308108   \n",
       "\n",
       "               own business or self employed  veterans benefits  \\\n",
       "capital gains                                                     \n",
       "0.0                                 0.172257           1.496977   \n",
       "114.0                               0.363636           2.000000   \n",
       "401.0                               0.000000           1.967742   \n",
       "594.0                               0.428571           2.000000   \n",
       "914.0                               0.588235           2.000000   \n",
       "...                                      ...                ...   \n",
       "25236.0                             0.550000           2.000000   \n",
       "27828.0                             0.274725           1.989011   \n",
       "34095.0                             0.200000           2.000000   \n",
       "41310.0                             0.000000           2.000000   \n",
       "99999.0                             0.270270           1.991892   \n",
       "\n",
       "               weeks worked in year  \n",
       "capital gains                        \n",
       "0.0                       22.542241  \n",
       "114.0                     45.545455  \n",
       "401.0                     12.258065  \n",
       "594.0                     24.464286  \n",
       "914.0                     48.235294  \n",
       "...                             ...  \n",
       "25236.0                   49.000000  \n",
       "27828.0                   49.087912  \n",
       "34095.0                   19.800000  \n",
       "41310.0                   36.000000  \n",
       "99999.0                   47.440541  \n",
       "\n",
       "[132 rows x 11 columns]"
      ]
     },
     "execution_count": 99,
     "metadata": {},
     "output_type": "execute_result"
    }
   ],
   "source": [
    "train.groupby(train['capital gains']).mean()"
   ]
  },
  {
   "cell_type": "code",
   "execution_count": 100,
   "metadata": {},
   "outputs": [
    {
     "data": {
      "text/plain": [
       "count    249459.000000\n",
       "mean        476.650259\n",
       "std        4975.778560\n",
       "min           0.000000\n",
       "25%           0.000000\n",
       "50%           0.000000\n",
       "75%           0.000000\n",
       "max       99999.000000\n",
       "Name: capital gains, dtype: float64"
      ]
     },
     "execution_count": 100,
     "metadata": {},
     "output_type": "execute_result"
    }
   ],
   "source": [
    "data['capital gains'].describe()"
   ]
  },
  {
   "cell_type": "code",
   "execution_count": 101,
   "metadata": {},
   "outputs": [
    {
     "data": {
      "text/plain": [
       "0.0        239863\n",
       "15024.0      1097\n",
       "7688.0        805\n",
       "7298.0        761\n",
       "99999.0       549\n",
       "            ...  \n",
       "4594.0          1\n",
       "2601.0          1\n",
       "8530.0          1\n",
       "2227.0          1\n",
       "2387.0          1\n",
       "Name: capital gains, Length: 132, dtype: int64"
      ]
     },
     "execution_count": 101,
     "metadata": {},
     "output_type": "execute_result"
    }
   ],
   "source": [
    "data['capital gains'].value_counts()"
   ]
  },
  {
   "cell_type": "code",
   "execution_count": 102,
   "metadata": {},
   "outputs": [],
   "source": [
    "### -1 ~ 0 zero, 0~ 3000 under_3000, under_7000, under_15000, under_30000, under_50000, under_100000\n",
    "cap_bin = [-1, 0, 3000, 7000, 15000, 30000, 50000, 100000]\n",
    "cap_label = ['zero','under_3000','under_7000','under_15000','under_30000','under_50000','under_100000']\n",
    "cap_cats = pd.cut(data['capital gains'], cap_bin, labels = cap_label)"
   ]
  },
  {
   "cell_type": "code",
   "execution_count": 103,
   "metadata": {},
   "outputs": [
    {
     "data": {
      "text/plain": [
       "zero            239863\n",
       "under_7000        2649\n",
       "under_15000       2501\n",
       "under_3000        2407\n",
       "under_30000       1474\n",
       "under_100000       549\n",
       "under_50000         16\n",
       "Name: capital gains, dtype: int64"
      ]
     },
     "execution_count": 103,
     "metadata": {},
     "output_type": "execute_result"
    }
   ],
   "source": [
    "cap_cats.value_counts()"
   ]
  },
  {
   "cell_type": "code",
   "execution_count": 104,
   "metadata": {},
   "outputs": [],
   "source": [
    "data['cap_cats']= cap_cats"
   ]
  },
  {
   "cell_type": "markdown",
   "metadata": {},
   "source": [
    "## 19. dividends"
   ]
  },
  {
   "cell_type": "code",
   "execution_count": 105,
   "metadata": {},
   "outputs": [
    {
     "data": {
      "text/plain": [
       "0.0        222282\n",
       "100.0        1465\n",
       "500.0        1326\n",
       "1000.0       1184\n",
       "200.0        1161\n",
       "            ...  \n",
       "15939.0         1\n",
       "3169.0          1\n",
       "81000.0         1\n",
       "3555.0          1\n",
       "1160.0          1\n",
       "Name: dividends from stocks, Length: 1595, dtype: int64"
      ]
     },
     "execution_count": 105,
     "metadata": {},
     "output_type": "execute_result"
    }
   ],
   "source": [
    "data['dividends from stocks'].value_counts()"
   ]
  },
  {
   "cell_type": "code",
   "execution_count": 106,
   "metadata": {},
   "outputs": [],
   "source": [
    "### -1 ~ 0 zero, 0~ 100 under_100, under_1000, under_10000, under 15000, under_30000, under_50000, under_100000\n",
    "div_bin = [-1, 0, 100, 1000, 10000, 15000, 30000, 50000, 100000]\n",
    "div_label = ['zero','under_100','under_1000','under_10000','under_15000','under_30000','under_50000','under_100000']\n",
    "div_cats = pd.cut(data['dividends from stocks'], div_bin, labels = div_label)"
   ]
  },
  {
   "cell_type": "code",
   "execution_count": 107,
   "metadata": {},
   "outputs": [
    {
     "data": {
      "text/plain": [
       "zero            222282\n",
       "under_1000       11114\n",
       "under_100         8492\n",
       "under_10000       6619\n",
       "under_15000        424\n",
       "under_30000        346\n",
       "under_50000        117\n",
       "under_100000        65\n",
       "Name: dividends from stocks, dtype: int64"
      ]
     },
     "execution_count": 107,
     "metadata": {},
     "output_type": "execute_result"
    }
   ],
   "source": [
    "div_cats.value_counts()"
   ]
  },
  {
   "cell_type": "code",
   "execution_count": 108,
   "metadata": {},
   "outputs": [],
   "source": [
    "data['div_cats'] = div_cats"
   ]
  },
  {
   "cell_type": "markdown",
   "metadata": {},
   "source": [
    "## 20. Captial Loss"
   ]
  },
  {
   "cell_type": "code",
   "execution_count": 109,
   "metadata": {},
   "outputs": [
    {
     "data": {
      "text/plain": [
       "0       244423\n",
       "1902       554\n",
       "1977       541\n",
       "1887       471\n",
       "1602       252\n",
       "         ...  \n",
       "1956         2\n",
       "3900         2\n",
       "2080         1\n",
       "2519         1\n",
       "2769         1\n",
       "Name: capital losses, Length: 114, dtype: int64"
      ]
     },
     "execution_count": 109,
     "metadata": {},
     "output_type": "execute_result"
    }
   ],
   "source": [
    "data['capital losses'].value_counts()"
   ]
  },
  {
   "cell_type": "code",
   "execution_count": 110,
   "metadata": {},
   "outputs": [],
   "source": [
    "## 0과 1 이상으로 나누어 분류\n",
    "data['loss'] = data['capital losses'].copy()"
   ]
  },
  {
   "cell_type": "code",
   "execution_count": 111,
   "metadata": {},
   "outputs": [
    {
     "data": {
      "text/plain": [
       "0       244423\n",
       "1902       554\n",
       "1977       541\n",
       "1887       471\n",
       "1602       252\n",
       "         ...  \n",
       "1956         2\n",
       "3900         2\n",
       "2080         1\n",
       "2519         1\n",
       "2769         1\n",
       "Name: loss, Length: 114, dtype: int64"
      ]
     },
     "execution_count": 111,
     "metadata": {},
     "output_type": "execute_result"
    }
   ],
   "source": [
    "data['loss'].value_counts()"
   ]
  },
  {
   "cell_type": "code",
   "execution_count": 112,
   "metadata": {},
   "outputs": [],
   "source": [
    "data.loc[data['capital losses']>0,'capital losses'] =1"
   ]
  },
  {
   "cell_type": "code",
   "execution_count": 113,
   "metadata": {},
   "outputs": [
    {
     "data": {
      "text/plain": [
       "0       244423\n",
       "1902       554\n",
       "1977       541\n",
       "1887       471\n",
       "1602       252\n",
       "         ...  \n",
       "1956         2\n",
       "3900         2\n",
       "2080         1\n",
       "2519         1\n",
       "2769         1\n",
       "Name: loss, Length: 114, dtype: int64"
      ]
     },
     "execution_count": 113,
     "metadata": {},
     "output_type": "execute_result"
    }
   ],
   "source": [
    "data[\"loss\"].value_counts()"
   ]
  },
  {
   "cell_type": "code",
   "execution_count": 114,
   "metadata": {},
   "outputs": [
    {
     "data": {
      "text/plain": [
       "0    244423\n",
       "1      5036\n",
       "Name: capital losses, dtype: int64"
      ]
     },
     "execution_count": 114,
     "metadata": {},
     "output_type": "execute_result"
    }
   ],
   "source": [
    "data['capital losses'].value_counts()"
   ]
  },
  {
   "cell_type": "markdown",
   "metadata": {},
   "source": [
    "## 21. Weeks work in year"
   ]
  },
  {
   "cell_type": "code",
   "execution_count": 115,
   "metadata": {},
   "outputs": [
    {
     "data": {
      "text/plain": [
       "0.0    145580\n",
       "1.0    103879\n",
       "Name: weeks worked in year, dtype: int64"
      ]
     },
     "execution_count": 115,
     "metadata": {},
     "output_type": "execute_result"
    }
   ],
   "source": [
    "### 0 ~ 40 // 40~ 60 으로 분류\n",
    "data['weeks worked in year']\n",
    "data.loc[data['weeks worked in year']<40, 'weeks worked in year' ] = 0\n",
    "data.loc[data['weeks worked in year']>= 40 ,'weeks worked in year'] =1\n",
    "data['weeks worked in year'].value_counts()"
   ]
  },
  {
   "cell_type": "markdown",
   "metadata": {},
   "source": [
    "## wage per hour"
   ]
  },
  {
   "cell_type": "code",
   "execution_count": 116,
   "metadata": {},
   "outputs": [],
   "source": [
    "data['wage'] = data['wage per hour']*data['weeks worked in year']"
   ]
  },
  {
   "cell_type": "code",
   "execution_count": 117,
   "metadata": {},
   "outputs": [
    {
     "data": {
      "text/plain": [
       "0"
      ]
     },
     "execution_count": 117,
     "metadata": {},
     "output_type": "execute_result"
    }
   ],
   "source": [
    "data['wage'].isnull().sum()"
   ]
  },
  {
   "cell_type": "code",
   "execution_count": 118,
   "metadata": {},
   "outputs": [],
   "source": [
    "wage_bin = [-1, 0 , 1000, 50000, 100000, 550000]\n",
    "wage_label = ['zero','under_1000','under_50000','under_100000','under_550000']\n",
    "wage_cats = pd.cut(data['wage'], wage_bin, labels = wage_label)"
   ]
  },
  {
   "cell_type": "code",
   "execution_count": 119,
   "metadata": {},
   "outputs": [],
   "source": [
    "data['wage_cats'] = wage_cats"
   ]
  },
  {
   "cell_type": "code",
   "execution_count": 120,
   "metadata": {},
   "outputs": [
    {
     "data": {
      "text/plain": [
       "zero            238004\n",
       "under_1000        7070\n",
       "under_50000       4385\n",
       "under_550000         0\n",
       "under_100000         0\n",
       "Name: wage_cats, dtype: int64"
      ]
     },
     "execution_count": 120,
     "metadata": {},
     "output_type": "execute_result"
    }
   ],
   "source": [
    "data['wage_cats'].value_counts()"
   ]
  },
  {
   "cell_type": "markdown",
   "metadata": {},
   "source": [
    "# ** 본격적인 모델링 **"
   ]
  },
  {
   "cell_type": "code",
   "execution_count": 121,
   "metadata": {},
   "outputs": [],
   "source": [
    "data_save = data.copy()"
   ]
  },
  {
   "cell_type": "code",
   "execution_count": 123,
   "metadata": {},
   "outputs": [],
   "source": [
    "##필요없는 칼럼 드랍\n",
    "del data['detailed household and family stat'], data['year'], data['country of birth father'], data['family members under 18'], \\\n",
    "data['live in this house 1 year ago'], data['country of birth mother'], data['''fill inc questionnaire for veteran's admin'''], \\\n",
    "data['migration code-change in msa'], data['migration code-change in reg'], data['migration code-move within reg']"
   ]
  },
  {
   "cell_type": "code",
   "execution_count": 128,
   "metadata": {},
   "outputs": [],
   "source": [
    "new_data = pd.get_dummies(data)"
   ]
  },
  {
   "cell_type": "code",
   "execution_count": 133,
   "metadata": {},
   "outputs": [
    {
     "data": {
      "text/plain": [
       "((189697, 272), (59762, 272))"
      ]
     },
     "execution_count": 133,
     "metadata": {},
     "output_type": "execute_result"
    }
   ],
   "source": [
    "train = new_data.iloc[:189697] \n",
    "test = new_data.iloc[189697:]\n",
    "train.shape, test.shape"
   ]
  },
  {
   "cell_type": "code",
   "execution_count": 134,
   "metadata": {},
   "outputs": [
    {
     "name": "stdout",
     "output_type": "stream",
     "text": [
      "--\n",
      "--\n",
      "--\n",
      "--\n",
      "--\n"
     ]
    }
   ],
   "source": [
    "model1 = CatBoostClassifier(random_state=1271, learning_rate=0.01025, iterations= 6000, logging_level= 'Silent').fit(train,y)\n",
    "print(\"--\")\n",
    "model2 = CatBoostClassifier(random_state=7325, learning_rate=0.0102525, iterations= 6000, logging_level= 'Silent').fit(train,y)\n",
    "print(\"--\")\n",
    "model3 = CatBoostClassifier(random_state=7229, learning_rate=0.010255, iterations= 6000, logging_level= 'Silent').fit(train,y)\n",
    "print(\"--\")\n",
    "model4 = CatBoostClassifier(random_state=1999, learning_rate=0.0102575, iterations= 6000, logging_level= 'Silent').fit(train,y)\n",
    "print(\"--\")\n",
    "model5 = CatBoostClassifier(random_state=1924, learning_rate=0.01025, iterations= 6000).fit(train,y)\n",
    "print(\"--\")\n"
   ]
  },
  {
   "cell_type": "code",
   "execution_count": 135,
   "metadata": {},
   "outputs": [],
   "source": [
    "df = pd.DataFrame(model1.predict_proba(test))\n",
    "df2 = pd.DataFrame(model2.predict_proba(test))\n",
    "df3 = pd.DataFrame(model3.predict_proba(test))\n",
    "df4 = pd.DataFrame(model4.predict_proba(test))\n",
    "df5 = pd.DataFrame(model5.predict_proba(test))"
   ]
  },
  {
   "cell_type": "code",
   "execution_count": 166,
   "metadata": {},
   "outputs": [
    {
     "name": "stdout",
     "output_type": "stream",
     "text": [
      "5673\n",
      "5532\n",
      "5372\n",
      "5174\n",
      "4959\n"
     ]
    }
   ],
   "source": [
    "sub_list = []\n",
    "for i in df[1]:\n",
    "    if i >0.275:\n",
    "        sub_list.append(1)\n",
    "    else:\n",
    "        sub_list.append(0)\n",
    "print(sum(sub_list)  )    \n",
    "sub_list2 = []\n",
    "for i in df2[1]:\n",
    "    if i >0.288:\n",
    "        sub_list2.append(1)\n",
    "    else:\n",
    "        sub_list2.append(0)\n",
    "print(sum(sub_list2) )       \n",
    "sub_list3 = []\n",
    "for i in df3[1]:\n",
    "    if i >0.3:\n",
    "        sub_list3.append(1)\n",
    "    else:\n",
    "        sub_list3.append(0)\n",
    "print(sum(sub_list3) )       \n",
    "sub_list4 = []\n",
    "for i in df4[1]:\n",
    "    if i >0.315:\n",
    "        sub_list4.append(1)\n",
    "    else:\n",
    "        sub_list4.append(0)\n",
    "print(sum(sub_list4) )       \n",
    "sub_list5 = []\n",
    "for i in df5[1]:\n",
    "    if i >0.333:\n",
    "        sub_list5.append(1)\n",
    "    else:\n",
    "        sub_list5.append(0)\n",
    "print(sum(sub_list5))"
   ]
  },
  {
   "cell_type": "code",
   "execution_count": 167,
   "metadata": {},
   "outputs": [
    {
     "data": {
      "text/plain": [
       "5785"
      ]
     },
     "execution_count": 167,
     "metadata": {},
     "output_type": "execute_result"
    }
   ],
   "source": [
    "join_list = []\n",
    "for i in range(len(sub_list)):\n",
    "    if sub_list[i] == 1 or sub_list2[i] == 1 or sub_list3[i] == 1 or sub_list4[i] == 1 or sub_list5[i] == 1:\n",
    "        join_list.append(1)\n",
    "    else:\n",
    "        join_list.append(0)\n",
    "        \n",
    "sum(join_list)"
   ]
  },
  {
   "cell_type": "code",
   "execution_count": 168,
   "metadata": {},
   "outputs": [],
   "source": [
    "sub = pd.read_csv(\"../data/sampleSubmission.csv\",index_col=\"ID\")\n",
    "sub[\"income\"] = join_list\n",
    "sub.to_csv(\"../sub/newsubmit02.csv\")"
   ]
  }
 ],
 "metadata": {
  "kernelspec": {
   "display_name": "Python 3",
   "language": "python",
   "name": "python3"
  },
  "language_info": {
   "codemirror_mode": {
    "name": "ipython",
    "version": 3
   },
   "file_extension": ".py",
   "mimetype": "text/x-python",
   "name": "python",
   "nbconvert_exporter": "python",
   "pygments_lexer": "ipython3",
   "version": "3.7.4"
  }
 },
 "nbformat": 4,
 "nbformat_minor": 2
}
