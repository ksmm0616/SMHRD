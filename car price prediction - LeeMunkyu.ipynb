{
 "cells": [
  {
   "cell_type": "markdown",
   "metadata": {},
   "source": [
    "# 라이브러리"
   ]
  },
  {
   "cell_type": "code",
   "execution_count": 1,
   "metadata": {},
   "outputs": [
    {
     "name": "stdout",
     "output_type": "stream",
     "text": [
      " - Made by LeeMunKyu\n"
     ]
    }
   ],
   "source": [
    "print(\" - Made by LeeMunKyu\")\n",
    "\"\"\"base_module\"\"\"\n",
    "import pandas as pd\n",
    "import numpy as np\n",
    "from tqdm import tqdm_notebook\n",
    "\"\"\"visualization\"\"\"\n",
    "import matplotlib.pyplot as plt\n",
    "from matplotlib import font_manager, rc\n",
    "font_name = font_manager.FontProperties(fname=\"c:/Windows/Fonts/malgun.ttf\").get_name()\n",
    "rc(\"font\",family=font_name)\n",
    "import seaborn as sns\n",
    "\"\"\"preprocessing\"\"\"\n",
    "from sklearn.preprocessing import MinMaxScaler\n",
    "from sklearn.model_selection import train_test_split, cross_val_score\n",
    "\"\"\"machinelearning_algorithm\"\"\"\n",
    "from catboost import CatBoostRegressor\n",
    "\"\"\"scoring\"\"\"\n",
    "from sklearn.metrics import mean_squared_error,mean_absolute_error\n",
    "\"\"\"etc\"\"\"\n",
    "import warnings\n",
    "warnings.filterwarnings(\"ignore\")"
   ]
  },
  {
   "cell_type": "markdown",
   "metadata": {},
   "source": [
    "# 데이터 로드"
   ]
  },
  {
   "cell_type": "code",
   "execution_count": 2,
   "metadata": {},
   "outputs": [],
   "source": [
    "data = pd.read_csv(\"../data/train-data.csv\")\n",
    "data.reset_index(drop=True)\n",
    "del data[\"ID\"]\n",
    "\n",
    "테스트 = pd.read_csv(\"../data/test-data.csv\")\n",
    "테스트.reset_index(drop=True)\n",
    "del 테스트[\"ID\"]\n",
    "\n",
    "price = data[\"Price\"]\n",
    "total = pd.concat([data,테스트])\n",
    "total.reset_index(drop=True,inplace=True)\n",
    "del total[\"Price\"]"
   ]
  },
  {
   "cell_type": "code",
   "execution_count": 3,
   "metadata": {
    "scrolled": true
   },
   "outputs": [
    {
     "name": "stdout",
     "output_type": "stream",
     "text": [
      "<class 'pandas.core.frame.DataFrame'>\n",
      "RangeIndex: 6018 entries, 0 to 6017\n",
      "Data columns (total 11 columns):\n",
      "Engine               5896 non-null object\n",
      "Fuel_Type            5726 non-null object\n",
      "Kilometers_Driven    5172 non-null float64\n",
      "Location             5924 non-null object\n",
      "Mileage              5958 non-null object\n",
      "Name                 6018 non-null object\n",
      "Owner_Type           5753 non-null object\n",
      "Power                5154 non-null object\n",
      "Seats                5942 non-null float64\n",
      "Transmission         6018 non-null object\n",
      "Year                 5661 non-null float64\n",
      "dtypes: float64(3), object(8)\n",
      "memory usage: 517.3+ KB\n"
     ]
    }
   ],
   "source": [
    "total.info()"
   ]
  },
  {
   "cell_type": "markdown",
   "metadata": {},
   "source": [
    "# 0. 예슬's Preprocessing"
   ]
  },
  {
   "cell_type": "markdown",
   "metadata": {},
   "source": [
    "# 0-1. 엔진분류"
   ]
  },
  {
   "cell_type": "code",
   "execution_count": 4,
   "metadata": {},
   "outputs": [],
   "source": [
    "for i in range(len(total)) :\n",
    "        if(pd.isnull(total[\"Fuel_Type\"][i])):\n",
    "            ###디젤 엔진\n",
    "                if 'TDI' in total['Name'][i].split(\" \") :\n",
    "                    total['Fuel_Type'][i] = 'Diesel'\n",
    "                if 'CDRi' in total['Name'][i].split(\" \") or 'CDRI' in total['Name'][i].split(\" \") :\n",
    "                    total['Fuel_Type'][i] = 'Diesel'\n",
    "                if 'CDI' in total['Name'][i].split(\" \") :\n",
    "                    total['Fuel_Type'][i] = 'Diesel'\n",
    "                if 'VGT' in total['Name'][i].split(\" \") :\n",
    "                    total['Fuel_Type'][i] = 'Diesel'\n",
    "                if 'GD' in total['Name'][i].split(\" \") :\n",
    "                    total['Fuel_Type'][i] = 'Diesel'\n",
    "                if 'HSE' in total['Name'][i].split(\" \") :\n",
    "                    total['Fuel_Type'][i] = 'Diesel'\n",
    "                if 'Quadrajet' in total['Name'][i].split(\" \") :\n",
    "                    total['Fuel_Type'][i] = 'Diesel'\n",
    "                if 'Quattro' in total['Name'][i].split(\" \") or 'quattro' in total['Name'][i].split(\" \") :\n",
    "                    total['Fuel_Type'][i] = 'Diesel' \n",
    "                if 'ZDI' in total['Name'][i].split(\" \") or 'ZDi' in total['Name'][i].split(\" \") :\n",
    "                    total['Fuel_Type'][i] = 'Diesel' \n",
    "                if 'VDI' in total['Name'][i].split(\" \") or 'VDi' in total['Name'][i].split(\" \") :\n",
    "                    total['Fuel_Type'][i] = 'Diesel'  \n",
    "                if 'LDI' in total['Name'][i].split(\" \") or 'LDi' in total['Name'][i].split(\" \") or 'Ldi' in total['Name'][i].split(\" \") :\n",
    "                    total['Fuel_Type'][i] = 'Diesel'  \n",
    "\n",
    "            ###가솔린(petrol) \n",
    "                if 'Petrol' in total['Name'][i].split(\" \") or '(Petrol)' in total['Name'][i].split(\" \") :\n",
    "                    total['Fuel_Type'][i] = 'Petrol'\n",
    "                if 'TFSI' in total['Name'][i].split(\" \") or 'FSI' in total['Name'][i].split(\" \") :\n",
    "                    total['Fuel_Type'][i] = 'Petrol'\n",
    "                if 'GDI' in total['Name'][i].split(\" \") or 'GDi' in total['Name'][i].split(\" \") :\n",
    "                    total['Fuel_Type'][i] = 'Petrol'\n",
    "                if 'LXI' in total['Name'][i].split(\" \") or 'LXi' in total['Name'][i].split(\" \") :\n",
    "                    total['Fuel_Type'][i] = 'Petrol'\n",
    "                if 'D-4D' in total['Name'][i].split(\" \") :\n",
    "                    total['Fuel_Type'][i] = 'Petrol'\n",
    "                if 'CGI' in total['Name'][i].split(\" \") :\n",
    "                    total['Fuel_Type'][i] = 'Petrol'\n",
    "                if 'TSI' in total['Name'][i].split(\" \") :\n",
    "                    total['Fuel_Type'][i] = 'Petrol'\n",
    "                if 'MPI' in total['Name'][i].split(\" \") :\n",
    "                    total['Fuel_Type'][i] = 'Petrol'\n",
    "                if 'i-Vtech' in total['Name'][i].split(\" \") or 'VTEC' in total['Name'][i].split(\" \") or 'i-VTEC' in total['Name'][i].split(\" \") :\n",
    "                    total['Fuel_Type'][i] = 'Petrol'\n",
    "                if 'VXI' in total['Name'][i].split(\" \") or 'VXi' in total['Name'][i].split(\" \") :\n",
    "                    total['Fuel_Type'][i] = 'Petrol'\n",
    "\n",
    "            ###천연(CNG)\n",
    "                if 'CNG' in total['Name'][i].split(\" \") or '(CNG)' in total['Name'][i].split(\" \") :\n",
    "                    total['Fuel_Type'][i] = 'CNG'\n",
    "            ###LPG\n",
    "                if 'LPG' in total['Name'][i].split(\" \") or '(LPG)' in total['Name'][i].split(\" \"):\n",
    "                    total['Fuel_Type'][i] = 'LPG'\n",
    "        else : pass\n"
   ]
  },
  {
   "cell_type": "markdown",
   "metadata": {},
   "source": [
    "# 0-2 . 차종 분류"
   ]
  },
  {
   "cell_type": "code",
   "execution_count": 5,
   "metadata": {},
   "outputs": [],
   "source": [
    "total['cartype']= 'null'\n",
    "\n",
    "for i in range(len(total)) :\n",
    "        if 'Sedan' in total['Name'][i].split(\" \") :\n",
    "            total['cartype'][i] = 'Sedan'\n",
    "        if 'Sport' in total['Name'][i].split(\" \") :\n",
    "            total['cartype'][i] = 'SUV'\n",
    "        if 'Wagon' in total['Name'][i].split(\" \") :\n",
    "            total['cartype'][i] = 'Wagon'\n",
    "        if 'Hatchback' in total['Name'][i].split(\" \") :\n",
    "            total['cartype'][i] = 'Hatchback'\n",
    "        if 'Coupe' in total['Name'][i].split(\" \") :\n",
    "            total['cartype'][i] = 'Coupe'\n",
    "        if 'Convertible' in total['Name'][i].split(\" \") :\n",
    "            total['cartype'][i] = 'Convertible'\n",
    "        #### 기본 분류\n",
    "        if 'Sportz' in total['Name'][i].split(\" \") :\n",
    "            total['cartype'][i] = 'SUV'               ####스포티지 : 준중형 suv\n",
    "        if '7-seater' in total['Name'][i].split(\" \") or '8-seater' in total['Name'][i].split(\" \") :\n",
    "            total['cartype'][i] = 'MUV'  \n",
    " ###############################################################################################  브랜드별 분류         \n",
    "        if 'X1' in total['Name'][i].split(\" \") or 'X3' in total['Name'][i].split(\" \") :\n",
    "            total['cartype'][i] = 'SUV'\n",
    "        if '1' in total['Name'][i].split(\" \") and 'Series' in total['Name'][i].split(\" \") :\n",
    "            total['cartype'][i] = 'Hatchback'     \n",
    "        if '3' in total['Name'][i].split(\" \") and 'Series' in total['Name'][i].split(\" \") :\n",
    "            total['cartype'][i] = 'Sedan' \n",
    "        if '5' in total['Name'][i].split(\" \") and 'Series' in total['Name'][i].split(\" \") :\n",
    "            total['cartype'][i] = 'Sedan'\n",
    "        if '7' in total['Name'][i].split(\" \") and 'Series' in total['Name'][i].split(\" \") :\n",
    "            total['cartype'][i] = 'Sedan'\n",
    "        if 'X5' in total['Name'][i].split(\" \") or 'X6' in total['Name'][i].split(\" \") :\n",
    "            total['cartype'][i] = 'SUV'\n",
    "        if 'Z4' in total['Name'][i].split(\" \") :\n",
    "            total['cartype'][i] = 'Convertible'\n",
    "            \n",
    "            #### BMW\n",
    "            #### 1 Series : 해치백\n",
    "            #### 3 Series : Sedan, 중형 , \n",
    "            #### 5 Series : 준대형 (Sedan 추정) , X5, X6 : 준대형 SUV\n",
    "            #### 7 Series : 대형 Sedan\n",
    "            #### X1 : 준중형 suv, X3 : 중형 suv ,  \n",
    "            #### Z4 : Convertible\n",
    "            \n",
    "        if 'GLC' in total['Name'][i].split(\" \") or 'GLA' in total['Name'][i].split(\" \") or 'GLE' in total['Name'][i].split(\" \") \\\n",
    "        or 'GLS' in total['Name'][i].split(\" \") :\n",
    "            total['cartype'][i] = 'SUV' \n",
    "        if 'M-Class' in total['Name'][i].split(\" \") or 'GL-Class' in total['Name'][i].split(\" \") :\n",
    "            total['cartype'][i] = 'SUV'\n",
    "        if  'A' in total['Name'][i].split(\" \") or 'S' in total['Name'][i].split(\" \") and 'Class' in total['Name'][i].split(\" \"):\n",
    "            total['cartype'][i] = 'Sedan'\n",
    "        if  'B' in total['Name'][i].split(\" \") or 'C' in total['Name'][i].split(\" \") and 'Class' in total['Name'][i].split(\" \"):\n",
    "            total['cartype'][i] = 'Sedan'\n",
    "        if 'E-Class' in total['Name'][i].split(\" \") or 'C-Class' in total['Name'][i].split(\" \") or 'S-Class' in total['Name'][i].split(\" \") or 'CLS-Class' in total['Name'][i].split(\" \") or 'CLA' in total['Name'][i].split(\" \") :\n",
    "            total['cartype'][i] = 'Sedan'\n",
    "        if 'SLK-Class' in total['Name'][i].split(\" \") or 'SL-Class' in total['Name'][i].split(\" \") :\n",
    "            total['cartype'][i] = 'Coupe'\n",
    "        if 'R-Class' in total['Name'][i].split(\" \") :\n",
    "            total['cartype'][i] = 'MUV'\n",
    "        if 'SLC' in total['Name'][i].split(\" \") :\n",
    "            total['cartype'][i] = 'Convertible'\n",
    "            \n",
    "            #### 메르세데스-벤츠 \n",
    "            #### A Class : 준중형 세단/해치백\n",
    "            #### GLC : 중형 SUV, GLE, GLA : 준중형 SUV , M-Class, GL-Class : SUV \n",
    "            #### C-Class, S Class : 대형 세단/쿠페 , \n",
    "            #### B class, E-Class : 준대형 세단/쿠페  CLA : 쿠페형 세단, SLC : 컨버티블\n",
    "            #### CLS-Class 준대형 세단\n",
    "            #### GLS : 대형 SUV \n",
    "            #### SLK-Class, SL-Class : Coupe\n",
    "            #### R-Class : 미니밴(MUV)\n",
    "            \n",
    "        if 'Land' in total['Name'][i].split(\" \") and 'Rover' in total['Name'][i].split(\" \") :\n",
    "            total['cartype'][i] = 'SUV'\n",
    "        if 'Freelander' in total['Name'][i].split(\" \") or 'Evoke' in total['Name'][i].split(\" \") :\n",
    "            total['cartype'][i] = 'SUV'\n",
    "            \n",
    "            #### 랜드로버\n",
    "            ####Discovery Sport : 중형 suv    \n",
    "            ####Land Rover Sport : 준대형 suv\n",
    "            ####Land Rover Range Rover : 준대형 suv\n",
    "            ####Land Rover Freelander,Evoke : 중형 suv \n",
    "            \n",
    "        if 'Q3' in total['Name'][i].split(\" \") or 'Q5' in total['Name'][i].split(\" \") or 'Q7' in total['Name'][i].split(\" \") :\n",
    "            total['cartype'][i] = 'SUV' \n",
    "        if 'A6' in total['Name'][i].split(\" \") or 'A4' in total['Name'][i].split(\" \") or 'A7' in total['Name'][i].split(\" \") \\\n",
    "        or 'A8' in total['Name'][i].split(\" \") :\n",
    "            total['cartype'][i] = 'Sedan'\n",
    "        if 'TT' in total['Name'][i].split(\" \") :\n",
    "            total['cartype'][i] = 'Coupe'\n",
    "        if 'A3' in total['Name'][i].split(\" \") :\n",
    "            total['cartype'][i] = 'Hatchback'\n",
    "            \n",
    "            #### 아우디 \n",
    "            #### Q3(준중형),Q5 : 중형 suv,  Q7 : 준대형 suv\n",
    "            #### A6 : 준대형 세단/왜건 , A4: 중형 세단/왜건 A3 : 해치백 , A7 : 세단,  A8 : 대형 세단\n",
    "            #### TT : 소형 Coupe\n",
    "            \n",
    "        if 'City' in total['Name'][i].split(\" \") or 'Jazz' in total['Name'][i].split(\" \") :\n",
    "            total['cartype'][i] = 'Hatchback'\n",
    "        if 'Brio' in total['Name'][i].split(\" \") or 'Amaze' in total['Name'][i].split(\" \") or 'Accord' in total['Name'][i].split(\" \") \\\n",
    "        or 'Civic' in total['Name'][i].split(\" \") :\n",
    "            total['cartype'][i] = 'Sedan'\n",
    "        if 'BRV' in total['Name'][i].split(\" \") or 'BR-V' in total['Name'][i].split(\" \") or 'WRV' in total['Name'][i].split(\" \") or 'XRV' in total['Name'][i].split(\" \") \\\n",
    "        or 'HRV' in total['Name'][i].split(\" \") or 'CR-V' in total['Name'][i].split(\" \") or 'WR-V' in total['Name'][i].split(\" \") :\n",
    "            total['cartype'][i] = 'SUV'\n",
    "        if 'Mobilio' in total['Name'][i].split(\" \") :\n",
    "            total['cartype'][i] = 'MUV'\n",
    "            \n",
    "            #### 혼다 \n",
    "            #### BRV,WRV,XRV, HRV, CRV, 파일럿 : suv\n",
    "            #### City, Brio, Amaze, Jazz : 소형(해치/세단)\n",
    "            #### 중형 Accord, 준중형 Civic\n",
    "            #### Mobilio : MPV(MUV)\n",
    "            \n",
    "        if 'Etios' in total['Name'][i].split(\" \") or 'Corolla' in total['Name'][i].split(\" \") or 'Camry' in total['Name'][i].split(\" \") :\n",
    "            total['cartype'][i] = 'Sedan'\n",
    "        if 'Fortuner' in total['Name'][i].split(\" \") :\n",
    "            total['cartype'][i] = 'SUV'\n",
    "        if 'Qualis' in total['Name'][i].split(\" \") or 'Innova' in total['Name'][i].split(\" \"):\n",
    "            total['cartype'][i] = 'MUV'  \n",
    "            \n",
    "            #### 도요타 \n",
    "            #### Etios : 소형 세단\n",
    "            #### Fortuner : suv , Innova : MPV , Corolla : 준중형 세단\n",
    "            #### Qualis : MPV , Camry Hybrid : 중형 세단\n",
    "            \n",
    "        if 'Swift' in total['Name'][i].split(\" \") or 'SX4' in total['Name'][i].split(\" \") or 'Ignis' in total['Name'][i].split(\" \") \\\n",
    "           or 'Baleno' in total['Name'][i].split(\" \") or 'Celerio' in total['Name'][i].split(\" \") or 'Zen' in total['Name'][i].split(\" \") or\\\n",
    "       'Estilo' in total['Name'][i].split(\" \") :\n",
    "            total['cartype'][i] = 'Hatchback'\n",
    "        if 'Alto' in total['Name'][i].split(\" \") or '800' in total['Name'][i].split(\" \") or 'A-Star' in total['Name'][i].split(\" \") or \\\n",
    "            'Ritz' in total['Name'][i].split(\" \") :\n",
    "            total['cartype'][i] = 'Wagon'\n",
    "        if 'Vitara' in total['Name'][i].split(\" \") :\n",
    "            total['cartype'][i] = 'SUV'\n",
    "        if 'S' in total['Name'][i].split(\" \") and 'Cross' in total['Name'][i].split(\" \") or 'S-Cross' in total['Name'][i].split(\" \") :\n",
    "            total['cartype'][i] = 'SUV'\n",
    "        if 'Ciaz' in total['Name'][i].split(\" \") or 'Dzire' in total['Name'][i].split(\" \") or 'Esteem' in total['Name'][i].split(\" \") or \\\n",
    "            '1000' in total['Name'][i].split(\" \") :\n",
    "            total['cartype'][i] = 'Sedan'\n",
    "        if 'Ertiga' in total['Name'][i].split(\" \") or 'Omni' in total['Name'][i].split(\" \") or 'Eeco' in total['Name'][i].split(\" \") or \\\n",
    "        'Versa' in total['Name'][i].split(\" \") :\n",
    "            total['cartype'][i] = 'MUV'\n",
    "            \n",
    "            #### Maruti(마루티 스즈키, 일본회사, 인도1위)\n",
    "            #### Swift, SX4, Ignis, Baleno, Celerio, Zen Estilo : 해치백\n",
    "            #### Alto, 800 , A-Star(추정), Ritz : 경차(웨건?)\n",
    "            #### Ertiga , Omni, Eeco, Versa(추정): MPV(MUV)\n",
    "            #### Vitara Brezza, S Cross(추정) : SUV\n",
    "            #### Ciaz, Dzire, Esteem, 1000 : 세단  \n",
    "            \n",
    "        if 'Laura' in total['Name'][i].split(\" \") or 'Superb' in total['Name'][i].split(\" \") or 'Superb' in total['Name'][i].split(\" \") or \\\n",
    "        'Rapid' in total['Name'][i].split(\" \") or 'Octavia' in total['Name'][i].split(\" \") or 'Fabia' in total['Name'][i].split(\" \") :\n",
    "            total['cartype'][i] = 'Sedan'\n",
    "        if 'Yeti' in total['Name'][i].split(\" \") :\n",
    "            total['cartype'][i] = 'SUV'\n",
    "            \n",
    "            #### Sokoda(소코다)\n",
    "            #### Laura, Superb, Octavia, Rapid, Fabia : 세단\n",
    "            #### Yeti : SUV\n",
    "            \n",
    "        if 'i20' in total['Name'][i].split(\" \") or 'EON' in total['Name'][i].split(\" \") or 'Getz' in total['Name'][i].split(\" \") :\n",
    "            total['cartype'][i] = 'Hatchback'\n",
    "        if 'Elantra' in total['Name'][i].split(\" \") or 'Verna' in total['Name'][i].split(\" \") or 'Accent' in total['Name'][i].split(\" \") \\\n",
    "        or 'Xcent' in total['Name'][i].split(\" \") or 'Sonata' in total['Name'][i].split(\" \") :\n",
    "            total['cartype'][i] = 'Sedan'\n",
    "        if 'Creta' in total['Name'][i].split(\" \") or 'Santa' in total['Name'][i].split(\" \") or 'Tucson' in total['Name'][i].split(\" \") :\n",
    "            total['cartype'][i] = 'SUV'\n",
    "        if 'i10' in total['Name'][i].split(\" \") or 'Santro' in total['Name'][i].split(\" \") :\n",
    "            total['cartype'][i] = 'Hatchback'\n",
    "            \n",
    "            #### Hyundai(현대)\n",
    "            #### i20 Sportiz, i20 Magma, i20 Asta, EON, Getz : hatchback, \n",
    "            #### Elantra : 세단 추정\n",
    "            #### Verna, Accent : 소형(해치/세단)\n",
    "            #### Creta : 소형 SUV ,  Santa Fe, Tucson : SUV\n",
    "            #### Xcent : Sedan, Sonata : sedan\n",
    "            #### i10 , Santro : 경차, 해치백\n",
    "            \n",
    "        if 'Thar' in total['Name'][i].split(\" \") or 'Scorpio' in total['Name'][i].split(\" \") or 'Logan' in total['Name'][i].split(\" \") or \\\n",
    "        'Bolero' in total['Name'][i].split(\" \") or 'XUV500' in total['Name'][i].split(\" \") or 'Quanto' in total['Name'][i].split(\" \") \\\n",
    "        or 'TUV' in total['Name'][i].split(\" \") :\n",
    "            total['cartype'][i] = 'SUV'\n",
    "        if 'Ssangyong' in total['Name'][i].split(\" \") or 'NuvoSport' in total['Name'][i].split(\" \") or 'XUV300' in total['Name'][i].split(\" \") :\n",
    "            total['cartype'][i] = 'SUV'\n",
    "        if 'Mahindra' in total['Name'][i].split(\" \") and 'Jeep' in total['Name'][i].split(\" \") :\n",
    "            total['cartype'][i] = 'SUV'\n",
    "        if 'TUV' in total['Name'][i].split(\" \") and '300' in total['Name'][i].split(\" \") :\n",
    "            total['cartype'][i] = 'SUV'\n",
    "        if 'Verito' in total['Name'][i].split(\" \") or 'KUV' in total['Name'][i].split(\" \") :\n",
    "            total['cartype'][i] = 'Hatchback'\n",
    "        if 'Xylo' in total['Name'][i].split(\" \") :\n",
    "            total['cartype'][i] = 'MUV'\n",
    "            \n",
    "            #### Mahindra(인도회사)\n",
    "            #### Thar, Scorpio, Logan, Bolero(7-9 seat), XUV500, Quanto(mini): SUV\n",
    "            #### Ssangyong, NuvoSport, Jeep, TUV, XUV300, TUV 300 : SUV\n",
    "            ####  Verito, KUV : Hatchback\n",
    "            ####  Xylo : MUV , \n",
    "            \n",
    "        if 'Nexon' in total['Name'][i].split(\" \") or 'Hexa' in total['Name'][i].split(\" \") or 'Sumo' in total['Name'][i].split(\" \") or \\\n",
    "        'Safari' in total['Name'][i].split(\" \") :\n",
    "            total['cartype'][i] = 'SUV'\n",
    "        if 'Zest' in total['Name'][i].split(\" \") or 'Tigor' in total['Name'][i].split(\" \") or 'Indigo' in total['Name'][i].split(\" \") or \\\n",
    "        'Manza' in total['Name'][i].split(\" \") :\n",
    "            total['cartype'][i] = 'Sedan'\n",
    "        if 'Nano' in total['Name'][i].split(\" \") or 'Bolt' in total['Name'][i].split(\" \") or 'Tiago' in total['Name'][i].split(\" \") or \\\n",
    "        'Indica' in total['Name'][i].split(\" \") :\n",
    "            total['cartype'][i] = 'hatchback'\n",
    "        if 'Xenon' in total['Name'][i].split(\" \") or 'Venture' in total['Name'][i].split(\" \") or 'Indigo' in total['Name'][i].split(\" \") or \\\n",
    "        'Manza' in total['Name'][i].split(\" \") :\n",
    "            total['cartype'][i] = 'MUV'\n",
    "            \n",
    "            #### Tata(타타자동차)\n",
    "            #### Nexon, Hexa, Sumo ,  New Safari, Safari Strome : SUV \n",
    "            #### Zest, Tigor, Indigo, Manza : Sedan\n",
    "            #### Nano : 경차 , 해치백 추정 \n",
    "            #### Bolt, Tiago(추정), Indica : hatchback\n",
    "            #### , Xenon : 트럭 , Venture : MUV\n",
    "            \n",
    "        if 'Compass' in total['Name'][i].split(\" \")  :\n",
    "            total['cartype'][i] = 'SUV'\n",
    "            \n",
    "            #### Jeep(지프)\n",
    "            #### Compass(Limited, Longtitue, Sport) : SUV \n",
    "            \n",
    "        if 'Duster' in total['Name'][i].split(\" \") or 'Captur' in total['Name'][i].split(\" \") or 'KWID' in total['Name'][i].split(\" \") or \\\n",
    "            'Koleos' in total['Name'][i].split(\" \") :\n",
    "            total['cartype'][i] = 'SUV' \n",
    "        if 'Lodgy' in total['Name'][i].split(\" \")  :\n",
    "            total['cartype'][i] = 'MUV' \n",
    "        if 'Scala' in total['Name'][i].split(\" \") or 'Fluence' in total['Name'][i].split(\" \")  :\n",
    "            total['cartype'][i] = 'Sedan' \n",
    "        if 'Pulse' in total['Name'][i].split(\" \")  :\n",
    "            total['cartype'][i] = 'Hatchback'\n",
    "            \n",
    "            #### Renault(르노삼성)\n",
    "            #### Duster, Captur(소형), KWID, Koleos(준,중형) : SUV \n",
    "            #### Lodgy : MPV(MUV)\n",
    "            #### Scala , Fluence: Sedan\n",
    "            #### Pulse : Hatchback\n",
    "            \n",
    "        if 'Polo' in total['Name'][i].split(\" \") or 'CrossPolo' in total['Name'][i].split(\" \") :\n",
    "            total['cartype'][i] = 'Hatchback'\n",
    "        if 'Ameo' in total['Name'][i].split(\" \") or 'Passat' in total['Name'][i].split(\" \") or 'Jetta' in total['Name'][i].split(\" \") \\\n",
    "        or 'Vento' in total['Name'][i].split(\" \") :\n",
    "            total['cartype'][i] = 'Hatchback'\n",
    "        if 'Tiguan' in total['Name'][i].split(\" \") :\n",
    "            total['cartype'][i] = 'SUV'\n",
    "            \n",
    "            #### Volkswagen(폭스바겐, 독일)\n",
    "            #### Polo : 해치백/쿠페, CrossPolo : 해치\n",
    "            #### Ameo,Passat, Jetta: Sedan , Vento : 세단\n",
    "            #### Tiguan : SUV\n",
    "            \n",
    "        if 'Sail' in total['Name'][i].split(\" \") or 'Optra' in total['Name'][i].split(\" \") :\n",
    "            total['cartype'][i] = 'Sedan'\n",
    "        if 'Aveo' in total['Name'][i].split(\" \") or 'Cruze' in total['Name'][i].split(\" \") or \\\n",
    "            'Spark' in total['Name'][i].split(\" \") or 'Beat' in total['Name'][i].split(\" \"):\n",
    "            total['cartype'][i] = 'Hatchback'\n",
    "        if 'Enjoy' in total['Name'][i].split(\" \") or 'Tavera' in total['Name'][i].split(\" \") :\n",
    "            total['cartype'][i] = 'MUV'\n",
    "        if 'Captiva' in total['Name'][i].split(\" \") :\n",
    "            total['cartype'][i] = 'SUV'\n",
    "            \n",
    "            #### Chevrolet(쉐보레)\n",
    "            #### Sail, Optra : 세단(추정) \n",
    "            #### Aveo : 해치백, 세단, Cruze :해치백, 웨건\n",
    "            #### Spark, Beat : 경차 -- 해치백으로\n",
    "            #### Enjoy, Tavera : MPV(MUV)\n",
    "            #### Captiva : SUV\n",
    "            \n",
    "        if 'Sunny' in total['Name'][i].split(\" \") or 'Teana' in total['Name'][i].split(\" \") :\n",
    "            total['cartype'][i] = 'Sedan'\n",
    "        if 'Terrano' in total['Name'][i].split(\" \") or 'X-Trail' in total['Name'][i].split(\" \") :\n",
    "            total['cartype'][i] = 'SUV'\n",
    "        if 'Micra' in total['Name'][i].split(\" \") :\n",
    "            total['cartype'][i] = 'Hatchback'\n",
    "        if 'Evalia' in total['Name'][i].split(\" \") :\n",
    "            total['cartype'][i] = 'MUV'\n",
    "            \n",
    "            #### Nissan(닛산)\n",
    "            #### Sunny, Teana : Sedan\n",
    "            #### Terrano :  SUV , X-Trail \n",
    "            #### Micra : Hatchback\n",
    "            #### Evalia : MUV(VAN)\n",
    "            \n",
    "        if 'Cayenne' in total['Name'][i].split(\" \") :\n",
    "            total['cartype'][i] = 'SUV'\n",
    "        if 'Cayman' in total['Name'][i].split(\" \") or 'Boxster' in total['Name'][i].split(\" \") :\n",
    "            total['cartype'][i] = 'Coupe'\n",
    "        if 'Panamera' in total['Name'][i].split(\" \") :\n",
    "            total['cartype'][i] = 'Sedan'\n",
    "            \n",
    "            #### Porsche(포르쉐)\n",
    "            #### Cayenne : SUV\n",
    "            #### Cayman, Boxster : Coupe\n",
    "            #### Panamera : Sedan Luxury(sport car)\n",
    "            \n",
    "        if 'Ecosport' in total['Name'][i].split(\" \") or 'EcoSport' in total['Name'][i].split(\" \") or 'Endeavour' in total['Name'][i].split(\" \") :\n",
    "            total['cartype'][i] = 'SUV'\n",
    "        if 'Figo' in total['Name'][i].split(\" \") or 'Fiesta' in total['Name'][i].split(\" \") or 'Aspire' in total['Name'][i].split(\" \") :\n",
    "            total['cartype'][i] = 'Hatchback'\n",
    "        if 'Ford' in total['Name'][i].split(\" \") and 'Classic' in total['Name'][i].split(\" \") :\n",
    "            total['cartype'][i] = 'Hatchback'\n",
    "        if 'Ikon' in total['Name'][i].split(\" \") :\n",
    "            total['cartype'][i] = 'Sedan'\n",
    "        if 'Freestyle' in total['Name'][i].split(\" \") :\n",
    "            total['cartype'][i] = 'Wagon'\n",
    "            \n",
    "            #### Ford(포드)\n",
    "            #### Ecosport(소), Endeavour : SUV\n",
    "            #### Figo, Fiesta, Aspire, Classic(?) : Hatchback\n",
    "            #### Ikon : Sedan\n",
    "            #### Freestyle : Wagon\n",
    "            \n",
    "        if 'XF' in total['Name'][i].split(\" \") or 'XE' in total['Name'][i].split(\" \") or 'XJ' in total['Name'][i].split(\" \") :\n",
    "            total['cartype'][i] = 'Sedan'\n",
    "        if 'F' in total['Name'][i].split(\" \") and 'Type' in total['Name'][i].split(\" \") :\n",
    "            \n",
    "            total['cartype'][i] = 'Convertible'\n",
    "            #### Jaguar(재규어)\n",
    "            #### XF, XE, XJ : Sedan\n",
    "            ####  F type : Convertible(sport)\n",
    "            \n",
    "        if 'Pajero' in total['Name'][i].split(\" \") or 'Outlander' in total['Name'][i].split(\" \") or 'Montero' in total['Name'][i].split(\" \") :\n",
    "            total['cartype'][i] = 'SUV'\n",
    "        if 'Lancer' in total['Name'][i].split(\" \") or 'Cedia' in total['Name'][i].split(\" \")  :\n",
    "            total['cartype'][i] = 'Sedan'\n",
    "            \n",
    "            #### Mitsubishi(미쓰비시)\n",
    "            #### Pajero, Outlander : SUV , Montero : 풀사이즈 SUV\n",
    "            #### Lancer : Sedan(추정), Cedia : 세단\n",
    "\n",
    "        if 'GO' in total['Name'][i].split(\" \") or 'redi-GO' in total['Name'][i].split(\" \") :\n",
    "            total['cartype'][i] = 'Hatchback '\n",
    "            \n",
    "            #### Datsun(일본) \n",
    "            #### GO, redi-GO : hatchback\n",
    "            \n",
    "        if 'Linea' in total['Name'][i].split(\" \") or 'Petra' in total['Name'][i].split(\" \") :\n",
    "            total['cartype'][i] = 'Sedan' \n",
    "        if 'Punto' in total['Name'][i].split(\" \") or 'Avventura' in total['Name'][i].split(\" \") :\n",
    "            total['cartype'][i] = 'SUV' \n",
    "            \n",
    "            #### Fiat(이태리, 피아트)\n",
    "            #### Linea , Petra: Sedan\n",
    "            #### Punto, Avventura(추정) : SUV\n",
    "            \n",
    "        if 'V40' in total['Name'][i].split(\" \") :\n",
    "            total['cartype'][i] = 'Hatchback'\n",
    "        if 'S60' in total['Name'][i].split(\" \") or 'S80' in total['Name'][i].split(\" \") :\n",
    "            total['cartype'][i] = 'Sedan'\n",
    "        if 'XC60' in total['Name'][i].split(\" \") or 'XC90' in total['Name'][i].split(\" \") :\n",
    "            total['cartype'][i] = 'SUV'\n",
    "            \n",
    "            #### Volvo(볼보)\n",
    "            #### V40 : Hatchback \n",
    "            #### S60, S80 : Sedan \n",
    "            #### XC60 : SUV(중형), XC90 : SUV 준대형\n",
    "            \n",
    "        if 'Cooper' in total['Name'][i].split(\" \") or 'Countryman' in total['Name'][i].split(\" \") :\n",
    "            total['cartype'][i] = 'Coupe'\n",
    "            \n",
    "            #### Mini(미니쿠퍼/BMW)\n",
    "            ##### Cooper 5, Cooper 3, Countryman : Coupe\n",
    "            \n",
    "        if 'Force' in total['Name'][i].split(\" \") and 'One' in total['Name'][i].split(\" \") :\n",
    "            total['cartype'][i] = 'SUV'\n",
    "            \n",
    "            #### Force(포르쉐)\n",
    "            #### One : SUV    \n",
    "            \n",
    "        if 'D-MAX' in total['Name'][i].split(\" \") :\n",
    "            total['cartype'][i] = 'MUV'\n",
    "        if 'MUX' in total['Name'][i].split(\" \") :\n",
    "            total['cartype'][i] = 'SUV'\n",
    "            \n",
    "            #### Isuzu\n",
    "            #### D-MAX : 픽업트럭 , MUX : SUV(7seat)\n",
    "            \n",
    "        if 'Continental' in total['Name'][i].split(\" \") :\n",
    "            total['cartype'][i] = 'Coupe'\n",
    "            \n",
    "            #### Bentley(벤틀리)\n",
    "            #### continental : coupe\n",
    "            \n",
    "        if 'Gallardo' in total['Name'][i].split(\" \") :\n",
    "            total['cartype'][i] = 'Coupe'\n",
    "            \n",
    "            #### Lamborghini(람보르기니, 이태리)\n",
    "            ### Gallardo : coupe(sport)\n"
   ]
  },
  {
   "cell_type": "markdown",
   "metadata": {},
   "source": [
    "# 0-3 . 일부 모델 칼럼화"
   ]
  },
  {
   "cell_type": "code",
   "execution_count": 6,
   "metadata": {},
   "outputs": [
    {
     "data": {
      "application/vnd.jupyter.widget-view+json": {
       "model_id": "14d2a928157048d68e7304a42598c68b",
       "version_major": 2,
       "version_minor": 0
      },
      "text/plain": [
       "HBox(children=(IntProgress(value=0, max=6018), HTML(value='')))"
      ]
     },
     "metadata": {},
     "output_type": "display_data"
    },
    {
     "name": "stdout",
     "output_type": "stream",
     "text": [
      "\n"
     ]
    }
   ],
   "source": [
    "변환 = lambda x: chr(ord(x)-32)if ord(x)>=97 else x\n",
    "def 병합(s):\n",
    "    answer=\"\"\n",
    "    for word in s:\n",
    "        answer+=word\n",
    "    return answer\n",
    "total[\"LARGE_NAME\"]=\"\"\n",
    "for cnt in tqdm_notebook(range(len(total))): \n",
    "    total[\"LARGE_NAME\"][cnt] = 병합(list(map(변환,total[\"Name\"][cnt])))"
   ]
  },
  {
   "cell_type": "code",
   "execution_count": 7,
   "metadata": {},
   "outputs": [
    {
     "data": {
      "application/vnd.jupyter.widget-view+json": {
       "model_id": "a23cc2be278b41ddb9192b97ead2a5cd",
       "version_major": 2,
       "version_minor": 0
      },
      "text/plain": [
       "HBox(children=(IntProgress(value=0, max=6018), HTML(value='')))"
      ]
     },
     "metadata": {},
     "output_type": "display_data"
    },
    {
     "name": "stdout",
     "output_type": "stream",
     "text": [
      "\n"
     ]
    }
   ],
   "source": [
    "total[\"I20\"] = 0\n",
    "total[\"CITY\"] = 0\n",
    "total[\"CLASS\"] = 0\n",
    "total[\"BMW_X\"] = 0\n",
    "total[\"POLO\"] = 0\n",
    "total[\"SERIES\"] = 0\n",
    "total[\"CRUZE\"] = 0\n",
    "total[\"XCENT\"] = 0\n",
    "total[\"I10\"] = 0\n",
    "total[\"AUDI_A\"] = 0\n",
    "total[\"D320D\"] = 0\n",
    "\n",
    "for sw in tqdm_notebook(range(len(total[\"LARGE_NAME\"]))):\n",
    "            if(\"I20\" in total[\"LARGE_NAME\"][sw].split(\" \")):\n",
    "                total[\"I20\"][sw] = 1\n",
    "            if(\"I10\" in total[\"LARGE_NAME\"][sw].split(\" \")):\n",
    "                total[\"I10\"][sw] = 1\n",
    "            if(\"CITY\" in total[\"LARGE_NAME\"][sw].split(\" \")):\n",
    "                total[\"CITY\"][sw] = 1\n",
    "            if(\"CRUZE\" in total[\"LARGE_NAME\"][sw].split(\" \")):\n",
    "                total[\"CRUZE\"][sw] = 1\n",
    "            if(\"SERIES\" in total[\"LARGE_NAME\"][sw].split(\" \")):\n",
    "                total[\"SERIES\"][sw] = 1\n",
    "            if(\"POLO\" in total[\"LARGE_NAME\"][sw].split(\" \")):\n",
    "                total[\"POLO\"][sw] = 1\n",
    "            if(\"C-CLASS\" in total[\"LARGE_NAME\"][sw].split(\" \") or\n",
    "               \"S-CLASS\" in total[\"LARGE_NAME\"][sw].split(\" \") or\n",
    "               \"E-CLASS\" in total[\"LARGE_NAME\"][sw].split(\" \") or\n",
    "               \"GLA\" in total[\"LARGE_NAME\"][sw].split(\" \") or\n",
    "               \"CLASS\" in total[\"LARGE_NAME\"][sw].split(\" \") or\n",
    "               \"GL-CLASS\" in total[\"LARGE_NAME\"][sw].split(\" \") or\n",
    "               \"M-CLASS\" in total[\"LARGE_NAME\"][sw].split(\" \") or\n",
    "               \"GLA\" in total[\"LARGE_NAME\"][sw].split(\" \") or\n",
    "               \"A-CLASS\" in total[\"LARGE_NAME\"][sw].split(\" \")\n",
    "              ):\n",
    "                total[\"CLASS\"][sw] = 1\n",
    "            if(\"AUDI\" in total[\"LARGE_NAME\"][sw].split(\" \") and \"A3\" in total[\"LARGE_NAME\"][sw].split(\" \")or\n",
    "                                                            \"A4\" in total[\"LARGE_NAME\"][sw].split(\" \")or\n",
    "                                                           \"A6\" in total[\"LARGE_NAME\"][sw].split(\" \")or\n",
    "                                                            \"A7\" in total[\"LARGE_NAME\"][sw].split(\" \")or\n",
    "                                                        \"A8\" in total[\"LARGE_NAME\"][sw].split(\" \")):\n",
    "                total[\"AUDI_A\"][sw] = 1\n",
    "            if(\"320D\" in total[\"LARGE_NAME\"][sw].split(\" \")):\n",
    "                total[\"D320D\"][sw] = 1\n",
    "            if(\"XCENT\" in total[\"LARGE_NAME\"][sw].split(\" \")):\n",
    "                total[\"XCENT\"][sw] = 1\n",
    "            \n",
    "                \n",
    "            if(\"X1\" in total[\"LARGE_NAME\"][sw].split(\" \") or\n",
    "               \"X3\" in total[\"LARGE_NAME\"][sw].split(\" \") or\n",
    "               \"X5\" in total[\"LARGE_NAME\"][sw].split(\" \") or\n",
    "               \"X6\" in total[\"LARGE_NAME\"][sw].split(\" \")\n",
    "              ):\n",
    "                total[\"BMW_X\"][sw] = 1\n"
   ]
  },
  {
   "cell_type": "code",
   "execution_count": 8,
   "metadata": {},
   "outputs": [
    {
     "data": {
      "text/plain": [
       "Kilometers_Driven    304739574.0\n",
       "Seats                    31414.0\n",
       "Year                  11397643.0\n",
       "I20                        265.0\n",
       "CITY                       273.0\n",
       "CLASS                      266.0\n",
       "BMW_X                       72.0\n",
       "POLO                       156.0\n",
       "SERIES                     184.0\n",
       "CRUZE                       21.0\n",
       "XCENT                       60.0\n",
       "I10                        308.0\n",
       "AUDI_A                     137.0\n",
       "D320D                       69.0\n",
       "dtype: float64"
      ]
     },
     "execution_count": 8,
     "metadata": {},
     "output_type": "execute_result"
    }
   ],
   "source": [
    "total.sum()"
   ]
  },
  {
   "cell_type": "markdown",
   "metadata": {},
   "source": [
    "# 1. 브랜드 생성"
   ]
  },
  {
   "cell_type": "code",
   "execution_count": 9,
   "metadata": {},
   "outputs": [
    {
     "data": {
      "application/vnd.jupyter.widget-view+json": {
       "model_id": "1cda8efb9429402fa91899b6e2e29456",
       "version_major": 2,
       "version_minor": 0
      },
      "text/plain": [
       "HBox(children=(IntProgress(value=0, max=6018), HTML(value='')))"
      ]
     },
     "metadata": {},
     "output_type": "display_data"
    },
    {
     "name": "stdout",
     "output_type": "stream",
     "text": [
      "\n"
     ]
    }
   ],
   "source": [
    "total[\"Brand\"] = \"\"\n",
    "for cnt in tqdm_notebook(range(len(total))): \n",
    "    total.loc[cnt,\"Brand\"] = total.loc[cnt,\"Name\"].split(\" \")[0]"
   ]
  },
  {
   "cell_type": "markdown",
   "metadata": {},
   "source": [
    "# 2. 국적 생성"
   ]
  },
  {
   "cell_type": "code",
   "execution_count": 10,
   "metadata": {},
   "outputs": [],
   "source": [
    "Brand_dic = {\n",
    "'Maruti':'India',\n",
    " 'Hyundai':'Korea',\n",
    " 'Honda':'Japan',\n",
    " 'Toyota':'Japan',\n",
    " 'Volkswagen':'Germany',\n",
    " 'Mercedes-Benz':'Germany',\n",
    " 'Ford':'USA',\n",
    " 'BMW':'Germany',\n",
    " 'Mahindra':'India',\n",
    " 'Audi':'Germany',\n",
    " 'Tata':'India',\n",
    " 'Skoda':'Germany',\n",
    " 'Renault':'France',\n",
    " 'Chevrolet':'USA',\n",
    " 'Nissan':'Japan',\n",
    " 'Land':'UK',\n",
    " 'Jaguar':'UK',\n",
    " 'Mitsubishi':'Japan',\n",
    " 'Fiat':'Italy',\n",
    " 'Mini':'Germany',\n",
    " 'Volvo':'Sweden',\n",
    " 'Porsche':'Germany',\n",
    " 'Jeep':'USA',\n",
    " 'Datsun':'Japan',\n",
    " 'Force':'India',\n",
    " 'ISUZU':'Japan',\n",
    " 'Bentley':'UK',\n",
    " 'Lamborghini':'Italy',\n",
    " 'Isuzu':'Japan'}\n",
    "\n",
    "total[\"Nationality\"] = total[\"Brand\"].map(Brand_dic)"
   ]
  },
  {
   "cell_type": "code",
   "execution_count": 11,
   "metadata": {},
   "outputs": [],
   "source": [
    "Brand_dic = {\n",
    "'Maruti':'India',\n",
    " 'Hyundai':'India',\n",
    " 'Honda':'Japan',\n",
    " 'Toyota':'Japan',\n",
    " 'Volkswagen':'Germany',\n",
    " 'Mercedes-Benz':'Germany',\n",
    " 'Ford':'India',\n",
    " 'BMW':'Germany',\n",
    " 'Mahindra':'India',\n",
    " 'Audi':'Germany',\n",
    " 'Tata':'India',\n",
    " 'Skoda':'Germany',\n",
    " 'Renault':'India',\n",
    " 'Chevrolet':'India',\n",
    " 'Nissan':'Japan',\n",
    " 'Land':'Germany',\n",
    " 'Jaguar':'Germany',\n",
    " 'Mitsubishi':'Japan',\n",
    " 'Fiat':'Japan',\n",
    " 'Mini':'Germany',\n",
    " 'Volvo':'Germany',\n",
    " 'Porsche':'Germany',\n",
    " 'Jeep':'India',\n",
    " 'Datsun':'Japan',\n",
    " 'Force':'India',\n",
    " 'ISUZU':'Japan',\n",
    " 'Bentley':'Germany',\n",
    " 'Lamborghini':'Japan',\n",
    " 'Isuzu':'Japan'}\n",
    "\n",
    "total[\"Nationality2\"] = total[\"Brand\"].map(Brand_dic)"
   ]
  },
  {
   "cell_type": "markdown",
   "metadata": {},
   "source": [
    "# 3. 지역 파생변수"
   ]
  },
  {
   "cell_type": "code",
   "execution_count": 12,
   "metadata": {
    "scrolled": true
   },
   "outputs": [
    {
     "data": {
      "application/vnd.jupyter.widget-view+json": {
       "model_id": "4849471fd66644c8828145f8f0427fbd",
       "version_major": 2,
       "version_minor": 0
      },
      "text/plain": [
       "HBox(children=(IntProgress(value=0, max=11), HTML(value='')))"
      ]
     },
     "metadata": {},
     "output_type": "display_data"
    },
    {
     "name": "stdout",
     "output_type": "stream",
     "text": [
      "Mumbai 도시의 가격 평균 >>\t9.58\n",
      "Hyderabad 도시의 가격 평균 >>\t9.69\n",
      "Kochi 도시의 가격 평균 >>\t11.24\n",
      "Coimbatore 도시의 가격 평균 >>\t15.42\n",
      "Pune 도시의 가격 평균 >>\t6.59\n",
      "Kolkata 도시의 가격 평균 >>\t5.83\n",
      "Delhi 도시의 가격 평균 >>\t10.16\n",
      "Chennai 도시의 가격 평균 >>\t7.93\n",
      "Jaipur 도시의 가격 평균 >>\t5.76\n",
      "Bangalore 도시의 가격 평균 >>\t13.70\n",
      "Ahmedabad 도시의 가격 평균 >>\t8.76\n",
      "\n"
     ]
    }
   ],
   "source": [
    "loc_list = list(data[\"Location\"].value_counts().index)\n",
    "loc_price = []\n",
    "for loc in tqdm_notebook(loc_list):\n",
    "    print(loc,\"도시의 가격 평균 >>\\t{:.2f}\".format(data[data[\"Location\"]==loc][\"Price\"].mean()))\n",
    "    loc_price.append(data[data[\"Location\"]==loc][\"Price\"].mean())"
   ]
  },
  {
   "cell_type": "code",
   "execution_count": 13,
   "metadata": {},
   "outputs": [],
   "source": [
    "loc_mp_dic = {loc_list[0]:loc_price[0],\n",
    "       loc_list[1]:loc_price[1],\n",
    "       loc_list[2]:loc_price[2],\n",
    "       loc_list[3]:loc_price[3],\n",
    "       loc_list[4]:loc_price[4],\n",
    "       loc_list[5]:loc_price[5],\n",
    "       loc_list[6]:loc_price[6],\n",
    "       loc_list[7]:loc_price[7],\n",
    "       loc_list[8]:loc_price[8],\n",
    "       loc_list[9]:loc_price[9],\n",
    "       loc_list[10]:loc_price[10]}\n",
    "total[\"Loc_mean_price\"] = total[\"Location\"].map(loc_mp_dic)"
   ]
  },
  {
   "cell_type": "code",
   "execution_count": 14,
   "metadata": {},
   "outputs": [],
   "source": [
    "loc_ic={\n",
    "    'Pune':'Pune',\n",
    "    'Kolkata':'Pune',\n",
    "    'Jaipur':'Pune',\n",
    "    'Chennai':'Ahmedabad',\n",
    "    'Mumbai':'Ahmedabad',\n",
    "    'Ahmedabad':'Ahmedabad',\n",
    "    'Hyderabad':'Delhi',\n",
    "    'Kochi':'Delhi',\n",
    "    'Delhi':'Delhi',\n",
    "    'Bangalore':'Coimbatore',\n",
    "    'Coimbatore':'Coimbatore'    \n",
    "}\n",
    "total[\"Location2\"] = total[\"Location\"].map(loc_ic)"
   ]
  },
  {
   "cell_type": "markdown",
   "metadata": {},
   "source": [
    "# 4. 이름 대문자로 변환"
   ]
  },
  {
   "cell_type": "code",
   "execution_count": 15,
   "metadata": {},
   "outputs": [
    {
     "data": {
      "text/plain": [
       "'완료'"
      ]
     },
     "execution_count": 15,
     "metadata": {},
     "output_type": "execute_result"
    }
   ],
   "source": [
    "\"완료\""
   ]
  },
  {
   "cell_type": "markdown",
   "metadata": {},
   "source": [
    "# 5. Transmission 수치형으로 바꾸기"
   ]
  },
  {
   "cell_type": "code",
   "execution_count": 16,
   "metadata": {},
   "outputs": [],
   "source": [
    "total.loc[total[\"Transmission\"]==\"Manual\",\"Transmission\"] = 1\n",
    "total.loc[total[\"Transmission\"]==\"Automatic\",\"Transmission\"] = 0"
   ]
  },
  {
   "cell_type": "markdown",
   "metadata": {},
   "source": [
    "# 6. Engine, Power, Mileage 앞부분만 슬라이싱"
   ]
  },
  {
   "cell_type": "code",
   "execution_count": 17,
   "metadata": {},
   "outputs": [
    {
     "data": {
      "application/vnd.jupyter.widget-view+json": {
       "model_id": "8a6f990c50684707a42770419b854d43",
       "version_major": 2,
       "version_minor": 0
      },
      "text/plain": [
       "HBox(children=(IntProgress(value=0, max=3), HTML(value='')))"
      ]
     },
     "metadata": {},
     "output_type": "display_data"
    },
    {
     "data": {
      "application/vnd.jupyter.widget-view+json": {
       "model_id": "12ad31cd9ef24c48826b101a0096d6cf",
       "version_major": 2,
       "version_minor": 0
      },
      "text/plain": [
       "HBox(children=(IntProgress(value=0, max=6018), HTML(value='')))"
      ]
     },
     "metadata": {},
     "output_type": "display_data"
    },
    {
     "name": "stdout",
     "output_type": "stream",
     "text": [
      "\n"
     ]
    },
    {
     "data": {
      "application/vnd.jupyter.widget-view+json": {
       "model_id": "151ab56dea794dd4a3ce81997d22b81f",
       "version_major": 2,
       "version_minor": 0
      },
      "text/plain": [
       "HBox(children=(IntProgress(value=0, max=6018), HTML(value='')))"
      ]
     },
     "metadata": {},
     "output_type": "display_data"
    },
    {
     "name": "stdout",
     "output_type": "stream",
     "text": [
      "\n"
     ]
    },
    {
     "data": {
      "application/vnd.jupyter.widget-view+json": {
       "model_id": "580c636086dd432892376845eb7274d4",
       "version_major": 2,
       "version_minor": 0
      },
      "text/plain": [
       "HBox(children=(IntProgress(value=0, max=6018), HTML(value='')))"
      ]
     },
     "metadata": {},
     "output_type": "display_data"
    },
    {
     "name": "stdout",
     "output_type": "stream",
     "text": [
      "\n",
      "\n"
     ]
    }
   ],
   "source": [
    "def make_new_data(data,col):\n",
    "    for idx in tqdm_notebook(range(len(data[col]))):\n",
    "        try:\n",
    "            data.loc[idx,col] = data.loc[idx,col].split(\" \")[0]\n",
    "            if data.loc[idx,col] == \"0CC\":\n",
    "                 data.loc[idx,col] = 0 \n",
    "        except:\n",
    "            pass\n",
    "new_data_col = [\"Engine\",\"Power\",\"Mileage\"]\n",
    "for col in tqdm_notebook(new_data_col):\n",
    "    make_new_data(total,col)"
   ]
  },
  {
   "cell_type": "markdown",
   "metadata": {},
   "source": [
    "# 7. Engine/Power/Mileage 처리"
   ]
  },
  {
   "cell_type": "code",
   "execution_count": 18,
   "metadata": {},
   "outputs": [],
   "source": [
    "total.loc[total[\"Engine\"]==0,\"Engine\"] = np.nan\n",
    "total.loc[total[\"Power\"]==\"null\",\"Power\"] = np.nan\n",
    "total.loc[total[\"Mileage\"]==\"0.0\",\"Mileage\"] = np.nan"
   ]
  },
  {
   "cell_type": "code",
   "execution_count": 19,
   "metadata": {},
   "outputs": [
    {
     "name": "stdout",
     "output_type": "stream",
     "text": [
      "<class 'pandas.core.frame.DataFrame'>\n",
      "RangeIndex: 6018 entries, 0 to 6017\n",
      "Data columns (total 29 columns):\n",
      "Engine               5548 non-null object\n",
      "Fuel_Type            5832 non-null object\n",
      "Kilometers_Driven    5172 non-null float64\n",
      "Location             5924 non-null object\n",
      "Mileage              5893 non-null object\n",
      "Name                 6018 non-null object\n",
      "Owner_Type           5753 non-null object\n",
      "Power                5060 non-null object\n",
      "Seats                5942 non-null float64\n",
      "Transmission         6018 non-null int64\n",
      "Year                 5661 non-null float64\n",
      "cartype              6018 non-null object\n",
      "LARGE_NAME           6018 non-null object\n",
      "I20                  6018 non-null int64\n",
      "CITY                 6018 non-null int64\n",
      "CLASS                6018 non-null int64\n",
      "BMW_X                6018 non-null int64\n",
      "POLO                 6018 non-null int64\n",
      "SERIES               6018 non-null int64\n",
      "CRUZE                6018 non-null int64\n",
      "XCENT                6018 non-null int64\n",
      "I10                  6018 non-null int64\n",
      "AUDI_A               6018 non-null int64\n",
      "D320D                6018 non-null int64\n",
      "Brand                6018 non-null object\n",
      "Nationality          6018 non-null object\n",
      "Nationality2         6018 non-null object\n",
      "Loc_mean_price       5924 non-null float64\n",
      "Location2            5924 non-null object\n",
      "dtypes: float64(4), int64(12), object(13)\n",
      "memory usage: 1.3+ MB\n"
     ]
    }
   ],
   "source": [
    "total.info()"
   ]
  },
  {
   "cell_type": "markdown",
   "metadata": {},
   "source": [
    "# 8. 같은 차종끼리는 같은 엔진/시트/연료/변속"
   ]
  },
  {
   "attachments": {
    "image.png": {
     "image/png": "[encoded data removed]"
    }
   },
   "cell_type": "markdown",
   "metadata": {},
   "source": [
    "### 강운's Idea \n",
    "![image.png](attachment:image.png)"
   ]
  },
  {
   "cell_type": "code",
   "execution_count": 20,
   "metadata": {},
   "outputs": [
    {
     "data": {
      "application/vnd.jupyter.widget-view+json": {
       "model_id": "20dcd799149f440c8aaa1939ca2c60a6",
       "version_major": 2,
       "version_minor": 0
      },
      "text/plain": [
       "HBox(children=(IntProgress(value=0, max=4), HTML(value='')))"
      ]
     },
     "metadata": {},
     "output_type": "display_data"
    },
    {
     "name": "stdout",
     "output_type": "stream",
     "text": [
      "\n"
     ]
    }
   ],
   "source": [
    "차종 = total[\"Name\"].unique()\n",
    "\n",
    "def __preprocessing(car_Name,col_Name):\n",
    "    try:\n",
    "        정상값 = total.loc[total[\"Name\"]==car_Name,col_Name].value_counts().index[0]\n",
    "        차종별index = total.loc[total[\"Name\"]==car_Name,col_Name].index\n",
    "        for cnt in 차종별index:\n",
    "            if(pd.isnull(total.loc[cnt,col_Name])):\n",
    "                total.loc[cnt,col_Name] = 정상값\n",
    "    except:\n",
    "        pass\n",
    "col_list = [\"Engine\",\"Seats\",\"Fuel_Type\",\"Transmission\"]\n",
    "for col in tqdm_notebook(col_list):\n",
    "    for car in 차종:\n",
    "        __preprocessing(car,col)"
   ]
  },
  {
   "cell_type": "code",
   "execution_count": 21,
   "metadata": {
    "scrolled": true
   },
   "outputs": [
    {
     "name": "stdout",
     "output_type": "stream",
     "text": [
      "<class 'pandas.core.frame.DataFrame'>\n",
      "RangeIndex: 6018 entries, 0 to 6017\n",
      "Data columns (total 29 columns):\n",
      "Engine               5954 non-null object\n",
      "Fuel_Type            5992 non-null object\n",
      "Kilometers_Driven    5172 non-null float64\n",
      "Location             5924 non-null object\n",
      "Mileage              5893 non-null object\n",
      "Name                 6018 non-null object\n",
      "Owner_Type           5753 non-null object\n",
      "Power                5060 non-null object\n",
      "Seats                5979 non-null float64\n",
      "Transmission         6018 non-null int64\n",
      "Year                 5661 non-null float64\n",
      "cartype              6018 non-null object\n",
      "LARGE_NAME           6018 non-null object\n",
      "I20                  6018 non-null int64\n",
      "CITY                 6018 non-null int64\n",
      "CLASS                6018 non-null int64\n",
      "BMW_X                6018 non-null int64\n",
      "POLO                 6018 non-null int64\n",
      "SERIES               6018 non-null int64\n",
      "CRUZE                6018 non-null int64\n",
      "XCENT                6018 non-null int64\n",
      "I10                  6018 non-null int64\n",
      "AUDI_A               6018 non-null int64\n",
      "D320D                6018 non-null int64\n",
      "Brand                6018 non-null object\n",
      "Nationality          6018 non-null object\n",
      "Nationality2         6018 non-null object\n",
      "Loc_mean_price       5924 non-null float64\n",
      "Location2            5924 non-null object\n",
      "dtypes: float64(4), int64(12), object(13)\n",
      "memory usage: 1.3+ MB\n"
     ]
    }
   ],
   "source": [
    "total.info()"
   ]
  },
  {
   "cell_type": "code",
   "execution_count": 22,
   "metadata": {},
   "outputs": [
    {
     "data": {
      "text/html": [
       "<div>\n",
       "<style scoped>\n",
       "    .dataframe tbody tr th:only-of-type {\n",
       "        vertical-align: middle;\n",
       "    }\n",
       "\n",
       "    .dataframe tbody tr th {\n",
       "        vertical-align: top;\n",
       "    }\n",
       "\n",
       "    .dataframe thead th {\n",
       "        text-align: right;\n",
       "    }\n",
       "</style>\n",
       "<table border=\"1\" class=\"dataframe\">\n",
       "  <thead>\n",
       "    <tr style=\"text-align: right;\">\n",
       "      <th></th>\n",
       "      <th>Engine</th>\n",
       "      <th>Fuel_Type</th>\n",
       "      <th>Kilometers_Driven</th>\n",
       "      <th>Location</th>\n",
       "      <th>Mileage</th>\n",
       "      <th>Name</th>\n",
       "      <th>Owner_Type</th>\n",
       "      <th>Power</th>\n",
       "      <th>Seats</th>\n",
       "      <th>Transmission</th>\n",
       "      <th>...</th>\n",
       "      <th>CRUZE</th>\n",
       "      <th>XCENT</th>\n",
       "      <th>I10</th>\n",
       "      <th>AUDI_A</th>\n",
       "      <th>D320D</th>\n",
       "      <th>Brand</th>\n",
       "      <th>Nationality</th>\n",
       "      <th>Nationality2</th>\n",
       "      <th>Loc_mean_price</th>\n",
       "      <th>Location2</th>\n",
       "    </tr>\n",
       "  </thead>\n",
       "  <tbody>\n",
       "    <tr>\n",
       "      <td>1</td>\n",
       "      <td>1497</td>\n",
       "      <td>Petrol</td>\n",
       "      <td>22974.0</td>\n",
       "      <td>Kochi</td>\n",
       "      <td>18.0</td>\n",
       "      <td>Honda City i-VTEC CVT VX</td>\n",
       "      <td>First</td>\n",
       "      <td>NaN</td>\n",
       "      <td>5.0</td>\n",
       "      <td>0</td>\n",
       "      <td>...</td>\n",
       "      <td>0</td>\n",
       "      <td>0</td>\n",
       "      <td>0</td>\n",
       "      <td>0</td>\n",
       "      <td>0</td>\n",
       "      <td>Honda</td>\n",
       "      <td>Japan</td>\n",
       "      <td>Japan</td>\n",
       "      <td>11.244981</td>\n",
       "      <td>Delhi</td>\n",
       "    </tr>\n",
       "    <tr>\n",
       "      <td>1407</td>\n",
       "      <td>1497</td>\n",
       "      <td>Petrol</td>\n",
       "      <td>18955.0</td>\n",
       "      <td>Bangalore</td>\n",
       "      <td>NaN</td>\n",
       "      <td>Honda City i-VTEC CVT VX</td>\n",
       "      <td>First</td>\n",
       "      <td>117.3</td>\n",
       "      <td>5.0</td>\n",
       "      <td>0</td>\n",
       "      <td>...</td>\n",
       "      <td>0</td>\n",
       "      <td>0</td>\n",
       "      <td>0</td>\n",
       "      <td>0</td>\n",
       "      <td>0</td>\n",
       "      <td>Honda</td>\n",
       "      <td>Japan</td>\n",
       "      <td>Japan</td>\n",
       "      <td>13.700521</td>\n",
       "      <td>Coimbatore</td>\n",
       "    </tr>\n",
       "    <tr>\n",
       "      <td>2069</td>\n",
       "      <td>1497</td>\n",
       "      <td>Petrol</td>\n",
       "      <td>35000.0</td>\n",
       "      <td>Jaipur</td>\n",
       "      <td>18.0</td>\n",
       "      <td>Honda City i-VTEC CVT VX</td>\n",
       "      <td>First</td>\n",
       "      <td>NaN</td>\n",
       "      <td>5.0</td>\n",
       "      <td>0</td>\n",
       "      <td>...</td>\n",
       "      <td>0</td>\n",
       "      <td>0</td>\n",
       "      <td>0</td>\n",
       "      <td>0</td>\n",
       "      <td>0</td>\n",
       "      <td>Honda</td>\n",
       "      <td>Japan</td>\n",
       "      <td>Japan</td>\n",
       "      <td>5.760122</td>\n",
       "      <td>Pune</td>\n",
       "    </tr>\n",
       "    <tr>\n",
       "      <td>2720</td>\n",
       "      <td>1497</td>\n",
       "      <td>Petrol</td>\n",
       "      <td>NaN</td>\n",
       "      <td>Mumbai</td>\n",
       "      <td>18.0</td>\n",
       "      <td>Honda City i-VTEC CVT VX</td>\n",
       "      <td>First</td>\n",
       "      <td>117.3</td>\n",
       "      <td>5.0</td>\n",
       "      <td>0</td>\n",
       "      <td>...</td>\n",
       "      <td>0</td>\n",
       "      <td>0</td>\n",
       "      <td>0</td>\n",
       "      <td>0</td>\n",
       "      <td>0</td>\n",
       "      <td>Honda</td>\n",
       "      <td>Japan</td>\n",
       "      <td>Japan</td>\n",
       "      <td>9.584833</td>\n",
       "      <td>Ahmedabad</td>\n",
       "    </tr>\n",
       "    <tr>\n",
       "      <td>3877</td>\n",
       "      <td>1497</td>\n",
       "      <td>Petrol</td>\n",
       "      <td>4500.0</td>\n",
       "      <td>Pune</td>\n",
       "      <td>18.0</td>\n",
       "      <td>Honda City i-VTEC CVT VX</td>\n",
       "      <td>First</td>\n",
       "      <td>117.3</td>\n",
       "      <td>5.0</td>\n",
       "      <td>0</td>\n",
       "      <td>...</td>\n",
       "      <td>0</td>\n",
       "      <td>0</td>\n",
       "      <td>0</td>\n",
       "      <td>0</td>\n",
       "      <td>0</td>\n",
       "      <td>Honda</td>\n",
       "      <td>Japan</td>\n",
       "      <td>Japan</td>\n",
       "      <td>6.589785</td>\n",
       "      <td>Pune</td>\n",
       "    </tr>\n",
       "    <tr>\n",
       "      <td>4633</td>\n",
       "      <td>1497</td>\n",
       "      <td>Petrol</td>\n",
       "      <td>30000.0</td>\n",
       "      <td>Mumbai</td>\n",
       "      <td>18.0</td>\n",
       "      <td>Honda City i-VTEC CVT VX</td>\n",
       "      <td>First</td>\n",
       "      <td>117.3</td>\n",
       "      <td>5.0</td>\n",
       "      <td>0</td>\n",
       "      <td>...</td>\n",
       "      <td>0</td>\n",
       "      <td>0</td>\n",
       "      <td>0</td>\n",
       "      <td>0</td>\n",
       "      <td>0</td>\n",
       "      <td>Honda</td>\n",
       "      <td>Japan</td>\n",
       "      <td>Japan</td>\n",
       "      <td>9.584833</td>\n",
       "      <td>Ahmedabad</td>\n",
       "    </tr>\n",
       "  </tbody>\n",
       "</table>\n",
       "<p>6 rows × 29 columns</p>\n",
       "</div>"
      ],
      "text/plain": [
       "     Engine Fuel_Type  Kilometers_Driven   Location Mileage  \\\n",
       "1      1497    Petrol            22974.0      Kochi    18.0   \n",
       "1407   1497    Petrol            18955.0  Bangalore     NaN   \n",
       "2069   1497    Petrol            35000.0     Jaipur    18.0   \n",
       "2720   1497    Petrol                NaN     Mumbai    18.0   \n",
       "3877   1497    Petrol             4500.0       Pune    18.0   \n",
       "4633   1497    Petrol            30000.0     Mumbai    18.0   \n",
       "\n",
       "                          Name Owner_Type  Power  Seats  Transmission  ...  \\\n",
       "1     Honda City i-VTEC CVT VX      First    NaN    5.0             0  ...   \n",
       "1407  Honda City i-VTEC CVT VX      First  117.3    5.0             0  ...   \n",
       "2069  Honda City i-VTEC CVT VX      First    NaN    5.0             0  ...   \n",
       "2720  Honda City i-VTEC CVT VX      First  117.3    5.0             0  ...   \n",
       "3877  Honda City i-VTEC CVT VX      First  117.3    5.0             0  ...   \n",
       "4633  Honda City i-VTEC CVT VX      First  117.3    5.0             0  ...   \n",
       "\n",
       "      CRUZE XCENT I10  AUDI_A  D320D  Brand  Nationality  Nationality2  \\\n",
       "1         0     0   0       0      0  Honda        Japan         Japan   \n",
       "1407      0     0   0       0      0  Honda        Japan         Japan   \n",
       "2069      0     0   0       0      0  Honda        Japan         Japan   \n",
       "2720      0     0   0       0      0  Honda        Japan         Japan   \n",
       "3877      0     0   0       0      0  Honda        Japan         Japan   \n",
       "4633      0     0   0       0      0  Honda        Japan         Japan   \n",
       "\n",
       "      Loc_mean_price   Location2  \n",
       "1          11.244981       Delhi  \n",
       "1407       13.700521  Coimbatore  \n",
       "2069        5.760122        Pune  \n",
       "2720        9.584833   Ahmedabad  \n",
       "3877        6.589785        Pune  \n",
       "4633        9.584833   Ahmedabad  \n",
       "\n",
       "[6 rows x 29 columns]"
      ]
     },
     "execution_count": 22,
     "metadata": {},
     "output_type": "execute_result"
    }
   ],
   "source": [
    "total.loc[total[\"Name\"]==차종[1]]"
   ]
  },
  {
   "cell_type": "code",
   "execution_count": 23,
   "metadata": {},
   "outputs": [
    {
     "data": {
      "text/plain": [
       "1         NaN\n",
       "1407    117.3\n",
       "2069      NaN\n",
       "2720    117.3\n",
       "3877    117.3\n",
       "4633    117.3\n",
       "Name: Power, dtype: object"
      ]
     },
     "execution_count": 23,
     "metadata": {},
     "output_type": "execute_result"
    }
   ],
   "source": [
    "total.loc[total[\"Name\"]==차종[1],\"Power\"]"
   ]
  },
  {
   "cell_type": "markdown",
   "metadata": {},
   "source": [
    "# 9. 위 방법으로 해결되지 않는 부분 해결"
   ]
  },
  {
   "cell_type": "code",
   "execution_count": 24,
   "metadata": {},
   "outputs": [],
   "source": [
    "total[\"Engine\"].fillna(-1,inplace=True)\n",
    "total[\"Mileage\"].fillna(-1,inplace=True)\n",
    "total[\"Power\"].fillna(-1,inplace=True)"
   ]
  },
  {
   "cell_type": "code",
   "execution_count": 25,
   "metadata": {},
   "outputs": [],
   "source": [
    "total[\"Engine\"] = total[\"Engine\"].astype(\"float64\")\n",
    "total[\"Mileage\"] = total[\"Mileage\"].astype(\"float64\")\n",
    "total[\"Power\"] = total[\"Power\"].astype(\"float64\")"
   ]
  },
  {
   "cell_type": "code",
   "execution_count": 26,
   "metadata": {},
   "outputs": [
    {
     "data": {
      "application/vnd.jupyter.widget-view+json": {
       "model_id": "55e9186a550646a0b9d9daaf7d72ad55",
       "version_major": 2,
       "version_minor": 0
      },
      "text/plain": [
       "HBox(children=(IntProgress(value=0, max=1746), HTML(value='')))"
      ]
     },
     "metadata": {},
     "output_type": "display_data"
    },
    {
     "name": "stdout",
     "output_type": "stream",
     "text": [
      "\n"
     ]
    }
   ],
   "source": [
    "차종 = total[\"Name\"].unique()\n",
    "def power_preprocessing(car_Name):\n",
    "    파워가결측인인덱스 = total.loc[total[\"Power\"]==-1].loc[total.loc[total[\"Power\"]==-1][\"Name\"]==car_Name,:].index\n",
    "    for idx in 파워가결측인인덱스:\n",
    "        결측인친구의마일리지값 = total.loc[idx,\"Mileage\"]\n",
    "        동일마일리지df = total.loc[total[\"Mileage\"]==결측인친구의마일리지값]\n",
    "        채울값 = 동일마일리지df.loc[동일마일리지df[\"Name\"]==car_Name,\"Power\"].mode()[0]\n",
    "        total.loc[idx,\"Power\"] = 채울값\n",
    "for car in tqdm_notebook(차종):\n",
    "    power_preprocessing(car)"
   ]
  },
  {
   "cell_type": "code",
   "execution_count": 27,
   "metadata": {},
   "outputs": [
    {
     "data": {
      "application/vnd.jupyter.widget-view+json": {
       "model_id": "157c8c6a266c4ecab42c2b58a0658e8b",
       "version_major": 2,
       "version_minor": 0
      },
      "text/plain": [
       "HBox(children=(IntProgress(value=0, max=1746), HTML(value='')))"
      ]
     },
     "metadata": {},
     "output_type": "display_data"
    },
    {
     "name": "stdout",
     "output_type": "stream",
     "text": [
      "\n"
     ]
    }
   ],
   "source": [
    "차종 = total[\"Name\"].unique()\n",
    "def Mile_preprocessing(car_Name):\n",
    "    마일리지가결측인인덱스 = total.loc[total[\"Mileage\"]==-1].loc[total.loc[total[\"Mileage\"]==-1][\"Name\"]==car_Name,:].index\n",
    "    for idx in 마일리지가결측인인덱스:\n",
    "        결측인친구의마일리지리지값 = total.loc[idx,\"Power\"]\n",
    "        동일마일리지리지df = total.loc[total[\"Power\"]==결측인친구의마일리지리지값]\n",
    "        채울값 = 동일마일리지리지df.loc[동일마일리지리지df[\"Name\"]==car_Name,\"Mileage\"].mode()[0]\n",
    "        total.loc[idx,\"Mileage\"] = 채울값\n",
    "for car in tqdm_notebook(차종):\n",
    "    Mile_preprocessing(car)"
   ]
  },
  {
   "cell_type": "code",
   "execution_count": 28,
   "metadata": {},
   "outputs": [
    {
     "data": {
      "text/plain": [
       "Int64Index([ 394,  551,  658,  769,  797,  884, 1595, 1713, 1899, 1905, 2095,\n",
       "            2101, 2270, 2296, 2335, 2403, 2936, 2996, 3111, 3336, 3419, 3421,\n",
       "            3503, 3698, 3900, 3957, 4098, 4110, 4187, 4239, 4568, 5141, 5252,\n",
       "            5297, 5419, 5420, 5473],\n",
       "           dtype='int64')"
      ]
     },
     "execution_count": 28,
     "metadata": {},
     "output_type": "execute_result"
    }
   ],
   "source": [
    "total.loc[total[\"Power\"]==-1].loc[total.loc[total[\"Power\"]==-1][\"Mileage\"]==-1].index"
   ]
  },
  {
   "cell_type": "markdown",
   "metadata": {},
   "source": [
    "# 10. 파워 엔진 둘 다 결측인 경우 드랍 ( TR만 )"
   ]
  },
  {
   "cell_type": "code",
   "execution_count": 29,
   "metadata": {},
   "outputs": [],
   "source": [
    "둘다결측인거=np.array(list(total.loc[total[\"Power\"]==-1].loc[total.loc[total[\"Power\"]==-1][\"Mileage\"]==-1].index))\n",
    "둘다결측인거 = 둘다결측인거[둘다결측인거<5000]\n",
    "for i in 둘다결측인거:\n",
    "    total.drop(i,inplace=True) \n",
    "    price.drop(i,inplace=True)\n",
    "    \n",
    "total.drop(497,inplace=True)\n",
    "price.drop(497,inplace=True)\n",
    "엔진파워결측=np.array(list(total.loc[total[\"Engine\"]==-1].loc[total.loc[total[\"Engine\"]==-1][\"Power\"]==-1].index))\n",
    "엔진파워결측 = 엔진파워결측[엔진파워결측<5000]\n",
    "\n",
    "for i in 엔진파워결측:\n",
    "    total.drop(i,inplace=True) \n",
    "    price.drop(i,inplace=True)"
   ]
  },
  {
   "cell_type": "markdown",
   "metadata": {},
   "source": [
    "#### 할 일 : KM, Loc, Owner, Year\n",
    "#### 2 : Engine, Mile, Power -1인 값을 채워야함"
   ]
  },
  {
   "cell_type": "code",
   "execution_count": 30,
   "metadata": {},
   "outputs": [],
   "source": [
    "total[\"Fuel_Type\"].fillna(\"Petrol\",inplace=True)\n",
    "total[\"Location\"].fillna(\"Delhi\",inplace=True)\n",
    "total[\"Owner_Type\"].fillna(\"First\",inplace=True)\n",
    "total[\"Seats\"].fillna(5,inplace=True)"
   ]
  },
  {
   "cell_type": "markdown",
   "metadata": {},
   "source": [
    "# 11. 연도가 결측인 경우 같은 차종의 최빈 값으로 처리"
   ]
  },
  {
   "cell_type": "code",
   "execution_count": 31,
   "metadata": {},
   "outputs": [],
   "source": [
    "for car in 차종:\n",
    "    __preprocessing(car,\"Year\")"
   ]
  },
  {
   "cell_type": "code",
   "execution_count": 32,
   "metadata": {},
   "outputs": [
    {
     "name": "stdout",
     "output_type": "stream",
     "text": [
      "<class 'pandas.core.frame.DataFrame'>\n",
      "Int64Index: 5968 entries, 0 to 6017\n",
      "Data columns (total 29 columns):\n",
      "Engine               5968 non-null float64\n",
      "Fuel_Type            5968 non-null object\n",
      "Kilometers_Driven    5126 non-null float64\n",
      "Location             5968 non-null object\n",
      "Mileage              5968 non-null float64\n",
      "Name                 5968 non-null object\n",
      "Owner_Type           5968 non-null object\n",
      "Power                5968 non-null float64\n",
      "Seats                5968 non-null float64\n",
      "Transmission         5968 non-null int64\n",
      "Year                 5920 non-null float64\n",
      "cartype              5968 non-null object\n",
      "LARGE_NAME           5968 non-null object\n",
      "I20                  5968 non-null int64\n",
      "CITY                 5968 non-null int64\n",
      "CLASS                5968 non-null int64\n",
      "BMW_X                5968 non-null int64\n",
      "POLO                 5968 non-null int64\n",
      "SERIES               5968 non-null int64\n",
      "CRUZE                5968 non-null int64\n",
      "XCENT                5968 non-null int64\n",
      "I10                  5968 non-null int64\n",
      "AUDI_A               5968 non-null int64\n",
      "D320D                5968 non-null int64\n",
      "Brand                5968 non-null object\n",
      "Nationality          5968 non-null object\n",
      "Nationality2         5968 non-null object\n",
      "Loc_mean_price       5877 non-null float64\n",
      "Location2            5877 non-null object\n",
      "dtypes: float64(7), int64(12), object(10)\n",
      "memory usage: 1.5+ MB\n"
     ]
    }
   ],
   "source": [
    "total.info()"
   ]
  },
  {
   "cell_type": "code",
   "execution_count": 33,
   "metadata": {},
   "outputs": [
    {
     "data": {
      "text/plain": [
       "138    -1.0\n",
       "312    -1.0\n",
       "456    -1.0\n",
       "457    -1.0\n",
       "477    -1.0\n",
       "637    -1.0\n",
       "888    -1.0\n",
       "968    -1.0\n",
       "1051   -1.0\n",
       "1091   -1.0\n",
       "1467   -1.0\n",
       "1529   -1.0\n",
       "1626   -1.0\n",
       "2058   -1.0\n",
       "2258   -1.0\n",
       "2485   -1.0\n",
       "2518   -1.0\n",
       "2656   -1.0\n",
       "2725   -1.0\n",
       "2835   -1.0\n",
       "2943   -1.0\n",
       "2946   -1.0\n",
       "3008   -1.0\n",
       "3022   -1.0\n",
       "3124   -1.0\n",
       "3132   -1.0\n",
       "3183   -1.0\n",
       "3265   -1.0\n",
       "3374   -1.0\n",
       "3431   -1.0\n",
       "3486   -1.0\n",
       "3561   -1.0\n",
       "3690   -1.0\n",
       "3757   -1.0\n",
       "3798   -1.0\n",
       "4019   -1.0\n",
       "4245   -1.0\n",
       "4304   -1.0\n",
       "4418   -1.0\n",
       "5141   -1.0\n",
       "5228   -1.0\n",
       "5252   -1.0\n",
       "5297   -1.0\n",
       "5419   -1.0\n",
       "5420   -1.0\n",
       "5473   -1.0\n",
       "5588   -1.0\n",
       "5635   -1.0\n",
       "5713   -1.0\n",
       "5753   -1.0\n",
       "5843   -1.0\n",
       "5971   -1.0\n",
       "Name: Mileage, dtype: float64"
      ]
     },
     "execution_count": 33,
     "metadata": {},
     "output_type": "execute_result"
    }
   ],
   "source": [
    "total.loc[total[\"Mileage\"]==-1,\"Mileage\"]"
   ]
  },
  {
   "cell_type": "code",
   "execution_count": 34,
   "metadata": {},
   "outputs": [],
   "source": [
    "total[\"Year\"].fillna(2015,inplace=True)\n",
    "total.loc[total[\"Mileage\"]==-1,\"Mileage\"] = 18\n",
    "total.loc[total[\"Power\"]==-1,\"Power\"] = 107\n",
    "total.loc[total[\"Engine\"]==-1,\"Engine\"] = 1618"
   ]
  },
  {
   "cell_type": "code",
   "execution_count": 35,
   "metadata": {},
   "outputs": [
    {
     "data": {
      "text/plain": [
       "Series([], Name: Mileage, dtype: float64)"
      ]
     },
     "execution_count": 35,
     "metadata": {},
     "output_type": "execute_result"
    }
   ],
   "source": [
    "total.loc[total[\"Mileage\"]==-1,\"Mileage\"]"
   ]
  },
  {
   "cell_type": "markdown",
   "metadata": {},
   "source": [
    "# 12. KM 이상치 처리"
   ]
  },
  {
   "cell_type": "code",
   "execution_count": 36,
   "metadata": {},
   "outputs": [],
   "source": [
    "total.loc[total[\"Kilometers_Driven\"]==6500000,\"Kilometers_Driven\"] = 65000"
   ]
  },
  {
   "cell_type": "markdown",
   "metadata": {},
   "source": [
    "# 13. Year 칼럼으로 파생변수 생성 ( cat 형식 ) "
   ]
  },
  {
   "cell_type": "code",
   "execution_count": 37,
   "metadata": {},
   "outputs": [
    {
     "name": "stdout",
     "output_type": "stream",
     "text": [
      "323 는 삭제된 index 이다.ㅎ\n",
      "394 는 삭제된 index 이다.ㅎ\n",
      "448 는 삭제된 index 이다.ㅎ\n",
      "497 는 삭제된 index 이다.ㅎ\n",
      "551 는 삭제된 index 이다.ㅎ\n",
      "658 는 삭제된 index 이다.ㅎ\n",
      "769 는 삭제된 index 이다.ㅎ\n",
      "797 는 삭제된 index 이다.ㅎ\n",
      "816 는 삭제된 index 이다.ㅎ\n",
      "852 는 삭제된 index 이다.ㅎ\n",
      "884 는 삭제된 index 이다.ㅎ\n",
      "1230 는 삭제된 index 이다.ㅎ\n",
      "1323 는 삭제된 index 이다.ㅎ\n",
      "1469 는 삭제된 index 이다.ㅎ\n",
      "1476 는 삭제된 index 이다.ㅎ\n",
      "1586 는 삭제된 index 이다.ㅎ\n",
      "1595 는 삭제된 index 이다.ㅎ\n",
      "1713 는 삭제된 index 이다.ㅎ\n",
      "1722 는 삭제된 index 이다.ㅎ\n",
      "1771 는 삭제된 index 이다.ㅎ\n",
      "1899 는 삭제된 index 이다.ㅎ\n",
      "1905 는 삭제된 index 이다.ㅎ\n",
      "1922 는 삭제된 index 이다.ㅎ\n",
      "2095 는 삭제된 index 이다.ㅎ\n",
      "2101 는 삭제된 index 이다.ㅎ\n",
      "2270 는 삭제된 index 이다.ㅎ\n",
      "2296 는 삭제된 index 이다.ㅎ\n",
      "2335 는 삭제된 index 이다.ㅎ\n",
      "2377 는 삭제된 index 이다.ㅎ\n",
      "2403 는 삭제된 index 이다.ㅎ\n",
      "2936 는 삭제된 index 이다.ㅎ\n",
      "2996 는 삭제된 index 이다.ㅎ\n",
      "3111 는 삭제된 index 이다.ㅎ\n",
      "3336 는 삭제된 index 이다.ㅎ\n",
      "3419 는 삭제된 index 이다.ㅎ\n",
      "3421 는 삭제된 index 이다.ㅎ\n",
      "3503 는 삭제된 index 이다.ㅎ\n",
      "3518 는 삭제된 index 이다.ㅎ\n",
      "3606 는 삭제된 index 이다.ㅎ\n",
      "3653 는 삭제된 index 이다.ㅎ\n",
      "3698 는 삭제된 index 이다.ㅎ\n",
      "3900 는 삭제된 index 이다.ㅎ\n",
      "3957 는 삭제된 index 이다.ㅎ\n",
      "4098 는 삭제된 index 이다.ㅎ\n",
      "4110 는 삭제된 index 이다.ㅎ\n",
      "4129 는 삭제된 index 이다.ㅎ\n",
      "4187 는 삭제된 index 이다.ㅎ\n",
      "4239 는 삭제된 index 이다.ㅎ\n",
      "4568 는 삭제된 index 이다.ㅎ\n",
      "4857 는 삭제된 index 이다.ㅎ\n"
     ]
    }
   ],
   "source": [
    "happy_new_year = pd.get_dummies(total[\"Year\"],prefix=\"Year\")\n",
    "happy_new_year[\"before_2006\"] = 0\n",
    "for y in range(total.index.max()):\n",
    "    try:\n",
    "        happy_new_year.loc[y,\"before_2006\"] = happy_new_year.loc[y,\"Year_1998.0\"] + happy_new_year.loc[y,\"Year_1999.0\"] +\\\n",
    "                                            happy_new_year.loc[y,\"Year_2000.0\"] + happy_new_year.loc[y,\"Year_2001.0\"] +\\\n",
    "                                            happy_new_year.loc[y,\"Year_2002.0\"] +happy_new_year.loc[y,\"Year_2003.0\"] +\\\n",
    "                                            happy_new_year.loc[y,\"Year_2004.0\"] +happy_new_year.loc[y,\"Year_2005.0\"]\n",
    "    except:\n",
    "        print(y,\"는 삭제된 index 이다.ㅎ\")\n",
    "        pass"
   ]
  },
  {
   "cell_type": "code",
   "execution_count": 38,
   "metadata": {
    "scrolled": true
   },
   "outputs": [
    {
     "name": "stdout",
     "output_type": "stream",
     "text": [
      "323 는 삭제된 index 이다.ㅎ\n",
      "394 는 삭제된 index 이다.ㅎ\n",
      "448 는 삭제된 index 이다.ㅎ\n",
      "497 는 삭제된 index 이다.ㅎ\n",
      "551 는 삭제된 index 이다.ㅎ\n",
      "658 는 삭제된 index 이다.ㅎ\n",
      "769 는 삭제된 index 이다.ㅎ\n",
      "797 는 삭제된 index 이다.ㅎ\n",
      "816 는 삭제된 index 이다.ㅎ\n",
      "852 는 삭제된 index 이다.ㅎ\n",
      "884 는 삭제된 index 이다.ㅎ\n",
      "1230 는 삭제된 index 이다.ㅎ\n",
      "1323 는 삭제된 index 이다.ㅎ\n",
      "1469 는 삭제된 index 이다.ㅎ\n",
      "1476 는 삭제된 index 이다.ㅎ\n",
      "1586 는 삭제된 index 이다.ㅎ\n",
      "1595 는 삭제된 index 이다.ㅎ\n",
      "1713 는 삭제된 index 이다.ㅎ\n",
      "1722 는 삭제된 index 이다.ㅎ\n",
      "1771 는 삭제된 index 이다.ㅎ\n",
      "1899 는 삭제된 index 이다.ㅎ\n",
      "1905 는 삭제된 index 이다.ㅎ\n",
      "1922 는 삭제된 index 이다.ㅎ\n",
      "2095 는 삭제된 index 이다.ㅎ\n",
      "2101 는 삭제된 index 이다.ㅎ\n",
      "2270 는 삭제된 index 이다.ㅎ\n",
      "2296 는 삭제된 index 이다.ㅎ\n",
      "2335 는 삭제된 index 이다.ㅎ\n",
      "2377 는 삭제된 index 이다.ㅎ\n",
      "2403 는 삭제된 index 이다.ㅎ\n",
      "2936 는 삭제된 index 이다.ㅎ\n",
      "2996 는 삭제된 index 이다.ㅎ\n",
      "3111 는 삭제된 index 이다.ㅎ\n",
      "3336 는 삭제된 index 이다.ㅎ\n",
      "3419 는 삭제된 index 이다.ㅎ\n",
      "3421 는 삭제된 index 이다.ㅎ\n",
      "3503 는 삭제된 index 이다.ㅎ\n",
      "3518 는 삭제된 index 이다.ㅎ\n",
      "3606 는 삭제된 index 이다.ㅎ\n",
      "3653 는 삭제된 index 이다.ㅎ\n",
      "3698 는 삭제된 index 이다.ㅎ\n",
      "3900 는 삭제된 index 이다.ㅎ\n",
      "3957 는 삭제된 index 이다.ㅎ\n",
      "4098 는 삭제된 index 이다.ㅎ\n",
      "4110 는 삭제된 index 이다.ㅎ\n",
      "4129 는 삭제된 index 이다.ㅎ\n",
      "4187 는 삭제된 index 이다.ㅎ\n",
      "4239 는 삭제된 index 이다.ㅎ\n",
      "4568 는 삭제된 index 이다.ㅎ\n",
      "4857 는 삭제된 index 이다.ㅎ\n",
      "323 는 삭제된 index 이다.ㅎ\n",
      "394 는 삭제된 index 이다.ㅎ\n",
      "448 는 삭제된 index 이다.ㅎ\n",
      "497 는 삭제된 index 이다.ㅎ\n",
      "551 는 삭제된 index 이다.ㅎ\n",
      "658 는 삭제된 index 이다.ㅎ\n",
      "769 는 삭제된 index 이다.ㅎ\n",
      "797 는 삭제된 index 이다.ㅎ\n",
      "816 는 삭제된 index 이다.ㅎ\n",
      "852 는 삭제된 index 이다.ㅎ\n",
      "884 는 삭제된 index 이다.ㅎ\n",
      "1230 는 삭제된 index 이다.ㅎ\n",
      "1323 는 삭제된 index 이다.ㅎ\n",
      "1469 는 삭제된 index 이다.ㅎ\n",
      "1476 는 삭제된 index 이다.ㅎ\n",
      "1586 는 삭제된 index 이다.ㅎ\n",
      "1595 는 삭제된 index 이다.ㅎ\n",
      "1713 는 삭제된 index 이다.ㅎ\n",
      "1722 는 삭제된 index 이다.ㅎ\n",
      "1771 는 삭제된 index 이다.ㅎ\n",
      "1899 는 삭제된 index 이다.ㅎ\n",
      "1905 는 삭제된 index 이다.ㅎ\n",
      "1922 는 삭제된 index 이다.ㅎ\n",
      "2095 는 삭제된 index 이다.ㅎ\n",
      "2101 는 삭제된 index 이다.ㅎ\n",
      "2270 는 삭제된 index 이다.ㅎ\n",
      "2296 는 삭제된 index 이다.ㅎ\n",
      "2335 는 삭제된 index 이다.ㅎ\n",
      "2377 는 삭제된 index 이다.ㅎ\n",
      "2403 는 삭제된 index 이다.ㅎ\n",
      "2936 는 삭제된 index 이다.ㅎ\n",
      "2996 는 삭제된 index 이다.ㅎ\n",
      "3111 는 삭제된 index 이다.ㅎ\n",
      "3336 는 삭제된 index 이다.ㅎ\n",
      "3419 는 삭제된 index 이다.ㅎ\n",
      "3421 는 삭제된 index 이다.ㅎ\n",
      "3503 는 삭제된 index 이다.ㅎ\n",
      "3518 는 삭제된 index 이다.ㅎ\n",
      "3606 는 삭제된 index 이다.ㅎ\n",
      "3653 는 삭제된 index 이다.ㅎ\n",
      "3698 는 삭제된 index 이다.ㅎ\n",
      "3900 는 삭제된 index 이다.ㅎ\n",
      "3957 는 삭제된 index 이다.ㅎ\n",
      "4098 는 삭제된 index 이다.ㅎ\n",
      "4110 는 삭제된 index 이다.ㅎ\n",
      "4129 는 삭제된 index 이다.ㅎ\n",
      "4187 는 삭제된 index 이다.ㅎ\n",
      "4239 는 삭제된 index 이다.ㅎ\n",
      "4568 는 삭제된 index 이다.ㅎ\n",
      "4857 는 삭제된 index 이다.ㅎ\n",
      "323 는 삭제된 index 이다.ㅎ\n",
      "394 는 삭제된 index 이다.ㅎ\n",
      "448 는 삭제된 index 이다.ㅎ\n",
      "497 는 삭제된 index 이다.ㅎ\n",
      "551 는 삭제된 index 이다.ㅎ\n",
      "658 는 삭제된 index 이다.ㅎ\n",
      "769 는 삭제된 index 이다.ㅎ\n",
      "797 는 삭제된 index 이다.ㅎ\n",
      "816 는 삭제된 index 이다.ㅎ\n",
      "852 는 삭제된 index 이다.ㅎ\n",
      "884 는 삭제된 index 이다.ㅎ\n",
      "1230 는 삭제된 index 이다.ㅎ\n",
      "1323 는 삭제된 index 이다.ㅎ\n",
      "1469 는 삭제된 index 이다.ㅎ\n",
      "1476 는 삭제된 index 이다.ㅎ\n",
      "1586 는 삭제된 index 이다.ㅎ\n",
      "1595 는 삭제된 index 이다.ㅎ\n",
      "1713 는 삭제된 index 이다.ㅎ\n",
      "1722 는 삭제된 index 이다.ㅎ\n",
      "1771 는 삭제된 index 이다.ㅎ\n",
      "1899 는 삭제된 index 이다.ㅎ\n",
      "1905 는 삭제된 index 이다.ㅎ\n",
      "1922 는 삭제된 index 이다.ㅎ\n",
      "2095 는 삭제된 index 이다.ㅎ\n",
      "2101 는 삭제된 index 이다.ㅎ\n",
      "2270 는 삭제된 index 이다.ㅎ\n",
      "2296 는 삭제된 index 이다.ㅎ\n",
      "2335 는 삭제된 index 이다.ㅎ\n",
      "2377 는 삭제된 index 이다.ㅎ\n",
      "2403 는 삭제된 index 이다.ㅎ\n",
      "2936 는 삭제된 index 이다.ㅎ\n",
      "2996 는 삭제된 index 이다.ㅎ\n",
      "3111 는 삭제된 index 이다.ㅎ\n",
      "3336 는 삭제된 index 이다.ㅎ\n",
      "3419 는 삭제된 index 이다.ㅎ\n",
      "3421 는 삭제된 index 이다.ㅎ\n",
      "3503 는 삭제된 index 이다.ㅎ\n",
      "3518 는 삭제된 index 이다.ㅎ\n",
      "3606 는 삭제된 index 이다.ㅎ\n",
      "3653 는 삭제된 index 이다.ㅎ\n",
      "3698 는 삭제된 index 이다.ㅎ\n",
      "3900 는 삭제된 index 이다.ㅎ\n",
      "3957 는 삭제된 index 이다.ㅎ\n",
      "4098 는 삭제된 index 이다.ㅎ\n",
      "4110 는 삭제된 index 이다.ㅎ\n",
      "4129 는 삭제된 index 이다.ㅎ\n",
      "4187 는 삭제된 index 이다.ㅎ\n",
      "4239 는 삭제된 index 이다.ㅎ\n",
      "4568 는 삭제된 index 이다.ㅎ\n",
      "4857 는 삭제된 index 이다.ㅎ\n",
      "323 는 삭제된 index 이다.ㅎ\n",
      "394 는 삭제된 index 이다.ㅎ\n",
      "448 는 삭제된 index 이다.ㅎ\n",
      "497 는 삭제된 index 이다.ㅎ\n",
      "551 는 삭제된 index 이다.ㅎ\n",
      "658 는 삭제된 index 이다.ㅎ\n",
      "769 는 삭제된 index 이다.ㅎ\n",
      "797 는 삭제된 index 이다.ㅎ\n",
      "816 는 삭제된 index 이다.ㅎ\n",
      "852 는 삭제된 index 이다.ㅎ\n",
      "884 는 삭제된 index 이다.ㅎ\n",
      "1230 는 삭제된 index 이다.ㅎ\n",
      "1323 는 삭제된 index 이다.ㅎ\n",
      "1469 는 삭제된 index 이다.ㅎ\n",
      "1476 는 삭제된 index 이다.ㅎ\n",
      "1586 는 삭제된 index 이다.ㅎ\n",
      "1595 는 삭제된 index 이다.ㅎ\n",
      "1713 는 삭제된 index 이다.ㅎ\n",
      "1722 는 삭제된 index 이다.ㅎ\n",
      "1771 는 삭제된 index 이다.ㅎ\n",
      "1899 는 삭제된 index 이다.ㅎ\n",
      "1905 는 삭제된 index 이다.ㅎ\n",
      "1922 는 삭제된 index 이다.ㅎ\n",
      "2095 는 삭제된 index 이다.ㅎ\n",
      "2101 는 삭제된 index 이다.ㅎ\n",
      "2270 는 삭제된 index 이다.ㅎ\n",
      "2296 는 삭제된 index 이다.ㅎ\n",
      "2335 는 삭제된 index 이다.ㅎ\n",
      "2377 는 삭제된 index 이다.ㅎ\n",
      "2403 는 삭제된 index 이다.ㅎ\n",
      "2936 는 삭제된 index 이다.ㅎ\n",
      "2996 는 삭제된 index 이다.ㅎ\n",
      "3111 는 삭제된 index 이다.ㅎ\n",
      "3336 는 삭제된 index 이다.ㅎ\n",
      "3419 는 삭제된 index 이다.ㅎ\n",
      "3421 는 삭제된 index 이다.ㅎ\n",
      "3503 는 삭제된 index 이다.ㅎ\n",
      "3518 는 삭제된 index 이다.ㅎ\n",
      "3606 는 삭제된 index 이다.ㅎ\n",
      "3653 는 삭제된 index 이다.ㅎ\n",
      "3698 는 삭제된 index 이다.ㅎ\n",
      "3900 는 삭제된 index 이다.ㅎ\n",
      "3957 는 삭제된 index 이다.ㅎ\n",
      "4098 는 삭제된 index 이다.ㅎ\n",
      "4110 는 삭제된 index 이다.ㅎ\n",
      "4129 는 삭제된 index 이다.ㅎ\n",
      "4187 는 삭제된 index 이다.ㅎ\n",
      "4239 는 삭제된 index 이다.ㅎ\n",
      "4568 는 삭제된 index 이다.ㅎ\n",
      "4857 는 삭제된 index 이다.ㅎ\n",
      "323 는 삭제된 index 이다.ㅎ\n",
      "394 는 삭제된 index 이다.ㅎ\n",
      "448 는 삭제된 index 이다.ㅎ\n",
      "497 는 삭제된 index 이다.ㅎ\n",
      "551 는 삭제된 index 이다.ㅎ\n",
      "658 는 삭제된 index 이다.ㅎ\n",
      "769 는 삭제된 index 이다.ㅎ\n",
      "797 는 삭제된 index 이다.ㅎ\n",
      "816 는 삭제된 index 이다.ㅎ\n",
      "852 는 삭제된 index 이다.ㅎ\n",
      "884 는 삭제된 index 이다.ㅎ\n",
      "1230 는 삭제된 index 이다.ㅎ\n",
      "1323 는 삭제된 index 이다.ㅎ\n",
      "1469 는 삭제된 index 이다.ㅎ\n",
      "1476 는 삭제된 index 이다.ㅎ\n",
      "1586 는 삭제된 index 이다.ㅎ\n",
      "1595 는 삭제된 index 이다.ㅎ\n",
      "1713 는 삭제된 index 이다.ㅎ\n",
      "1722 는 삭제된 index 이다.ㅎ\n",
      "1771 는 삭제된 index 이다.ㅎ\n",
      "1899 는 삭제된 index 이다.ㅎ\n",
      "1905 는 삭제된 index 이다.ㅎ\n",
      "1922 는 삭제된 index 이다.ㅎ\n",
      "2095 는 삭제된 index 이다.ㅎ\n",
      "2101 는 삭제된 index 이다.ㅎ\n",
      "2270 는 삭제된 index 이다.ㅎ\n",
      "2296 는 삭제된 index 이다.ㅎ\n",
      "2335 는 삭제된 index 이다.ㅎ\n",
      "2377 는 삭제된 index 이다.ㅎ\n",
      "2403 는 삭제된 index 이다.ㅎ\n",
      "2936 는 삭제된 index 이다.ㅎ\n",
      "2996 는 삭제된 index 이다.ㅎ\n",
      "3111 는 삭제된 index 이다.ㅎ\n",
      "3336 는 삭제된 index 이다.ㅎ\n",
      "3419 는 삭제된 index 이다.ㅎ\n",
      "3421 는 삭제된 index 이다.ㅎ\n",
      "3503 는 삭제된 index 이다.ㅎ\n",
      "3518 는 삭제된 index 이다.ㅎ\n",
      "3606 는 삭제된 index 이다.ㅎ\n",
      "3653 는 삭제된 index 이다.ㅎ\n",
      "3698 는 삭제된 index 이다.ㅎ\n",
      "3900 는 삭제된 index 이다.ㅎ\n",
      "3957 는 삭제된 index 이다.ㅎ\n",
      "4098 는 삭제된 index 이다.ㅎ\n",
      "4110 는 삭제된 index 이다.ㅎ\n",
      "4129 는 삭제된 index 이다.ㅎ\n",
      "4187 는 삭제된 index 이다.ㅎ\n",
      "4239 는 삭제된 index 이다.ㅎ\n",
      "4568 는 삭제된 index 이다.ㅎ\n",
      "4857 는 삭제된 index 이다.ㅎ\n"
     ]
    }
   ],
   "source": [
    "happy_new_year[\"y_1819\"] = 0\n",
    "for y in range(total.index.max()):\n",
    "    try:\n",
    "        happy_new_year.loc[y,\"y_1819\"] = happy_new_year.loc[y,\"Year_2019.0\"] + happy_new_year.loc[y,\"Year_2018.0\"]\n",
    "    except:\n",
    "        print(y,\"는 삭제된 index 이다.ㅎ\")\n",
    "        pass\n",
    "    \n",
    "happy_new_year[\"y_1716\"] = 0\n",
    "for y in range(total.index.max()):\n",
    "    try:\n",
    "        happy_new_year.loc[y,\"y_1716\"] = happy_new_year.loc[y,\"Year_2017.0\"] + happy_new_year.loc[y,\"Year_2016.0\"]\n",
    "    except:\n",
    "        print(y,\"는 삭제된 index 이다.ㅎ\")\n",
    "        pass\n",
    "    \n",
    "happy_new_year[\"y_1514\"] = 0\n",
    "for y in range(total.index.max()):\n",
    "    try:\n",
    "        happy_new_year.loc[y,\"y_1514\"] = happy_new_year.loc[y,\"Year_2015.0\"] + happy_new_year.loc[y,\"Year_2014.0\"]\n",
    "    except:\n",
    "        print(y,\"는 삭제된 index 이다.ㅎ\")\n",
    "        pass\n",
    "    \n",
    "happy_new_year[\"y_1312\"] = 0\n",
    "for y in range(total.index.max()):\n",
    "    try:\n",
    "        happy_new_year.loc[y,\"y_1312\"] = happy_new_year.loc[y,\"Year_2013.0\"] + happy_new_year.loc[y,\"Year_2012.0\"]\n",
    "    except:\n",
    "        print(y,\"는 삭제된 index 이다.ㅎ\")\n",
    "        pass\n",
    "    \n",
    "happy_new_year[\"y_1110\"] = 0\n",
    "for y in range(total.index.max()):\n",
    "    try:\n",
    "        happy_new_year.loc[y,\"y_1110\"] = happy_new_year.loc[y,\"Year_2011.0\"] + happy_new_year.loc[y,\"Year_2010.0\"]\n",
    "    except:\n",
    "        print(y,\"는 삭제된 index 이다.ㅎ\")\n",
    "        pass"
   ]
  },
  {
   "cell_type": "code",
   "execution_count": 39,
   "metadata": {},
   "outputs": [],
   "source": [
    "new_total = pd.concat([total,happy_new_year],axis=1)"
   ]
  },
  {
   "cell_type": "code",
   "execution_count": 40,
   "metadata": {
    "scrolled": true
   },
   "outputs": [
    {
     "data": {
      "application/vnd.jupyter.widget-view+json": {
       "model_id": "cbc5c94cf4294d7b912689fae568c70d",
       "version_major": 2,
       "version_minor": 0
      },
      "text/plain": [
       "HBox(children=(IntProgress(value=0, max=6017), HTML(value='')))"
      ]
     },
     "metadata": {},
     "output_type": "display_data"
    },
    {
     "name": "stdout",
     "output_type": "stream",
     "text": [
      "323 는 삭제된 index\n",
      "394 는 삭제된 index\n",
      "448 는 삭제된 index\n",
      "497 는 삭제된 index\n",
      "551 는 삭제된 index\n",
      "658 는 삭제된 index\n",
      "769 는 삭제된 index\n",
      "797 는 삭제된 index\n",
      "816 는 삭제된 index\n",
      "852 는 삭제된 index\n",
      "884 는 삭제된 index\n",
      "1230 는 삭제된 index\n",
      "1323 는 삭제된 index\n",
      "1469 는 삭제된 index\n",
      "1476 는 삭제된 index\n",
      "1586 는 삭제된 index\n",
      "1595 는 삭제된 index\n",
      "1713 는 삭제된 index\n",
      "1722 는 삭제된 index\n",
      "1771 는 삭제된 index\n",
      "1899 는 삭제된 index\n",
      "1905 는 삭제된 index\n",
      "1922 는 삭제된 index\n",
      "2095 는 삭제된 index\n",
      "2101 는 삭제된 index\n",
      "2270 는 삭제된 index\n",
      "2296 는 삭제된 index\n",
      "2335 는 삭제된 index\n",
      "2377 는 삭제된 index\n",
      "2403 는 삭제된 index\n",
      "2936 는 삭제된 index\n",
      "2996 는 삭제된 index\n",
      "3111 는 삭제된 index\n",
      "3336 는 삭제된 index\n",
      "3419 는 삭제된 index\n",
      "3421 는 삭제된 index\n",
      "3503 는 삭제된 index\n",
      "3518 는 삭제된 index\n",
      "3606 는 삭제된 index\n",
      "3653 는 삭제된 index\n",
      "3698 는 삭제된 index\n",
      "3900 는 삭제된 index\n",
      "3957 는 삭제된 index\n",
      "4098 는 삭제된 index\n",
      "4110 는 삭제된 index\n",
      "4129 는 삭제된 index\n",
      "4187 는 삭제된 index\n",
      "4239 는 삭제된 index\n",
      "4568 는 삭제된 index\n",
      "4857 는 삭제된 index\n",
      "\n"
     ]
    }
   ],
   "source": [
    "for i in tqdm_notebook(range(total.index.max())):\n",
    "    try:\n",
    "        if new_total.loc[i,\"y_1819\"] == 1:\n",
    "            if (pd.isnull(new_total.loc[i,\"Kilometers_Driven\"])):\n",
    "                new_total.loc[i,\"Kilometers_Driven\"] = 23000\n",
    "        elif new_total.loc[i,\"y_1716\"] == 1:\n",
    "            if (pd.isnull(new_total.loc[i,\"Kilometers_Driven\"])):\n",
    "                new_total.loc[i,\"Kilometers_Driven\"] = 38800\n",
    "        elif new_total.loc[i,\"before_2006\"] == 1:\n",
    "            if (pd.isnull(new_total.loc[i,\"Kilometers_Driven\"])):\n",
    "                new_total.loc[i,\"Kilometers_Driven\"] = 95000\n",
    "        else:\n",
    "            if (pd.isnull(new_total.loc[i,\"Kilometers_Driven\"])):\n",
    "                new_total.loc[i,\"Kilometers_Driven\"] = 55000\n",
    "    except:\n",
    "        print(i,\"는 삭제된 index\")\n",
    "        pass"
   ]
  },
  {
   "cell_type": "code",
   "execution_count": 41,
   "metadata": {},
   "outputs": [
    {
     "name": "stdout",
     "output_type": "stream",
     "text": [
      "<class 'pandas.core.frame.DataFrame'>\n",
      "Int64Index: 5968 entries, 0 to 6017\n",
      "Data columns (total 57 columns):\n",
      "Engine               5968 non-null float64\n",
      "Fuel_Type            5968 non-null object\n",
      "Kilometers_Driven    5968 non-null float64\n",
      "Location             5968 non-null object\n",
      "Mileage              5968 non-null float64\n",
      "Name                 5968 non-null object\n",
      "Owner_Type           5968 non-null object\n",
      "Power                5968 non-null float64\n",
      "Seats                5968 non-null float64\n",
      "Transmission         5968 non-null int64\n",
      "Year                 5968 non-null float64\n",
      "cartype              5968 non-null object\n",
      "LARGE_NAME           5968 non-null object\n",
      "I20                  5968 non-null int64\n",
      "CITY                 5968 non-null int64\n",
      "CLASS                5968 non-null int64\n",
      "BMW_X                5968 non-null int64\n",
      "POLO                 5968 non-null int64\n",
      "SERIES               5968 non-null int64\n",
      "CRUZE                5968 non-null int64\n",
      "XCENT                5968 non-null int64\n",
      "I10                  5968 non-null int64\n",
      "AUDI_A               5968 non-null int64\n",
      "D320D                5968 non-null int64\n",
      "Brand                5968 non-null object\n",
      "Nationality          5968 non-null object\n",
      "Nationality2         5968 non-null object\n",
      "Loc_mean_price       5877 non-null float64\n",
      "Location2            5877 non-null object\n",
      "Year_1998.0          5968 non-null uint8\n",
      "Year_1999.0          5968 non-null uint8\n",
      "Year_2000.0          5968 non-null uint8\n",
      "Year_2001.0          5968 non-null uint8\n",
      "Year_2002.0          5968 non-null uint8\n",
      "Year_2003.0          5968 non-null uint8\n",
      "Year_2004.0          5968 non-null uint8\n",
      "Year_2005.0          5968 non-null uint8\n",
      "Year_2006.0          5968 non-null uint8\n",
      "Year_2007.0          5968 non-null uint8\n",
      "Year_2008.0          5968 non-null uint8\n",
      "Year_2009.0          5968 non-null uint8\n",
      "Year_2010.0          5968 non-null uint8\n",
      "Year_2011.0          5968 non-null uint8\n",
      "Year_2012.0          5968 non-null uint8\n",
      "Year_2013.0          5968 non-null uint8\n",
      "Year_2014.0          5968 non-null uint8\n",
      "Year_2015.0          5968 non-null uint8\n",
      "Year_2016.0          5968 non-null uint8\n",
      "Year_2017.0          5968 non-null uint8\n",
      "Year_2018.0          5968 non-null uint8\n",
      "Year_2019.0          5968 non-null uint8\n",
      "before_2006          5968 non-null int64\n",
      "y_1819               5968 non-null int64\n",
      "y_1716               5968 non-null int64\n",
      "y_1514               5968 non-null int64\n",
      "y_1312               5968 non-null int64\n",
      "y_1110               5968 non-null int64\n",
      "dtypes: float64(7), int64(18), object(10), uint8(22)\n",
      "memory usage: 1.9+ MB\n"
     ]
    }
   ],
   "source": [
    "new_total.info()"
   ]
  },
  {
   "cell_type": "markdown",
   "metadata": {},
   "source": [
    "--------------------------------------------------------------------------------------------------------"
   ]
  },
  {
   "cell_type": "markdown",
   "metadata": {},
   "source": [
    "# 14. KM 이상치 제거"
   ]
  },
  {
   "cell_type": "code",
   "execution_count": 42,
   "metadata": {},
   "outputs": [
    {
     "data": {
      "text/html": [
       "<div>\n",
       "<style scoped>\n",
       "    .dataframe tbody tr th:only-of-type {\n",
       "        vertical-align: middle;\n",
       "    }\n",
       "\n",
       "    .dataframe tbody tr th {\n",
       "        vertical-align: top;\n",
       "    }\n",
       "\n",
       "    .dataframe thead th {\n",
       "        text-align: right;\n",
       "    }\n",
       "</style>\n",
       "<table border=\"1\" class=\"dataframe\">\n",
       "  <thead>\n",
       "    <tr style=\"text-align: right;\">\n",
       "      <th></th>\n",
       "      <th>Engine</th>\n",
       "      <th>Fuel_Type</th>\n",
       "      <th>Kilometers_Driven</th>\n",
       "      <th>Location</th>\n",
       "      <th>Mileage</th>\n",
       "      <th>Name</th>\n",
       "      <th>Owner_Type</th>\n",
       "      <th>Power</th>\n",
       "      <th>Seats</th>\n",
       "      <th>Transmission</th>\n",
       "      <th>...</th>\n",
       "      <th>Year_2016.0</th>\n",
       "      <th>Year_2017.0</th>\n",
       "      <th>Year_2018.0</th>\n",
       "      <th>Year_2019.0</th>\n",
       "      <th>before_2006</th>\n",
       "      <th>y_1819</th>\n",
       "      <th>y_1716</th>\n",
       "      <th>y_1514</th>\n",
       "      <th>y_1312</th>\n",
       "      <th>y_1110</th>\n",
       "    </tr>\n",
       "  </thead>\n",
       "  <tbody>\n",
       "    <tr>\n",
       "      <td>212</td>\n",
       "      <td>1497.0</td>\n",
       "      <td>Petrol</td>\n",
       "      <td>480000.0</td>\n",
       "      <td>Kolkata</td>\n",
       "      <td>17.40</td>\n",
       "      <td>Honda City i VTEC SV</td>\n",
       "      <td>First</td>\n",
       "      <td>117.30</td>\n",
       "      <td>5.0</td>\n",
       "      <td>1</td>\n",
       "      <td>...</td>\n",
       "      <td>0</td>\n",
       "      <td>0</td>\n",
       "      <td>0</td>\n",
       "      <td>0</td>\n",
       "      <td>0</td>\n",
       "      <td>0</td>\n",
       "      <td>0</td>\n",
       "      <td>1</td>\n",
       "      <td>0</td>\n",
       "      <td>0</td>\n",
       "    </tr>\n",
       "    <tr>\n",
       "      <td>671</td>\n",
       "      <td>1968.0</td>\n",
       "      <td>Diesel</td>\n",
       "      <td>480000.0</td>\n",
       "      <td>Chennai</td>\n",
       "      <td>16.96</td>\n",
       "      <td>Volkswagen Jetta 2013-2015 2.0L TDI Highline AT</td>\n",
       "      <td>First</td>\n",
       "      <td>138.03</td>\n",
       "      <td>5.0</td>\n",
       "      <td>0</td>\n",
       "      <td>...</td>\n",
       "      <td>0</td>\n",
       "      <td>0</td>\n",
       "      <td>0</td>\n",
       "      <td>0</td>\n",
       "      <td>0</td>\n",
       "      <td>0</td>\n",
       "      <td>0</td>\n",
       "      <td>1</td>\n",
       "      <td>0</td>\n",
       "      <td>0</td>\n",
       "    </tr>\n",
       "    <tr>\n",
       "      <td>1884</td>\n",
       "      <td>1618.0</td>\n",
       "      <td>Diesel</td>\n",
       "      <td>775000.0</td>\n",
       "      <td>Kolkata</td>\n",
       "      <td>19.30</td>\n",
       "      <td>Skoda Octavia Ambition Plus 2.0 TDI AT</td>\n",
       "      <td>First</td>\n",
       "      <td>141.00</td>\n",
       "      <td>5.0</td>\n",
       "      <td>0</td>\n",
       "      <td>...</td>\n",
       "      <td>0</td>\n",
       "      <td>0</td>\n",
       "      <td>0</td>\n",
       "      <td>0</td>\n",
       "      <td>0</td>\n",
       "      <td>0</td>\n",
       "      <td>0</td>\n",
       "      <td>0</td>\n",
       "      <td>1</td>\n",
       "      <td>0</td>\n",
       "    </tr>\n",
       "    <tr>\n",
       "      <td>3927</td>\n",
       "      <td>1598.0</td>\n",
       "      <td>Diesel</td>\n",
       "      <td>720000.0</td>\n",
       "      <td>Chennai</td>\n",
       "      <td>20.54</td>\n",
       "      <td>Volkswagen Vento Diesel Highline</td>\n",
       "      <td>First</td>\n",
       "      <td>103.60</td>\n",
       "      <td>5.0</td>\n",
       "      <td>1</td>\n",
       "      <td>...</td>\n",
       "      <td>0</td>\n",
       "      <td>0</td>\n",
       "      <td>0</td>\n",
       "      <td>0</td>\n",
       "      <td>0</td>\n",
       "      <td>0</td>\n",
       "      <td>0</td>\n",
       "      <td>0</td>\n",
       "      <td>1</td>\n",
       "      <td>0</td>\n",
       "    </tr>\n",
       "    <tr>\n",
       "      <td>3945</td>\n",
       "      <td>1197.0</td>\n",
       "      <td>Petrol</td>\n",
       "      <td>620000.0</td>\n",
       "      <td>Chennai</td>\n",
       "      <td>20.36</td>\n",
       "      <td>Hyundai i10 Magna 1.2</td>\n",
       "      <td>First</td>\n",
       "      <td>78.90</td>\n",
       "      <td>5.0</td>\n",
       "      <td>1</td>\n",
       "      <td>...</td>\n",
       "      <td>0</td>\n",
       "      <td>0</td>\n",
       "      <td>0</td>\n",
       "      <td>0</td>\n",
       "      <td>0</td>\n",
       "      <td>0</td>\n",
       "      <td>0</td>\n",
       "      <td>0</td>\n",
       "      <td>0</td>\n",
       "      <td>0</td>\n",
       "    </tr>\n",
       "  </tbody>\n",
       "</table>\n",
       "<p>5 rows × 57 columns</p>\n",
       "</div>"
      ],
      "text/plain": [
       "      Engine Fuel_Type  Kilometers_Driven Location  Mileage  \\\n",
       "212   1497.0    Petrol           480000.0  Kolkata    17.40   \n",
       "671   1968.0    Diesel           480000.0  Chennai    16.96   \n",
       "1884  1618.0    Diesel           775000.0  Kolkata    19.30   \n",
       "3927  1598.0    Diesel           720000.0  Chennai    20.54   \n",
       "3945  1197.0    Petrol           620000.0  Chennai    20.36   \n",
       "\n",
       "                                                 Name Owner_Type   Power  \\\n",
       "212                              Honda City i VTEC SV      First  117.30   \n",
       "671   Volkswagen Jetta 2013-2015 2.0L TDI Highline AT      First  138.03   \n",
       "1884           Skoda Octavia Ambition Plus 2.0 TDI AT      First  141.00   \n",
       "3927                 Volkswagen Vento Diesel Highline      First  103.60   \n",
       "3945                            Hyundai i10 Magna 1.2      First   78.90   \n",
       "\n",
       "      Seats  Transmission  ...  Year_2016.0 Year_2017.0 Year_2018.0  \\\n",
       "212     5.0             1  ...            0           0           0   \n",
       "671     5.0             0  ...            0           0           0   \n",
       "1884    5.0             0  ...            0           0           0   \n",
       "3927    5.0             1  ...            0           0           0   \n",
       "3945    5.0             1  ...            0           0           0   \n",
       "\n",
       "      Year_2019.0  before_2006  y_1819  y_1716  y_1514  y_1312  y_1110  \n",
       "212             0            0       0       0       1       0       0  \n",
       "671             0            0       0       0       1       0       0  \n",
       "1884            0            0       0       0       0       1       0  \n",
       "3927            0            0       0       0       0       1       0  \n",
       "3945            0            0       0       0       0       0       0  \n",
       "\n",
       "[5 rows x 57 columns]"
      ]
     },
     "execution_count": 42,
     "metadata": {},
     "output_type": "execute_result"
    }
   ],
   "source": [
    "new_total[new_total[\"Kilometers_Driven\"]>400000]"
   ]
  },
  {
   "cell_type": "code",
   "execution_count": 43,
   "metadata": {},
   "outputs": [],
   "source": [
    "new_total.drop(212,inplace=True)\n",
    "new_total.drop(671,inplace=True)\n",
    "new_total.drop(1884,inplace=True)\n",
    "new_total.drop(3927,inplace=True)\n",
    "new_total.drop(3945,inplace=True)\n",
    "\n",
    "price.drop(212,inplace=True)\n",
    "price.drop(671,inplace=True)\n",
    "price.drop(1884,inplace=True)\n",
    "price.drop(3927,inplace=True)\n",
    "price.drop(3945,inplace=True)"
   ]
  },
  {
   "cell_type": "code",
   "execution_count": 44,
   "metadata": {},
   "outputs": [
    {
     "data": {
      "text/plain": [
       "<matplotlib.axes._subplots.AxesSubplot at 0x1f66d669708>"
      ]
     },
     "execution_count": 44,
     "metadata": {},
     "output_type": "execute_result"
    },
    {
     "data": {
      "image/png": "[encoded data removed]",
      "text/plain": [
       "<Figure size 432x288 with 1 Axes>"
      ]
     },
     "metadata": {
      "needs_background": "light"
     },
     "output_type": "display_data"
    }
   ],
   "source": [
    "sns.boxplot(new_total[\"Kilometers_Driven\"])"
   ]
  },
  {
   "cell_type": "code",
   "execution_count": 45,
   "metadata": {},
   "outputs": [
    {
     "data": {
      "text/plain": [
       "count      5963.000000\n",
       "mean      56009.993795\n",
       "std       31896.766515\n",
       "min         171.000000\n",
       "25%       36000.000000\n",
       "50%       55000.000000\n",
       "75%       69000.000000\n",
       "max      299322.000000\n",
       "Name: Kilometers_Driven, dtype: float64"
      ]
     },
     "execution_count": 45,
     "metadata": {},
     "output_type": "execute_result"
    }
   ],
   "source": [
    "new_total[\"Kilometers_Driven\"].describe()"
   ]
  },
  {
   "cell_type": "code",
   "execution_count": 46,
   "metadata": {},
   "outputs": [],
   "source": [
    "km_bin = [0,30000,60000,90000,120000,150000,200000,300000]\n",
    "km_lab = [\"before_30000\",\"before_60000\",\"before_90000\",\"before_120000\",\"before_150000\",\"before_200000\",\"before_300000\"]\n",
    "km_cats = pd.cut(new_total[\"Kilometers_Driven\"],km_bin,labels=km_lab)\n",
    "new_total[\"Km_cats\"] = km_cats"
   ]
  },
  {
   "cell_type": "code",
   "execution_count": 47,
   "metadata": {},
   "outputs": [],
   "source": [
    "dist_bin = [0,10000,20000,25000,30000,35000,40000,45000,50000,55000,60000,65000,70000,75000,80000,90000,100000,200000,800000]\n",
    "lab = []\n",
    "for bin in range(len(dist_bin)-1):\n",
    "    lab.append(str(dist_bin[bin]))\n",
    "cats = pd.cut(new_total[\"Kilometers_Driven\"],dist_bin,labels=lab)\n",
    "total[\"Km_cats2\"] = cats"
   ]
  },
  {
   "cell_type": "markdown",
   "metadata": {},
   "source": [
    "# 15. Seat 0 data drop "
   ]
  },
  {
   "cell_type": "code",
   "execution_count": 48,
   "metadata": {},
   "outputs": [],
   "source": [
    "new_total.drop(1509,inplace=True)\n",
    "price.drop(1509,inplace=True)"
   ]
  },
  {
   "cell_type": "markdown",
   "metadata": {},
   "source": [
    "# 16. Seat one-hot"
   ]
  },
  {
   "cell_type": "code",
   "execution_count": 49,
   "metadata": {},
   "outputs": [],
   "source": [
    "new_total2 = pd.concat([new_total,pd.get_dummies(new_total[\"Seats\"],prefix=\"seat\")],axis=1)"
   ]
  },
  {
   "cell_type": "markdown",
   "metadata": {},
   "source": [
    "# 17. Engine cats"
   ]
  },
  {
   "cell_type": "code",
   "execution_count": 50,
   "metadata": {},
   "outputs": [],
   "source": [
    "e_bin = [0,500,1000,2000,3000,4000,5000,6000]\n",
    "e_lab = [\"e1\",\"e2\",\"e3\",\"e4\",\"e5\",\"e6\",\"e7\"]\n",
    "e_cats = pd.cut(new_total2[\"Engine\"],e_bin,labels=e_lab)\n",
    "new_total2[\"En_cats\"] = e_cats"
   ]
  },
  {
   "cell_type": "code",
   "execution_count": 51,
   "metadata": {},
   "outputs": [],
   "source": [
    "CC_bin = [-1,500,1000,1300,1600,2000,2500,3000,6000]\n",
    "CC_lab = [\"N\",\"m1\",\"m2\",\"m3\",\"m4\",\"m5\",\"m6\",\"m7\"]\n",
    "CC_cats = pd.cut(new_total2[\"Engine\"],CC_bin,labels=CC_lab)\n",
    "new_total2[\"En_cats2\"] = CC_cats"
   ]
  },
  {
   "cell_type": "markdown",
   "metadata": {},
   "source": [
    "# 18. Power cats"
   ]
  },
  {
   "cell_type": "code",
   "execution_count": 52,
   "metadata": {},
   "outputs": [],
   "source": [
    "p_bin = [0,50,80,120,200,300,400,561]\n",
    "p_lab = [\"p1\",\"p2\",\"p3\",\"p4\",\"p5\",\"p6\",\"p7\"]\n",
    "p_cats = pd.cut(new_total2[\"Power\"],p_bin,labels=p_lab)\n",
    "new_total2[\"P_cats\"] = p_cats"
   ]
  },
  {
   "cell_type": "markdown",
   "metadata": {},
   "source": [
    "# 19. Mileage cats"
   ]
  },
  {
   "cell_type": "code",
   "execution_count": 53,
   "metadata": {},
   "outputs": [],
   "source": [
    "m_bin = [0,6,12,15,18,21,24,34]\n",
    "m_lab = [\"m1\",\"m2\",\"m3\",\"m4\",\"m5\",\"m6\",\"m7\"]\n",
    "m_cats = pd.cut(new_total2[\"Mileage\"],m_bin,labels=m_lab)\n",
    "new_total2[\"M_cats\"] = m_cats"
   ]
  },
  {
   "cell_type": "code",
   "execution_count": 54,
   "metadata": {},
   "outputs": [],
   "source": [
    "Mi_bin = [-1,11,14,16,17,19,20,23,26,35]\n",
    "Mi_lab = [\"N\",\"a\",\"b\",\"c\",\"d\",\"e\",\"f\",\"h\",\"i\"]\n",
    "Mi_cats = pd.cut(new_total2[\"Mileage\"],Mi_bin,labels=Mi_lab)\n",
    "new_total2[\"Mi_cats\"] = Mi_cats"
   ]
  },
  {
   "cell_type": "markdown",
   "metadata": {},
   "source": [
    "# 20. Year cats"
   ]
  },
  {
   "cell_type": "code",
   "execution_count": 55,
   "metadata": {},
   "outputs": [],
   "source": [
    "new_total2[\"Age\"] = 2020-new_total2[\"Year\"]"
   ]
  },
  {
   "cell_type": "code",
   "execution_count": 56,
   "metadata": {},
   "outputs": [],
   "source": [
    "AGE_bin = [0,2,3,4,5,6,8,10,15,23]\n",
    "AGE_lab = [\"2year\",\"3year\",\"4year\",\"5year\",\"6year\",\"8year\",\"10year\",\"15year\",\"23year\",]\n",
    "AGE_cats = pd.cut(new_total2[\"Age\"],AGE_bin,labels=AGE_lab)\n",
    "new_total2[\"AGE_cats\"] = AGE_cats"
   ]
  },
  {
   "cell_type": "markdown",
   "metadata": {},
   "source": [
    "# 21. Fuel_Type2"
   ]
  },
  {
   "cell_type": "code",
   "execution_count": 57,
   "metadata": {},
   "outputs": [],
   "source": [
    "fuel_dic={\n",
    "    'CNG':'LPG',\n",
    "    'LPG':'LPG',\n",
    "    'Diesel':'Diesel',\n",
    "    'Petrol':'Petrol'   \n",
    "}\n",
    "new_total2[\"Fuel_Type2\"] = new_total2[\"Fuel_Type\"].map(fuel_dic)"
   ]
  },
  {
   "cell_type": "code",
   "execution_count": 58,
   "metadata": {},
   "outputs": [],
   "source": [
    "new_total2[\"Loc_mean_price\"].fillna(new_total2[\"Loc_mean_price\"].mean(),inplace=True)"
   ]
  },
  {
   "cell_type": "code",
   "execution_count": 59,
   "metadata": {},
   "outputs": [],
   "source": [
    "save_data = new_total2.copy()\n",
    "#del save_data[\"Name\"],save_data[\"LARGE_NAME\"]\n",
    "덤 = pd.get_dummies(save_data)\n",
    "scaler = MinMaxScaler()\n",
    "scaled_data = scaler.fit_transform(덤)\n",
    "scaled_data = pd.DataFrame(scaled_data,columns=덤.columns)"
   ]
  },
  {
   "cell_type": "code",
   "execution_count": 60,
   "metadata": {},
   "outputs": [],
   "source": [
    "tr = scaled_data.iloc[:-1019,:]\n",
    "te = scaled_data.iloc[-1019:,:]\n",
    "X_tr, X_te, y_tr, y_te = train_test_split(tr,price,random_state=1910,test_size=0.3)"
   ]
  },
  {
   "cell_type": "markdown",
   "metadata": {},
   "source": [
    "# Modeling using MLP"
   ]
  },
  {
   "cell_type": "code",
   "execution_count": 61,
   "metadata": {},
   "outputs": [],
   "source": [
    "from sklearn.neural_network import MLPRegressor"
   ]
  },
  {
   "cell_type": "code",
   "execution_count": 63,
   "metadata": {},
   "outputs": [
    {
     "name": "stdout",
     "output_type": "stream",
     "text": [
      "Iteration 1, loss = 61.05924077\n",
      "Iteration 2, loss = 15.62360994\n",
      "Iteration 3, loss = 6.66226148\n",
      "Iteration 4, loss = 4.41361491\n",
      "Iteration 5, loss = 3.01087311\n",
      "Iteration 6, loss = 2.21609132\n",
      "Iteration 7, loss = 1.65370330\n",
      "Iteration 8, loss = 1.25894944\n",
      "Iteration 9, loss = 1.06974327\n",
      "Iteration 10, loss = 0.99411864\n",
      "Iteration 11, loss = 0.78165823\n",
      "Iteration 12, loss = 0.67943153\n",
      "Iteration 13, loss = 0.56341435\n",
      "Iteration 14, loss = 0.46713327\n",
      "Iteration 15, loss = 0.36538951\n",
      "Iteration 16, loss = 0.31315004\n",
      "Iteration 17, loss = 0.25684259\n",
      "Iteration 18, loss = 0.21152213\n",
      "Iteration 19, loss = 0.20945007\n",
      "Iteration 20, loss = 0.17284766\n",
      "Iteration 21, loss = 0.16380220\n",
      "Iteration 22, loss = 0.15876612\n",
      "Iteration 23, loss = 0.17573231\n",
      "Iteration 24, loss = 0.20485838\n",
      "Iteration 25, loss = 0.19572691\n",
      "Iteration 26, loss = 0.18121034\n",
      "Iteration 27, loss = 0.15421844\n",
      "Iteration 28, loss = 0.15149583\n",
      "Iteration 29, loss = 0.16886045\n",
      "Iteration 30, loss = 0.19913168\n",
      "Iteration 31, loss = 0.21110662\n",
      "Iteration 32, loss = 0.30550714\n",
      "Iteration 33, loss = 0.27663101\n",
      "Iteration 34, loss = 0.28517691\n",
      "Iteration 35, loss = 0.26331185\n",
      "Iteration 36, loss = 0.25000112\n",
      "Iteration 37, loss = 0.22420646\n",
      "Iteration 38, loss = 0.24109890\n",
      "Iteration 39, loss = 0.20005474\n",
      "Training loss did not improve more than tol=0.000100 for 10 consecutive epochs. Stopping.\n"
     ]
    }
   ],
   "source": [
    "model = MLPRegressor(\n",
    "    hidden_layer_sizes=(1024,512,256,128,64,32),\n",
    "    activation='relu',\n",
    "    solver='adam',\n",
    "    alpha=0.0001,\n",
    "    batch_size='auto',\n",
    "    learning_rate='constant',\n",
    "    learning_rate_init=0.001,\n",
    "    power_t=0.5,\n",
    "    max_iter=1000,\n",
    "    shuffle=True,\n",
    "    random_state=2000,\n",
    "    tol=0.0001,\n",
    "    verbose=True,\n",
    "    warm_start=False,\n",
    "    momentum=0.9,\n",
    "    nesterovs_momentum=True,\n",
    "    early_stopping=False,\n",
    "    validation_fraction=0.1,\n",
    "    beta_1=0.9,\n",
    "    beta_2=0.999,\n",
    "    epsilon=1e-08,\n",
    "    n_iter_no_change=10,\n",
    ").fit(tr,price)"
   ]
  },
  {
   "cell_type": "code",
   "execution_count": 64,
   "metadata": {},
   "outputs": [],
   "source": [
    "sub = pd.read_csv(\"../data/sampleSubmission.csv\",index_col=\"ID\")\n",
    "sub[\"Price\"] = model.predict(te)\n",
    "sub.to_csv(\"../sub/no_usa_sky.csv\")"
   ]
  },
  {
   "cell_type": "code",
   "execution_count": 67,
   "metadata": {},
   "outputs": [
    {
     "data": {
      "text/plain": [
       "0        1.450000\n",
       "1       11.970000\n",
       "2        2.640000\n",
       "3        6.950000\n",
       "4       15.250000\n",
       "          ...    \n",
       "5957     6.475801\n",
       "5958     7.954255\n",
       "5959     6.017998\n",
       "5960     6.329515\n",
       "5961     3.443946\n",
       "Name: Price, Length: 5962, dtype: float64"
      ]
     },
     "execution_count": 67,
     "metadata": {},
     "output_type": "execute_result"
    }
   ],
   "source": [
    "new_p = pd.concat([price,sub[\"Price\"]])\n",
    "new_p.reset_index(drop=True)"
   ]
  },
  {
   "cell_type": "code",
   "execution_count": 65,
   "metadata": {},
   "outputs": [
    {
     "name": "stdout",
     "output_type": "stream",
     "text": [
      "Iteration 1, loss = 51.61211694\n",
      "Iteration 2, loss = 10.78058887\n",
      "Iteration 3, loss = 4.70612359\n",
      "Iteration 4, loss = 4.49881767\n",
      "Iteration 5, loss = 2.47242683\n",
      "Iteration 6, loss = 1.54914939\n",
      "Iteration 7, loss = 1.11877628\n",
      "Iteration 8, loss = 1.05260401\n",
      "Iteration 9, loss = 0.90481053\n",
      "Iteration 10, loss = 0.99553067\n",
      "Iteration 11, loss = 0.79057095\n",
      "Iteration 12, loss = 0.65652037\n",
      "Iteration 13, loss = 0.45087838\n",
      "Iteration 14, loss = 0.43578357\n",
      "Iteration 15, loss = 0.40146584\n",
      "Iteration 16, loss = 0.33131037\n",
      "Iteration 17, loss = 0.29518006\n",
      "Iteration 18, loss = 0.30826696\n",
      "Iteration 19, loss = 0.28078202\n",
      "Iteration 20, loss = 0.40943199\n",
      "Iteration 21, loss = 0.46506556\n",
      "Iteration 22, loss = 0.41079558\n",
      "Iteration 23, loss = 0.45102345\n",
      "Iteration 24, loss = 0.32789247\n",
      "Iteration 25, loss = 0.41758037\n",
      "Iteration 26, loss = 0.37809283\n",
      "Iteration 27, loss = 0.36861680\n",
      "Iteration 28, loss = 0.36405593\n",
      "Iteration 29, loss = 0.25227068\n",
      "Iteration 30, loss = 0.18846871\n",
      "Iteration 31, loss = 0.17255713\n",
      "Iteration 32, loss = 0.19177097\n",
      "Iteration 33, loss = 0.19186940\n",
      "Iteration 34, loss = 0.19667967\n",
      "Iteration 35, loss = 0.73748241\n",
      "Iteration 36, loss = 0.73537533\n",
      "Iteration 37, loss = 0.93254700\n",
      "Iteration 38, loss = 1.19913916\n",
      "Iteration 39, loss = 0.70999630\n",
      "Iteration 40, loss = 0.31176106\n",
      "Iteration 41, loss = 0.18909202\n",
      "Iteration 42, loss = 0.15026713\n",
      "Iteration 43, loss = 0.10778640\n",
      "Iteration 44, loss = 0.11707536\n",
      "Iteration 45, loss = 0.10465943\n",
      "Iteration 46, loss = 0.21315332\n",
      "Iteration 47, loss = 0.19934599\n",
      "Iteration 48, loss = 0.13673378\n",
      "Iteration 49, loss = 0.12554406\n",
      "Iteration 50, loss = 0.13742590\n",
      "Iteration 51, loss = 0.14373601\n",
      "Iteration 52, loss = 0.14938346\n",
      "Iteration 53, loss = 0.09982965\n",
      "Iteration 54, loss = 0.08044782\n",
      "Iteration 55, loss = 0.07656373\n",
      "Iteration 56, loss = 0.07829167\n",
      "Iteration 57, loss = 0.07626120\n",
      "Iteration 58, loss = 0.06773355\n",
      "Iteration 59, loss = 0.07783376\n",
      "Iteration 60, loss = 0.11162371\n",
      "Iteration 61, loss = 0.10779325\n",
      "Iteration 62, loss = 0.07255813\n",
      "Iteration 63, loss = 0.05390233\n",
      "Iteration 64, loss = 0.04987328\n",
      "Iteration 65, loss = 0.05342983\n",
      "Iteration 66, loss = 0.07343047\n",
      "Iteration 67, loss = 0.09534044\n",
      "Iteration 68, loss = 0.20471616\n",
      "Iteration 69, loss = 0.20665739\n",
      "Iteration 70, loss = 0.61294973\n",
      "Iteration 71, loss = 0.99339019\n",
      "Iteration 72, loss = 0.87345223\n",
      "Iteration 73, loss = 0.83533762\n",
      "Iteration 74, loss = 0.43300956\n",
      "Iteration 75, loss = 0.18668019\n",
      "Training loss did not improve more than tol=0.000100 for 10 consecutive epochs. Stopping.\n"
     ]
    }
   ],
   "source": [
    "model = MLPRegressor(\n",
    "    hidden_layer_sizes=(1024,1024,512,256,128,64,32),\n",
    "    activation='relu',\n",
    "    solver='adam',\n",
    "    alpha=0.0001,\n",
    "    batch_size='auto',\n",
    "    learning_rate='constant',\n",
    "    learning_rate_init=0.001,\n",
    "    power_t=0.5,\n",
    "    max_iter=1000,\n",
    "    shuffle=True,\n",
    "    random_state=2000,\n",
    "    tol=0.0001,\n",
    "    verbose=True,\n",
    "    warm_start=False,\n",
    "    momentum=0.9,\n",
    "    nesterovs_momentum=True,\n",
    "    early_stopping=False,\n",
    "    validation_fraction=0.1,\n",
    "    beta_1=0.9,\n",
    "    beta_2=0.999,\n",
    "    epsilon=1e-08,\n",
    "    n_iter_no_change=10,\n",
    ").fit(tr,price)"
   ]
  },
  {
   "cell_type": "code",
   "execution_count": 66,
   "metadata": {},
   "outputs": [],
   "source": [
    "sub = pd.read_csv(\"../data/sampleSubmission.csv\",index_col=\"ID\")\n",
    "sub[\"Price\"] = model.predict(te)\n",
    "sub.to_csv(\"../sub/no_usa_sky2.csv\")"
   ]
  },
  {
   "cell_type": "code",
   "execution_count": null,
   "metadata": {},
   "outputs": [],
   "source": []
  }
 ],
 "metadata": {
  "kernelspec": {
   "display_name": "Python 3",
   "language": "python",
   "name": "python3"
  },
  "language_info": {
   "codemirror_mode": {
    "name": "ipython",
    "version": 3
   },
   "file_extension": ".py",
   "mimetype": "text/x-python",
   "name": "python",
   "nbconvert_exporter": "python",
   "pygments_lexer": "ipython3",
   "version": "3.7.4"
  }
 },
 "nbformat": 4,
 "nbformat_minor": 2
}
